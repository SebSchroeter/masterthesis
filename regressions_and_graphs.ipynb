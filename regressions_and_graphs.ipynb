{
 "cells": [
  {
   "cell_type": "code",
   "execution_count": 96,
   "metadata": {},
   "outputs": [
    {
     "name": "stdout",
     "output_type": "stream",
     "text": [
      "The autoreload extension is already loaded. To reload it, use:\n",
      "  %reload_ext autoreload\n"
     ]
    }
   ],
   "source": [
    "\n",
    "%load_ext autoreload\n",
    "%autoreload 2\n",
    "import pandas as pd \n",
    "import numpy as np\n",
    "import os \n",
    "import glob\n",
    "import ast \n",
    "from ast import literal_eval\n",
    "from government_functions import * \n",
    "import warnings\n",
    "warnings.formatwarning = lambda msg, *args, **kwargs: f'{msg}\\n'\n",
    "import statsmodels.api as sm \n",
    "import matplotlib.pyplot as plt\n"
   ]
  },
  {
   "cell_type": "code",
   "execution_count": null,
   "metadata": {},
   "outputs": [],
   "source": [
    "final_df=pd.read_excel('results/complete_dataframe.xlsx',index_col=0)\n",
    "special_cases= []\n",
    "for csv_file in glob.glob(os.path.join('government/','*.csv')): \n",
    "    file= os.path.basename(csv_file)\n",
    "    countryname,_=os.path.splitext(file)\n",
    "    #create country government dataframe\n",
    "    df=process_gov_csv(csv_file)\n",
    "    #grab part of final_df that is relevant for the country\n",
    "    country_df=final_df[[col for col in final_df.columns if col.startswith(countryname)]] #this is case sensitive... \n",
    "    elections=country_df.columns.to_numpy() # list of elections in the country\n",
    "    election_period_dict=match_ministries_and_elections(countryname,elections,df)\n",
    "    #subset election_df's for only the first (probable) set of appointed ministers in an election period (initial government) --> see function description and text \n",
    "    government_dict,edge_cases=starting_gov_dict(election_period_dict,countryname)\n",
    "    special_cases.extend(edge_cases)\n",
    "    ##loop over all election periods: ##\n",
    "    for date,dataframe in government_dict.items():\n",
    "        if not dataframe.empty:\n",
    "            party_str=country_df.at['parties',f'{countryname}{date}']\n",
    "            parties=ast.literal_eval(party_str) # parses string to list  \n",
    "            #create dicts\n",
    "            ministry_dict,unweighted_dict,weighted_dict=get_ministry_dicts(dataframe,parties) \n",
    "            fuzzy_ministry_dict,fuzzy_unweighted_dict,fuzzy_weighted_dict=get_fuzzy_ministry_dicts(dataframe,parties) \n",
    "            #translate dicts into lists / arrays corrosponding to the party list     \n",
    "            ministy_list=[]\n",
    "            fuzzy_min_list=[]\n",
    "            unweighted_array=np.zeros(len(parties))  \n",
    "            weighted_array=np.zeros(len(parties))\n",
    "            fuzzy_unweighted_array=np.zeros(len(parties))  \n",
    "            fuzzy_weighted_array=np.zeros(len(parties))  \n",
    "            for i,(party,value) in enumerate(ministry_dict.items()): \n",
    "                ministy_list.append(value)\n",
    "            for i,(party,value) in enumerate(unweighted_dict.items()):\n",
    "                unweighted_array[i]=value\n",
    "            for i,(party,value) in enumerate(weighted_dict.items()):\n",
    "                weighted_array[i]=value\n",
    "            for i,(party,value) in enumerate(fuzzy_ministry_dict.items()): \n",
    "                fuzzy_min_list.append(value)\n",
    "            for i,(party,value) in enumerate(fuzzy_unweighted_dict.items()):\n",
    "                fuzzy_unweighted_array[i]=value\n",
    "            for i,(party,value) in enumerate(fuzzy_weighted_dict.items()):\n",
    "                fuzzy_weighted_array[i]=value    \n",
    "            #write country name: \n",
    "            if 'Country' not in final_df.index: \n",
    "                final_df.loc['Country']=[np.nan] * len(final_df.columns)  \n",
    "            final_df.at['Country',f'{countryname}{date}']= countryname\n",
    "            # write list/arrays to final_df:\n",
    "            if 'Ministers' not in final_df.index: \n",
    "                final_df.loc['Ministers']=[np.nan] * len(final_df.columns)   \n",
    "            if 'unweighted' not in final_df.index: \n",
    "                final_df.loc['unweighted']=[np.nan] * len(final_df.columns)   \n",
    "            if 'weighted' not in final_df.index: \n",
    "                final_df.loc['weighted']=[np.nan] * len(final_df.columns) \n",
    "            final_df.at['Ministers',f'{countryname}{date}']=ministy_list\n",
    "            final_df.at['unweighted',f'{countryname}{date}']=unweighted_array\n",
    "            final_df.at['weighted',f'{countryname}{date}']=weighted_array \n",
    "            \n",
    "            # write fuzzy list/arrays to final_df:\n",
    "            if 'fuzzy_Ministers' not in final_df.index: \n",
    "                final_df.loc['fuzzy_Ministers']=[np.nan] * len(final_df.columns)   \n",
    "            if 'fuzzy_unweighted' not in final_df.index: \n",
    "                final_df.loc['fuzzy_unweighted']=[np.nan] * len(final_df.columns)   \n",
    "            if 'fuzzy_weighted' not in final_df.index: \n",
    "                final_df.loc['fuzzy_weighted']=[np.nan] * len(final_df.columns) \n",
    "            final_df.at['fuzzy_Ministers',f'{countryname}{date}']=fuzzy_min_list\n",
    "            final_df.at['fuzzy_unweighted',f'{countryname}{date}']=fuzzy_unweighted_array\n",
    "            final_df.at['fuzzy_weighted',f'{countryname}{date}']=fuzzy_weighted_array \n",
    "\n"
   ]
  },
  {
   "cell_type": "markdown",
   "metadata": {},
   "source": [
    "## Monte Carlo Study of Formateurs"
   ]
  },
  {
   "cell_type": "markdown",
   "metadata": {},
   "source": [
    "This code aims to introduce two dummy variables per parliament,indicating who would be formateur, if formateurs where either drawn with equal probability across parties or with probabilities proportional to their seat share. "
   ]
  },
  {
   "cell_type": "code",
   "execution_count": 73,
   "metadata": {},
   "outputs": [],
   "source": [
    "#subset relevant indices \n",
    "rel_indices= ['mvws','Seats','unweighted']\n",
    "df=final_df.loc[rel_indices]\n"
   ]
  },
  {
   "cell_type": "code",
   "execution_count": 75,
   "metadata": {},
   "outputs": [],
   "source": [
    "def normalize_lists(list): \n",
    "    ##function to convert str to list where necessary and then normalize values \n",
    "    if isinstance (list,str): \n",
    "        list = ast.literal_eval(list)\n",
    "    vec= np.array(list, dtype=float)\n",
    "    normal_vec=vec/vec.sum()\n",
    "    return normal_vec"
   ]
  },
  {
   "cell_type": "code",
   "execution_count": 74,
   "metadata": {},
   "outputs": [
    {
     "name": "stderr",
     "output_type": "stream",
     "text": [
      "invalid value encountered in divide\n"
     ]
    }
   ],
   "source": [
    "#apply normalize_lists to all indices \n",
    "for col in df.columns: \n",
    "    df.at['mvws',col]= normalize_lists(df.at['mvws',col])\n",
    "    df.at['Seats',col]= normalize_lists(df.at['Seats',col])\n",
    "    df.at['unweighted',col]= normalize_lists(df.at['unweighted',col])"
   ]
  },
  {
   "cell_type": "code",
   "execution_count": 76,
   "metadata": {},
   "outputs": [],
   "source": [
    "def draw_formateurs(seats): \n",
    "    ## draws a random formateur party, once following a proportional chance from the seats and once following a uniform distribution. \n",
    "    ## inputs a list of seats \n",
    "    ## outputs 2 lists\n",
    "    \n",
    "    # ensure probabiltiy form \n",
    "    seats = np.array(seats)/np.sum(seats)\n",
    "    \n",
    "    #position of formateur: \n",
    "    index_proportional = np.random.choice(range(len(seats)),p=seats) \n",
    "    index_uniform = np.random.choice(range(len(seats))) \n",
    "    \n",
    "    #generate dummy variable lists\n",
    "    proportional_list = [0]*len(seats)\n",
    "    uniform_list=[0]*len(seats)\n",
    "    proportional_list[index_proportional] = 1\n",
    "    uniform_list[index_uniform] = 1 \n",
    "    return proportional_list,uniform_list"
   ]
  },
  {
   "cell_type": "code",
   "execution_count": 81,
   "metadata": {},
   "outputs": [],
   "source": [
    "def ols_data_collection(df): \n",
    "    seat_list = []\n",
    "    mvw_list = []\n",
    "    prop_formateur_list = []\n",
    "    uniform_formateur_list = []\n",
    "    unweighted_ministries_list = []\n",
    "    # draw formateur status and collect variables \n",
    "    for col in df.columns: \n",
    "        seats = df.loc['Seats',col]\n",
    "        mvws = df.loc['mvws',col]\n",
    "        if not np.any(np.isclose(mvws,1)): #check for absolute majoritys: \n",
    "            ministry_list= df.loc['unweighted',col]  \n",
    "            if not np.any(np.isclose(ministry_list,1)) and np.sum(ministry_list)>0 : #check for (singly party) minority governments and empty entries: \n",
    "                proportional_list,uniform_list= draw_formateurs(seats)\n",
    "                seat_list.extend(seats)\n",
    "                mvw_list.extend(mvws)\n",
    "                unweighted_ministries_list.extend(ministry_list)\n",
    "                prop_formateur_list.extend(proportional_list)\n",
    "                uniform_formateur_list.extend(uniform_list)\n",
    "    return seat_list,mvw_list,prop_formateur_list,uniform_formateur_list,unweighted_ministries_list"
   ]
  },
  {
   "cell_type": "code",
   "execution_count": 104,
   "metadata": {},
   "outputs": [],
   "source": [
    "def monte_carlo(df,num=500, do_print= False): \n",
    "    results_proportional= []\n",
    "    results_uniform= []\n",
    "    a=0\n",
    "    while a in range(num): \n",
    "        seat_list,mvw_list,prop_formateur_list,uniform_formateur_list,unweighted_ministries_list = ols_data_collection(df)\n",
    "        # ols \n",
    "        X_proportional = np.column_stack((mvw_list,prop_formateur_list)) # create design-matrix \n",
    "        X_proportional = sm.add_constant(X_proportional) \n",
    "        X_uniform = np.column_stack((mvw_list,uniform_formateur_list))\n",
    "        X_uniform = sm.add_constant(X_uniform)\n",
    "        Y = np.array(unweighted_ministries_list)\n",
    "        proportional_model = sm.regression.linear_model.OLS(Y,X_proportional,missing='drop').fit()\n",
    "        uniform_model = sm.regression.linear_model.OLS(Y,X_uniform,missing='drop').fit()\n",
    "        if a % 100 == 0 and do_print: \n",
    "            print(proportional_model.summary())\n",
    "        results_proportional.append({            \n",
    "            'params': proportional_model.params,\n",
    "            'p*': proportional_model.pvalues,\n",
    "            'r^2': proportional_model.rsquared,})\n",
    "        results_uniform.append({            \n",
    "            'params': uniform_model.params,\n",
    "            'p*': uniform_model.pvalues,\n",
    "            'r^2': uniform_model.rsquared,})\n",
    "        #if do_print: print(a)\n",
    "        a += 1\n",
    "    return results_proportional,results_uniform\n",
    "        \n"
   ]
  },
  {
   "cell_type": "code",
   "execution_count": 107,
   "metadata": {},
   "outputs": [],
   "source": [
    "results_proportional,results_uniform = monte_carlo(df,num=5000,do_print=False)"
   ]
  },
  {
   "cell_type": "code",
   "execution_count": 108,
   "metadata": {},
   "outputs": [
    {
     "data": {
      "image/png": "[encoded data removed]",
      "text/plain": [
       "<Figure size 1000x400 with 2 Axes>"
      ]
     },
     "metadata": {},
     "output_type": "display_data"
    }
   ],
   "source": [
    "mvw_values_proportional = [result['params'][1] for result in results_proportional]\n",
    "mvw_values_uniform = [result['params'][1] for result in results_uniform]\n",
    "\n",
    "# Plot histogram for 'mvw' parameter in proportional models\n",
    "plt.figure(figsize=(10, 4))\n",
    "plt.subplot(1, 2, 1)  # 1 row, 2 columns, 1st subplot\n",
    "plt.hist(mvw_values_proportional, bins=20, color='blue', edgecolor='black')\n",
    "plt.title('Proportional Model: mvw Parameter')\n",
    "plt.xlabel('Parameter Value')\n",
    "plt.ylabel('Frequency')\n",
    "\n",
    "# Plot histogram for 'mvw' parameter in uniform models\n",
    "plt.subplot(1, 2, 2)  # 1 row, 2 columns, 2nd subplot\n",
    "plt.hist(mvw_values_uniform, bins=20, color='green', edgecolor='black')\n",
    "plt.title('Uniform Model: mvw Parameter')\n",
    "plt.xlabel('Parameter Value')\n",
    "plt.ylabel('Frequency')\n",
    "\n",
    "plt.tight_layout()  # Adjust layout to not overlap\n",
    "plt.show()\n"
   ]
  },
  {
   "cell_type": "code",
   "execution_count": 109,
   "metadata": {},
   "outputs": [
    {
     "data": {
      "image/png": "[encoded data removed]",
      "text/plain": [
       "<Figure size 1000x400 with 2 Axes>"
      ]
     },
     "metadata": {},
     "output_type": "display_data"
    }
   ],
   "source": [
    "formateur_values_proportional = [result['params'][2] for result in results_proportional]\n",
    "formateur_values_uniform = [result['params'][2] for result in results_uniform]\n",
    "\n",
    "# Plot histogram for 'mvw' parameter in proportional models\n",
    "plt.figure(figsize=(10, 4))\n",
    "plt.subplot(1, 2, 1)  # 1 row, 2 columns, 1st subplot\n",
    "plt.hist(formateur_values_proportional, bins=20, color='blue', edgecolor='black')\n",
    "plt.title('Proportional Model: formateur Parameter')\n",
    "plt.xlabel('Parameter Value')\n",
    "plt.ylabel('Frequency')\n",
    "\n",
    "# Plot histogram for 'mvw' parameter in uniform models\n",
    "plt.subplot(1, 2, 2)  # 1 row, 2 columns, 2nd subplot\n",
    "plt.hist(formateur_values_uniform, bins=20, color='green', edgecolor='black')\n",
    "plt.title('Uniform Model: formateur Parameter')\n",
    "plt.xlabel('Parameter Value')\n",
    "plt.ylabel('Frequency')\n",
    "\n",
    "plt.tight_layout()  # Adjust layout to not overlap\n",
    "plt.show()\n"
   ]
  },
  {
   "cell_type": "code",
   "execution_count": 111,
   "metadata": {},
   "outputs": [
    {
     "name": "stdout",
     "output_type": "stream",
     "text": [
      "Proportional model p-value percentages for the formateur coefficient:\n",
      "{'<0.01': 12.98, '<0.05': 23.9, '<0.1': 32.22}\n",
      "Uniform model p-value percentages for the formateur coefficient:\n",
      "{'<0.01': 3.34, '<0.05': 10.74, '<0.1': 17.580000000000002}\n"
     ]
    }
   ],
   "source": [
    "# Initialize p value counters\n",
    "ten_percent_prop = 0\n",
    "five_percent_prop = 0\n",
    "one_percent_prop = 0\n",
    "\n",
    "ten_percent_uniform = 0\n",
    "five_percent_uniform = 0\n",
    "one_percent_uniform = 0\n",
    "\n",
    "### proportional formateur estiamtes ####\n",
    "for result in results_proportional:\n",
    "    pvalue = result['p*'][-1]  # Accessing the last p-value, corresponding to the formateur coefficient\n",
    "    if pvalue < 0.01:\n",
    "        one_percent_prop += 1\n",
    "        five_percent_prop += 1  \n",
    "        ten_percent_prop += 1  \n",
    "    elif pvalue < 0.05:\n",
    "        five_percent_prop += 1\n",
    "        ten_percent_prop += 1\n",
    "    elif pvalue < 0.1:\n",
    "        ten_percent_prop += 1\n",
    "### uniform formateur estimates #####\n",
    "for result in results_uniform:\n",
    "    pvalue = result['p*'][-1] \n",
    "    if pvalue < 0.01:\n",
    "        one_percent_uniform += 1\n",
    "        five_percent_uniform += 1 \n",
    "        ten_percent_uniform += 1  \n",
    "    elif pvalue < 0.05:\n",
    "        five_percent_uniform += 1\n",
    "        ten_percent_uniform += 1\n",
    "    elif pvalue < 0.1:\n",
    "        ten_percent_uniform += 1\n",
    "\n",
    "# Calculate percentages\n",
    "total_results = len(results_proportional)\n",
    "percentages_proportional = {\n",
    "    '<0.01': (one_percent_prop / total_results) * 100,\n",
    "    '<0.05': (five_percent_prop / total_results) * 100,\n",
    "    '<0.1': (ten_percent_prop / total_results) * 100,\n",
    "}\n",
    "\n",
    "percentages_uniform = {\n",
    "    '<0.01': (one_percent_uniform / total_results) * 100,\n",
    "    '<0.05': (five_percent_uniform / total_results) * 100,\n",
    "    '<0.1': (ten_percent_uniform / total_results) * 100,\n",
    "}\n",
    "\n",
    "# Print\n",
    "print(\"Proportional model p-value percentages for the formateur coefficient:\")\n",
    "print(percentages_proportional)\n",
    "print(\"Uniform model p-value percentages for the formateur coefficient:\")\n",
    "print(percentages_uniform)\n"
   ]
  },
  {
   "cell_type": "markdown",
   "metadata": {},
   "source": [
    "## Export to R "
   ]
  },
  {
   "cell_type": "code",
   "execution_count": null,
   "metadata": {},
   "outputs": [],
   "source": [
    "rel_indices= ['mvws','Seats','Penrose-Banzhaf','Shapely-Shubik','unweighted','weighted','Country','fuzzy_unweighted','fuzzy_weighted']\n",
    "df=final_df.loc[rel_indices]\n",
    "df=df.dropna(axis=1,how='any')\n",
    "indice=['mvws','Seats','Penrose-Banzhaf','Shapely-Shubik']\n",
    "df.loc[indice]=df.loc[indice].applymap(ast.literal_eval).applymap(np.array)\n",
    "df.loc['mvws']=df.loc['mvws'].apply(lambda x:x/np.sum(x))\n",
    "df.loc['Seats']=df.loc['Seats'].apply(lambda x:x/np.sum(x))\n",
    "df.loc['unweighted']=df.loc['unweighted'].apply(lambda x:x/np.sum(x))\n",
    "df.loc['weighted']=df.loc['weighted'].apply(lambda x:x/np.sum(x))\n",
    "df.loc['fuzzy_unweighted']=df.loc['fuzzy_unweighted'].apply(lambda x:x/np.sum(x))\n",
    "df.loc['fuzzy_weighted']=df.loc['fuzzy_weighted'].apply(lambda x:x/np.sum(x))\n"
   ]
  },
  {
   "cell_type": "code",
   "execution_count": null,
   "metadata": {},
   "outputs": [],
   "source": [
    "##exclude absolute majority parliaments: \n",
    "coal_parliaments = []\n",
    "count_absolute_majorities = 0\n",
    "for col in df.columns: \n",
    "    mvws= df.loc['mvws',col]\n",
    "    if np.any(np.isclose(mvws,1)): \n",
    "        count_absolute_majorities += 1\n",
    "    else: coal_parliaments.append(col)\n",
    "df=df[coal_parliaments]"
   ]
  },
  {
   "cell_type": "markdown",
   "metadata": {},
   "source": [
    "exclude and count number of miniority governments"
   ]
  },
  {
   "cell_type": "code",
   "execution_count": null,
   "metadata": {},
   "outputs": [],
   "source": [
    "majority_governments = []\n",
    "count_minority_governments = 0 \n",
    "for col in df.columns: \n",
    "    gov_percent= df.loc['unweighted',col]\n",
    "    \n",
    "    if np.any(np.isclose(gov_percent,1)):\n",
    "        count_minority_governments += 1  \n",
    "    else:   majority_governments.append(col)\n",
    "df=df[majority_governments]"
   ]
  },
  {
   "cell_type": "code",
   "execution_count": null,
   "metadata": {},
   "outputs": [],
   "source": [
    "long_data= []\n",
    "for col in final_df.columns: \n",
    "    try:\n",
    "        country= df[col]['Country']\n",
    "        for counting, (mvw,seats,pbs,sss,unweighted,weighted,fuzzy_unweighted,fuzzy_weighted) in enumerate(zip(df[col]['mvws'],df[col]['Seats'],df[col]['Penrose-Banzhaf'],df[col]['Shapely-Shubik'],df[col]['unweighted'],df[col]['weighted'],df[col]['fuzzy_unweighted'],df[col]['fuzzy_weighted'])): \n",
    "            long_data.append({'Parliament': col, 'Party': counting, 'mvw': mvw,'Seats':seats,'PB-I':pbs,'SS-I':sss,'unweighted_ministries':unweighted,'weighted_ministries':weighted,'fuzzy_unweighted_ministries':fuzzy_unweighted,'fuzzy_weighted_ministries':fuzzy_weighted,'Country':country})\n",
    "    except KeyError: pass        \n",
    "long_df=pd.DataFrame(long_data)"
   ]
  },
  {
   "cell_type": "code",
   "execution_count": null,
   "metadata": {},
   "outputs": [],
   "source": [
    "\"\"\" os.environ['R_HOME']=\"C:\\Program Files\\R\\R-4.3.3\"\n",
    "import rpy2.robjects as robj\n",
    "from rpy2.robjects import pandas2ri\n",
    "pandas2ri.activate()\n",
    "robj.globalenv['df_to_r']=long_df\n",
    " \"\"\"\n",
    "import pyarrow.feather as feather\n",
    "feather.write_feather(long_df,\"long_df.feather\")"
   ]
  },
  {
   "cell_type": "code",
   "execution_count": null,
   "metadata": {},
   "outputs": [],
   "source": [
    "df = pd.read_feather('long_df.feather')"
   ]
  },
  {
   "cell_type": "markdown",
   "metadata": {},
   "source": [
    "end of export "
   ]
  },
  {
   "cell_type": "code",
   "execution_count": null,
   "metadata": {},
   "outputs": [],
   "source": [
    "for name in list(globals()): \n",
    "    if name != 'final_df':\n",
    "        del globals()[name]"
   ]
  },
  {
   "cell_type": "markdown",
   "metadata": {},
   "source": [
    "## Scatter Plot Seat Share vs MVWs"
   ]
  },
  {
   "cell_type": "code",
   "execution_count": null,
   "metadata": {},
   "outputs": [],
   "source": [
    "%load_ext autoreload\n",
    "%autoreload 2\n",
    "import pandas as pd \n",
    "import numpy as np\n",
    "import ast \n",
    "from ast import literal_eval\n",
    "import matplotlib.pyplot as plt\n",
    "import seaborn as sns\n",
    "from government_functions import * \n"
   ]
  },
  {
   "cell_type": "code",
   "execution_count": null,
   "metadata": {},
   "outputs": [],
   "source": [
    "\n",
    "df=final_df.loc['mvws':'Seats']\n",
    "df=df.applymap(ast.literal_eval)\n",
    "df=df.applymap(np.array)\n",
    "df.loc['mvws']=df.loc['mvws'].apply(lambda x:x/np.sum(x))\n",
    "df.loc['Seats']=df.loc['Seats'].apply(lambda x:x/np.sum(x))\n",
    "plot_data= []\n",
    "for col in final_df.columns: \n",
    "    for counting, (mvw,seats) in enumerate(zip(df[col]['mvws'],df[col]['Seats'])): \n",
    "        plot_data.append({'Parliament': col, 'Party': counting, 'mvw': mvw,'Seats':seats})\n",
    "plot_df=pd.DataFrame(plot_data)\n",
    "    "
   ]
  },
  {
   "cell_type": "code",
   "execution_count": null,
   "metadata": {},
   "outputs": [],
   "source": [
    "plt.figure(figsize=(10,6))\n",
    "for parliament, zipped_data in plot_df.groupby('Parliament'): \n",
    "    plt.scatter(zipped_data['Seats'],zipped_data['mvw'])\n",
    "plt.xlabel('Party Weights in Parliaments (Seats)')\n",
    "plt.ylabel('Minimal Voting Weights (MVWs)')\n",
    "plt.show()"
   ]
  },
  {
   "cell_type": "code",
   "execution_count": null,
   "metadata": {},
   "outputs": [],
   "source": [
    "plt.figure(figsize=(10,6))\n",
    "plot_df=plot_df[plot_df['mvw']<1]\n",
    "for parliament, zipped_data in plot_df.groupby('Parliament'): \n",
    "    plt.scatter(zipped_data['Seats'],zipped_data['mvw'])\n",
    "plt.xlabel('Party Weights in Parliaments (Seats)')\n",
    "plt.ylabel('Minimal Voting Weights (MVWs)')\n",
    "plt.show()"
   ]
  },
  {
   "cell_type": "code",
   "execution_count": null,
   "metadata": {},
   "outputs": [],
   "source": [
    "rel_indices= ['mvws','Seats','unweighted','weighted']\n",
    "df=final_df.loc[rel_indices]\n",
    "df=df.dropna(axis=1,how='any')"
   ]
  },
  {
   "cell_type": "code",
   "execution_count": null,
   "metadata": {},
   "outputs": [],
   "source": [
    "plot_data= []\n",
    "indice=['mvws','Seats']\n",
    "df.loc[indice]=df.loc[indice].applymap(ast.literal_eval).applymap(np.array)\n",
    "df.loc['mvws']=df.loc['mvws'].apply(lambda x:x/np.sum(x))\n",
    "df.loc['Seats']=df.loc['Seats'].apply(lambda x:x/np.sum(x))\n",
    "df.loc['unweighted']=df.loc['unweighted'].apply(lambda x:x/np.sum(x))\n",
    "df.loc['weighted']=df.loc['weighted'].apply(lambda x:x/np.sum(x))\n",
    "for col in final_df.columns: \n",
    "    try:\n",
    "        for counting, (mvw,seats,unweighted,weighted) in enumerate(zip(df[col]['mvws'],df[col]['Seats'],df[col]['unweighted'],df[col]['weighted'])): \n",
    "            plot_data.append({'Parliament': col, 'Party': counting, 'mvw': mvw,'Seats':seats,'unweighted Ministries':unweighted,'weighted Ministries':weighted})\n",
    "    except KeyError: pass        \n",
    "plot_df=pd.DataFrame(plot_data)\n",
    "plt.figure(figsize=(10,6))\n",
    "sns.scatterplot(data=plot_df, x='Seats', y='mvw')\n",
    "plt.xlabel('Party Weights in Parliaments (Seats)')\n",
    "plt.ylabel('Minimal Voting Weights (MVWs)')\n",
    "plt.show()\n"
   ]
  },
  {
   "cell_type": "code",
   "execution_count": null,
   "metadata": {},
   "outputs": [],
   "source": [
    "\n",
    "plot_data= []\n",
    "share_in_gov=[]\n",
    "for col in df.columns: \n",
    "    seats= df.loc['Seats',col]\n",
    "    unweighted=df.loc['unweighted',col]\n",
    "    in_gov_mask=unweighted>0 \n",
    "    size_of_gov=np.sum(seats[in_gov_mask])\n",
    "    share_in_gov_col=np.zeros_like(seats)\n",
    "    share_in_gov_col[in_gov_mask]=seats[in_gov_mask]/size_of_gov\n",
    "    share_in_gov.append(share_in_gov_col)\n",
    "df.loc['% in gov',:]= share_in_gov\n",
    "for col in final_df.columns: \n",
    "    try:\n",
    "        for counting, (mvw,seats,unweighted,weighted,gov_share) in enumerate(zip(df[col]['mvws'],df[col]['Seats'],df[col]['unweighted'],df[col]['weighted'],df[col]['% in gov'])): \n",
    "            plot_data.append({'Parliament': col, 'Party': counting, 'mvw': mvw,'Seats':seats,'unweighted Ministries':unweighted,'weighted Ministries':weighted,'gov_share':gov_share})\n",
    "    except KeyError: pass        \n",
    "plot_df=pd.DataFrame(plot_data)\n",
    "plot_df=plot_df[plot_df['gov_share']>0]\n",
    "plot_df=plot_df[plot_df['gov_share']<1]\n",
    "plot_df=plot_df[plot_df['mvw']<1]\n",
    "plt.figure(figsize=(10,6))\n",
    "sns.scatterplot(data=plot_df, x='gov_share', y='mvw')\n",
    "plt.xlabel('Relative Party Weights in Government')\n",
    "plt.ylabel('Minimal Voting Weights (MVWs) in Parliament')\n",
    "plt.title('Replication Figure 1')\n",
    "plt.show()"
   ]
  },
  {
   "cell_type": "markdown",
   "metadata": {},
   "source": [
    "## Scatter Plot Seat Share ~ Ministries & MVW ~ Ministries"
   ]
  },
  {
   "cell_type": "code",
   "execution_count": null,
   "metadata": {},
   "outputs": [],
   "source": [
    "plot_data= []\n",
    "for col in final_df.columns: \n",
    "    try:\n",
    "        for counting, (mvw,seats,unweighted,weighted) in enumerate(zip(df[col]['mvws'],df[col]['Seats'],df[col]['unweighted'],df[col]['weighted'])): \n",
    "            plot_data.append({'Parliament': col, 'Party': counting, 'mvw': mvw,'Seats':seats,'unweighted_ministries':unweighted,'weighted_ministries':weighted})\n",
    "    except KeyError: pass        \n",
    "plot_df=pd.DataFrame(plot_data)\n",
    "plot_df.dropna(subset=['unweighted_ministries'],inplace=True)\n",
    "plot_df=plot_df[plot_df['mvw']<1]\n",
    "plot_df=plot_df[plot_df['unweighted_ministries']>0]\n",
    "plot_df=plot_df[plot_df['weighted_ministries']<1]"
   ]
  },
  {
   "cell_type": "code",
   "execution_count": null,
   "metadata": {},
   "outputs": [],
   "source": [
    "fig,axes= plt.subplots(2,2,figsize=(12,12))\n",
    "###data:\n",
    "sns.scatterplot(data=plot_df, x='mvw', y='unweighted_ministries', ax=axes[0, 0])\n",
    "sns.scatterplot(data=plot_df, x='Seats', y='unweighted_ministries', ax=axes[0, 1])\n",
    "sns.scatterplot(data=plot_df, x='mvw', y='weighted_ministries', ax=axes[1, 0])\n",
    "sns.scatterplot(data=plot_df, x='Seats', y='weighted_ministries', ax=axes[1, 1])\n",
    "### labels: \n",
    "axes[0, 0].set_title('Unweighted vs. MVW')\n",
    "axes[0, 0].set_xlabel('MVW')\n",
    "axes[0, 0].set_ylabel('Unweighted')\n",
    "\n",
    "axes[0, 1].set_title('Unweighted vs. Seats')\n",
    "axes[0, 1].set_xlabel('Seats')\n",
    "axes[0, 1].set_ylabel('Unweighted')\n",
    "\n",
    "axes[1, 0].set_title('Weighted vs. MVW')\n",
    "axes[1, 0].set_xlabel('MVW')\n",
    "axes[1, 0].set_ylabel('Weighted')\n",
    "\n",
    "axes[1, 1].set_title('Weighted vs. Seats')\n",
    "axes[1, 1].set_xlabel('Seats')\n",
    "axes[1, 1].set_ylabel('Weighted')\n",
    "\n",
    "### plot\n",
    "plt.tight_layout()\n",
    "plt.show()"
   ]
  },
  {
   "cell_type": "markdown",
   "metadata": {},
   "source": [
    "# Regressions"
   ]
  },
  {
   "cell_type": "markdown",
   "metadata": {},
   "source": [
    "2 approaches: OLS vs Logit"
   ]
  },
  {
   "cell_type": "markdown",
   "metadata": {},
   "source": [
    "## OLS"
   ]
  },
  {
   "cell_type": "markdown",
   "metadata": {},
   "source": [
    "See especially from the last 4 diagrams above that the relationship between Seats (or minmal voting weights) and the \"score\", meaning the number of ministries, seems to be generally positive and there is no reason to assume non-linearity. The data however looks to be heteroscedastic. \n",
    "\n",
    "I will thus later account for heteroscedastic errors:"
   ]
  },
  {
   "cell_type": "code",
   "execution_count": null,
   "metadata": {},
   "outputs": [],
   "source": [
    "import statsmodels.api as sm \n",
    "import patsy\n",
    "from patsy import dmatrices## allows \"r-like\" expressions to be used with statsmodels"
   ]
  },
  {
   "cell_type": "code",
   "execution_count": null,
   "metadata": {},
   "outputs": [],
   "source": [
    "formula_unweighted_mvw='unweighted_ministries ~ mvw'\n",
    "formula_weighted_mvw='weighted_ministries ~ mvw'\n",
    "formula_unweighted_seats='unweighted_ministries ~ Seats'\n",
    "formula_weighted_mvw='weighted_ministries ~ Seats'"
   ]
  },
  {
   "cell_type": "code",
   "execution_count": null,
   "metadata": {},
   "outputs": [],
   "source": [
    "ols_unweighted_mvw=sm.OLS.from_formula(formula=formula_unweighted_mvw,data=plot_df)"
   ]
  },
  {
   "cell_type": "code",
   "execution_count": null,
   "metadata": {},
   "outputs": [],
   "source": [
    "ols_unweighted_mvw_results=ols_unweighted_mvw.fit()\n",
    "print(ols_unweighted_mvw_results.summary())"
   ]
  },
  {
   "cell_type": "code",
   "execution_count": null,
   "metadata": {},
   "outputs": [],
   "source": [
    "## printing errors: \n",
    "y_matrix,x_matrix=dmatrices(formula_unweighted_mvw,plot_df,return_type='dataframe') # get design matrices\n",
    "y_hat=ols_unweighted_mvw_results.predict(x_matrix) # y_hat as predicted from design matrix\n",
    "#plot\n",
    "plt.title('heteroscedasticity for unweighted~mvw')\n",
    "plt.xlabel('y_hat')\n",
    "plt.ylabel('residuals')\n",
    "plt.scatter(y_hat,ols_unweighted_mvw_results.resid)\n",
    "plt.show()"
   ]
  },
  {
   "cell_type": "markdown",
   "metadata": {},
   "source": [
    "heteroscedasticity seems to be limited"
   ]
  },
  {
   "cell_type": "code",
   "execution_count": null,
   "metadata": {},
   "outputs": [],
   "source": [
    "ols_unweighted_seats=sm.OLS.from_formula(formula=formula_unweighted_seats,data=plot_df)\n",
    "ols_unweighted_seats_results=ols_unweighted_seats.fit()\n",
    "print(ols_unweighted_seats_results.summary())"
   ]
  },
  {
   "cell_type": "code",
   "execution_count": null,
   "metadata": {},
   "outputs": [],
   "source": [
    "## printing errors: \n",
    "y_matrix_2,x_matrix_2=dmatrices(formula_unweighted_seats,plot_df,return_type='dataframe') # get design matrices\n",
    "y_hat_2=ols_unweighted_seats_results.predict(x_matrix_2) # y_hat as predicted from design matrix\n",
    "#plot\n",
    "plt.title('heteroscedasticity for unweighted~seats')\n",
    "plt.xlabel('y_hat_2')\n",
    "plt.ylabel('residuals_2')\n",
    "plt.scatter(y_hat_2,ols_unweighted_seats_results.resid)\n",
    "plt.show()"
   ]
  },
  {
   "cell_type": "markdown",
   "metadata": {},
   "source": [
    "there seems to be more heteroscedasticity when using seat share rather than voting weights "
   ]
  },
  {
   "cell_type": "markdown",
   "metadata": {},
   "source": [
    "the following regressions correct for possibly heteroscdastic standard errors:"
   ]
  },
  {
   "cell_type": "code",
   "execution_count": null,
   "metadata": {},
   "outputs": [],
   "source": [
    "## standard het. consistent errors: \n",
    "ols_unweighted_seats_hc0_results = ols_unweighted_seats.fit(cov_type='HC0')\n",
    "print(ols_unweighted_seats_hc0_results.summary())\n",
    "## het. consisitend std.errors for small samples:  \n",
    "ols_unweighted_seats_hc3_results = ols_unweighted_seats.fit(cov_type='HC3')\n",
    "print(ols_unweighted_seats_hc3_results.summary())"
   ]
  },
  {
   "cell_type": "code",
   "execution_count": null,
   "metadata": {},
   "outputs": [],
   "source": [
    "ols_unweighted_mvw__hc0_results=ols_unweighted_mvw.fit(cov_type='HC0')\n",
    "print(ols_unweighted_mvw__hc0_results.summary())"
   ]
  },
  {
   "cell_type": "markdown",
   "metadata": {},
   "source": [
    "generally all ols specifications do not allow for any preference of voting power of seat share even for the restricted set of observations used here."
   ]
  }
 ],
 "metadata": {
  "kernelspec": {
   "display_name": "base",
   "language": "python",
   "name": "python3"
  },
  "language_info": {
   "codemirror_mode": {
    "name": "ipython",
    "version": 3
   },
   "file_extension": ".py",
   "mimetype": "text/x-python",
   "name": "python",
   "nbconvert_exporter": "python",
   "pygments_lexer": "ipython3",
   "version": "3.11.5"
  }
 },
 "nbformat": 4,
 "nbformat_minor": 2
}
