{
 "cells": [
  {
   "cell_type": "code",
   "execution_count": 4,
   "metadata": {},
   "outputs": [
    {
     "name": "stdout",
     "output_type": "stream",
     "text": [
      "The autoreload extension is already loaded. To reload it, use:\n",
      "  %reload_ext autoreload\n"
     ]
    }
   ],
   "source": [
    "%load_ext autoreload\n",
    "%autoreload 2\n",
    "import pandas as pd \n",
    "import numpy as np\n",
    "import os \n",
    "import glob\n",
    "import ast \n",
    "from ast import literal_eval\n",
    "from government_functions import * \n",
    "#import warnings\n",
    "#warnings.formatwarning = lambda msg, *args, **kwargs: f'{msg}\\n'"
   ]
  },
  {
   "cell_type": "code",
   "execution_count": 5,
   "metadata": {},
   "outputs": [
    {
     "name": "stderr",
     "output_type": "stream",
     "text": [
      "Australia--Aug-10: Found late government.\n",
      "Australia--Sep-13: Found late government.\n",
      "Australia--Jul-16: Found late government.\n",
      "Austria--Sep-19: Found late government.\n",
      "Bulgaria--Oct-14: Found late government.\n",
      "Croatia--Nov-07: Found late government.\n",
      "Cyprus--May-01: Found late government.\n",
      "Cyprus--May-06: Found late government.\n",
      "Cyprus--May-11: Found late government.\n",
      "Cyprus--May-16: Found late government.\n",
      "Czech--Jun-02: Found late government.\n",
      "Estonia--Mar-11: Found late government.\n",
      "France--Jun-07: Found late government.\n",
      "France--Jun-12: Found late government.\n",
      "Germany--Sep-13: Only found 2 ministers.\n",
      "Germany--Sep-13: Found late government.\n",
      "Greece--Oct-09: Found late government.\n",
      "Israel_99_modified--Apr-19: Only found 2 ministers.\n",
      "Israel_99_modified--Sep-19: Only found 2 ministers.\n",
      "Italy--Jun-87: Found late government.\n",
      "Italy--Apr-96: Found late government.\n",
      "Japan--Oct-96: Found late government.\n",
      "Japan--Aug-09: Found late government.\n",
      "Japan--Oct-17: Found late government.\n",
      "Latvia--Oct-06: Found late government.\n",
      "Latvia--Oct-14: Found late government.\n",
      "Malta--Jun-17: Found late government.\n",
      "Newzealand--Sep-14: Found late government.\n",
      "Norway--Sep-17: Found late government.\n",
      "Romania--Nov-08: Found late government.\n",
      "Slovakia--Mar-16: Found late government.\n",
      "Slovenia--Oct-00: Found late government.\n",
      "Slovenia--Dec-11: Found late government.\n",
      "Spain--Dec-15: Only found 1 ministers.\n",
      "Spain--Jun-16: Found late government.\n",
      "Spain--Apr-19: Only found 1 ministers.\n",
      "Sweden--Sep-94: Found late government.\n",
      "Switzerland--Oct-19: Only found 8 ministers.\n",
      "Usa--Nov-94: Only found 2 ministers.\n",
      "Usa--Nov-94: Found late government.\n",
      "Usa--Nov-98: Only found 1 ministers.\n",
      "Usa--Nov-02: Only found 1 ministers.\n",
      "Usa--Nov-06: Only found 1 ministers.\n",
      "Usa--Nov-10: Only found 1 ministers.\n",
      "Usa--Nov-14: Only found 1 ministers.\n",
      "Usa--Nov-18: Only found 3 ministers.\n",
      "Usa--Nov-20: Only found 1 ministers.\n"
     ]
    }
   ],
   "source": [
    "final_df=pd.read_excel('results/complete_dataframe.xlsx',index_col=0)\n",
    "\n",
    "for csv_file in glob.glob(os.path.join('government/','*.csv')): \n",
    "    file= os.path.basename(csv_file)\n",
    "    countryname,_=os.path.splitext(file)\n",
    "    #create country government dataframe\n",
    "    df=process_gov_csv(csv_file)\n",
    "    #grab part of final_df that is relevant for the country\n",
    "    country_df=final_df[[col for col in final_df.columns if col.startswith(countryname)]] #this is case sensitive... \n",
    "    elections=country_df.columns.to_numpy() # list of elections in the country\n",
    "    #get all election_df's (currently not really necessary but might be if stability or changes in government becomre relevant)\n",
    "    election_period_dict=match_ministries_and_elections(countryname,elections,df)\n",
    "    #subset election_df's for only the first ministers in an election period (initial government)\n",
    "    government_dict=starting_gov_dict(election_period_dict,countryname)\n",
    "    ##loop over all election periods: ##\n",
    "    for date,dataframe in government_dict.items():\n",
    "        if not dataframe.empty:\n",
    "            party_str=country_df.at['parties',f'{countryname}{date}']\n",
    "            parties=ast.literal_eval(party_str) # parses string to list  \n",
    "            #create dicts\n",
    "            ministry_dict,unweighted_dict,weighted_dict=get_ministry_dicts(dataframe,parties) \n",
    "            #translate dicts into lists / arrays corrosponding to the party list     \n",
    "            ministy_list=[]\n",
    "            unweighted_array=np.zeros(len(parties))  \n",
    "            weighted_array=np.zeros(len(parties))  \n",
    "            for i,(party,value) in enumerate(ministry_dict.items()): \n",
    "                ministy_list.append(value)\n",
    "            for i,(party,value) in enumerate(unweighted_dict.items()):\n",
    "                unweighted_array[i]=value\n",
    "            for i,(party,value) in enumerate(weighted_dict.items()):\n",
    "                weighted_array[i]=value\n",
    "            #write country name: \n",
    "            if 'Country' not in final_df.index: \n",
    "                final_df.loc['Country']=[np.nan] * len(final_df.columns)  \n",
    "            final_df.at['Country',f'{countryname}{date}']= countryname\n",
    "            # write list/arrays to final_df:\n",
    "            if 'Ministers' not in final_df.index: \n",
    "                final_df.loc['Ministers']=[np.nan] * len(final_df.columns)   \n",
    "            if 'unweighted' not in final_df.index: \n",
    "                final_df.loc['unweighted']=[np.nan] * len(final_df.columns)   \n",
    "            if 'weighted' not in final_df.index: \n",
    "                final_df.loc['weighted']=[np.nan] * len(final_df.columns) \n",
    "            final_df.at['Ministers',f'{countryname}{date}']=ministy_list\n",
    "            final_df.at['unweighted',f'{countryname}{date}']=unweighted_array\n",
    "            final_df.at['weighted',f'{countryname}{date}']=weighted_array \n",
    "\n"
   ]
  },
  {
   "cell_type": "markdown",
   "metadata": {},
   "source": [
    "Export to R "
   ]
  },
  {
   "cell_type": "code",
   "execution_count": 3,
   "metadata": {},
   "outputs": [],
   "source": [
    "rel_indices= ['mvws','Seats','Penrose-Banzhaf','Shapely-Shubik','unweighted','weighted','Country']\n",
    "df=final_df.loc[rel_indices]\n",
    "df=df.dropna(axis=1,how='any')\n",
    "indice=['mvws','Seats','Penrose-Banzhaf','Shapely-Shubik']\n",
    "df.loc[indice]=df.loc[indice].applymap(ast.literal_eval).applymap(np.array)\n",
    "df.loc['mvws']=df.loc['mvws'].apply(lambda x:x/np.sum(x))\n",
    "df.loc['Seats']=df.loc['Seats'].apply(lambda x:x/np.sum(x))\n",
    "df.loc['unweighted']=df.loc['unweighted'].apply(lambda x:x/np.sum(x))\n",
    "df.loc['weighted']=df.loc['weighted'].apply(lambda x:x/np.sum(x))\n"
   ]
  },
  {
   "cell_type": "code",
   "execution_count": 5,
   "metadata": {},
   "outputs": [],
   "source": [
    "##exclude absolute majority parliaments: \n",
    "coal_parliaments = []\n",
    "for col in df.columns: \n",
    "    mvws= df.loc['mvws',col]\n",
    "    if not np.any(np.isclose(mvws,1)): \n",
    "        coal_parliaments.append(col)\n",
    "df=df[coal_parliaments]"
   ]
  },
  {
   "cell_type": "code",
   "execution_count": 6,
   "metadata": {},
   "outputs": [],
   "source": [
    "long_data= []\n",
    "for col in final_df.columns: \n",
    "    try:\n",
    "        country= df[col]['Country']\n",
    "        for counting, (mvw,seats,pbs,sss,unweighted,weighted) in enumerate(zip(df[col]['mvws'],df[col]['Seats'],df[col]['Penrose-Banzhaf'],df[col]['Shapely-Shubik'],df[col]['unweighted'],df[col]['weighted'])): \n",
    "            long_data.append({'Parliament': col, 'Party': counting, 'mvw': mvw,'Seats':seats,'PB-I':pbs,'SS-I':sss,'unweighted_ministries':unweighted,'weighted_ministries':weighted,'Country':country})\n",
    "    except KeyError: pass        \n",
    "long_df=pd.DataFrame(long_data)"
   ]
  },
  {
   "cell_type": "code",
   "execution_count": 7,
   "metadata": {},
   "outputs": [],
   "source": [
    "\"\"\" os.environ['R_HOME']=\"C:\\Program Files\\R\\R-4.3.3\"\n",
    "import rpy2.robjects as robj\n",
    "from rpy2.robjects import pandas2ri\n",
    "pandas2ri.activate()\n",
    "robj.globalenv['df_to_r']=long_df\n",
    " \"\"\"\n",
    "import pyarrow.feather as feather\n",
    "feather.write_feather(long_df,\"long_df.feather\")"
   ]
  },
  {
   "cell_type": "code",
   "execution_count": 6,
   "metadata": {},
   "outputs": [],
   "source": [
    "df = pd.read_feather('long_df.feather')"
   ]
  },
  {
   "cell_type": "markdown",
   "metadata": {},
   "source": [
    "end of export "
   ]
  },
  {
   "cell_type": "code",
   "execution_count": null,
   "metadata": {},
   "outputs": [],
   "source": [
    "for name in list(globals()): \n",
    "    if name != 'final_df':\n",
    "        del globals()[name]"
   ]
  },
  {
   "cell_type": "markdown",
   "metadata": {},
   "source": [
    "## Scatter Plot Seat Share vs MVWs"
   ]
  },
  {
   "cell_type": "code",
   "execution_count": null,
   "metadata": {},
   "outputs": [],
   "source": [
    "%load_ext autoreload\n",
    "%autoreload 2\n",
    "import pandas as pd \n",
    "import numpy as np\n",
    "import ast \n",
    "from ast import literal_eval\n",
    "import matplotlib.pyplot as plt\n",
    "import seaborn as sns\n",
    "from government_functions import * \n"
   ]
  },
  {
   "cell_type": "code",
   "execution_count": null,
   "metadata": {},
   "outputs": [],
   "source": [
    "\n",
    "df=final_df.loc['mvws':'Seats']\n",
    "df=df.applymap(ast.literal_eval)\n",
    "df=df.applymap(np.array)\n",
    "df.loc['mvws']=df.loc['mvws'].apply(lambda x:x/np.sum(x))\n",
    "df.loc['Seats']=df.loc['Seats'].apply(lambda x:x/np.sum(x))\n",
    "plot_data= []\n",
    "for col in final_df.columns: \n",
    "    for counting, (mvw,seats) in enumerate(zip(df[col]['mvws'],df[col]['Seats'])): \n",
    "        plot_data.append({'Parliament': col, 'Party': counting, 'mvw': mvw,'Seats':seats})\n",
    "plot_df=pd.DataFrame(plot_data)\n",
    "    "
   ]
  },
  {
   "cell_type": "code",
   "execution_count": null,
   "metadata": {},
   "outputs": [],
   "source": [
    "plt.figure(figsize=(10,6))\n",
    "for parliament, zipped_data in plot_df.groupby('Parliament'): \n",
    "    plt.scatter(zipped_data['Seats'],zipped_data['mvw'])\n",
    "plt.xlabel('Party Weights in Parliaments (Seats)')\n",
    "plt.ylabel('Minimal Voting Weights (MVWs)')\n",
    "plt.show()"
   ]
  },
  {
   "cell_type": "code",
   "execution_count": null,
   "metadata": {},
   "outputs": [],
   "source": [
    "plt.figure(figsize=(10,6))\n",
    "plot_df=plot_df[plot_df['mvw']<1]\n",
    "for parliament, zipped_data in plot_df.groupby('Parliament'): \n",
    "    plt.scatter(zipped_data['Seats'],zipped_data['mvw'])\n",
    "plt.xlabel('Party Weights in Parliaments (Seats)')\n",
    "plt.ylabel('Minimal Voting Weights (MVWs)')\n",
    "plt.show()"
   ]
  },
  {
   "cell_type": "code",
   "execution_count": null,
   "metadata": {},
   "outputs": [],
   "source": [
    "rel_indices= ['mvws','Seats','unweighted','weighted']\n",
    "df=final_df.loc[rel_indices]\n",
    "df=df.dropna(axis=1,how='any')"
   ]
  },
  {
   "cell_type": "code",
   "execution_count": null,
   "metadata": {},
   "outputs": [],
   "source": [
    "plot_data= []\n",
    "indice=['mvws','Seats']\n",
    "df.loc[indice]=df.loc[indice].applymap(ast.literal_eval).applymap(np.array)\n",
    "df.loc['mvws']=df.loc['mvws'].apply(lambda x:x/np.sum(x))\n",
    "df.loc['Seats']=df.loc['Seats'].apply(lambda x:x/np.sum(x))\n",
    "df.loc['unweighted']=df.loc['unweighted'].apply(lambda x:x/np.sum(x))\n",
    "df.loc['weighted']=df.loc['weighted'].apply(lambda x:x/np.sum(x))\n",
    "for col in final_df.columns: \n",
    "    try:\n",
    "        for counting, (mvw,seats,unweighted,weighted) in enumerate(zip(df[col]['mvws'],df[col]['Seats'],df[col]['unweighted'],df[col]['weighted'])): \n",
    "            plot_data.append({'Parliament': col, 'Party': counting, 'mvw': mvw,'Seats':seats,'unweighted Ministries':unweighted,'weighted Ministries':weighted})\n",
    "    except KeyError: pass        \n",
    "plot_df=pd.DataFrame(plot_data)\n",
    "plt.figure(figsize=(10,6))\n",
    "sns.scatterplot(data=plot_df, x='Seats', y='mvw')\n",
    "plt.xlabel('Party Weights in Parliaments (Seats)')\n",
    "plt.ylabel('Minimal Voting Weights (MVWs)')\n",
    "plt.show()\n"
   ]
  },
  {
   "cell_type": "code",
   "execution_count": null,
   "metadata": {},
   "outputs": [],
   "source": [
    "\n",
    "plot_data= []\n",
    "share_in_gov=[]\n",
    "for col in df.columns: \n",
    "    seats= df.loc['Seats',col]\n",
    "    unweighted=df.loc['unweighted',col]\n",
    "    in_gov_mask=unweighted>0 \n",
    "    size_of_gov=np.sum(seats[in_gov_mask])\n",
    "    share_in_gov_col=np.zeros_like(seats)\n",
    "    share_in_gov_col[in_gov_mask]=seats[in_gov_mask]/size_of_gov\n",
    "    share_in_gov.append(share_in_gov_col)\n",
    "df.loc['% in gov',:]= share_in_gov\n",
    "for col in final_df.columns: \n",
    "    try:\n",
    "        for counting, (mvw,seats,unweighted,weighted,gov_share) in enumerate(zip(df[col]['mvws'],df[col]['Seats'],df[col]['unweighted'],df[col]['weighted'],df[col]['% in gov'])): \n",
    "            plot_data.append({'Parliament': col, 'Party': counting, 'mvw': mvw,'Seats':seats,'unweighted Ministries':unweighted,'weighted Ministries':weighted,'gov_share':gov_share})\n",
    "    except KeyError: pass        \n",
    "plot_df=pd.DataFrame(plot_data)\n",
    "plot_df=plot_df[plot_df['gov_share']>0]\n",
    "plot_df=plot_df[plot_df['gov_share']<1]\n",
    "plot_df=plot_df[plot_df['mvw']<1]\n",
    "plt.figure(figsize=(10,6))\n",
    "sns.scatterplot(data=plot_df, x='gov_share', y='mvw')\n",
    "plt.xlabel('Relative Party Weights in Government')\n",
    "plt.ylabel('Minimal Voting Weights (MVWs) in Parliament')\n",
    "plt.title('Replication Figure 1')\n",
    "plt.show()"
   ]
  },
  {
   "cell_type": "markdown",
   "metadata": {},
   "source": [
    "## Scatter Plot Seat Share ~ Ministries & MVW ~ Ministries"
   ]
  },
  {
   "cell_type": "code",
   "execution_count": null,
   "metadata": {},
   "outputs": [],
   "source": [
    "plot_data= []\n",
    "for col in final_df.columns: \n",
    "    try:\n",
    "        for counting, (mvw,seats,unweighted,weighted) in enumerate(zip(df[col]['mvws'],df[col]['Seats'],df[col]['unweighted'],df[col]['weighted'])): \n",
    "            plot_data.append({'Parliament': col, 'Party': counting, 'mvw': mvw,'Seats':seats,'unweighted_ministries':unweighted,'weighted_ministries':weighted})\n",
    "    except KeyError: pass        \n",
    "plot_df=pd.DataFrame(plot_data)\n",
    "plot_df.dropna(subset=['unweighted_ministries'],inplace=True)\n",
    "plot_df=plot_df[plot_df['mvw']<1]\n",
    "plot_df=plot_df[plot_df['unweighted_ministries']>0]\n",
    "plot_df=plot_df[plot_df['weighted_ministries']<1]"
   ]
  },
  {
   "cell_type": "code",
   "execution_count": null,
   "metadata": {},
   "outputs": [],
   "source": [
    "fig,axes= plt.subplots(2,2,figsize=(12,12))\n",
    "###data:\n",
    "sns.scatterplot(data=plot_df, x='mvw', y='unweighted_ministries', ax=axes[0, 0])\n",
    "sns.scatterplot(data=plot_df, x='Seats', y='unweighted_ministries', ax=axes[0, 1])\n",
    "sns.scatterplot(data=plot_df, x='mvw', y='weighted_ministries', ax=axes[1, 0])\n",
    "sns.scatterplot(data=plot_df, x='Seats', y='weighted_ministries', ax=axes[1, 1])\n",
    "### labels: \n",
    "axes[0, 0].set_title('Unweighted vs. MVW')\n",
    "axes[0, 0].set_xlabel('MVW')\n",
    "axes[0, 0].set_ylabel('Unweighted')\n",
    "\n",
    "axes[0, 1].set_title('Unweighted vs. Seats')\n",
    "axes[0, 1].set_xlabel('Seats')\n",
    "axes[0, 1].set_ylabel('Unweighted')\n",
    "\n",
    "axes[1, 0].set_title('Weighted vs. MVW')\n",
    "axes[1, 0].set_xlabel('MVW')\n",
    "axes[1, 0].set_ylabel('Weighted')\n",
    "\n",
    "axes[1, 1].set_title('Weighted vs. Seats')\n",
    "axes[1, 1].set_xlabel('Seats')\n",
    "axes[1, 1].set_ylabel('Weighted')\n",
    "\n",
    "### plot\n",
    "plt.tight_layout()\n",
    "plt.show()"
   ]
  },
  {
   "cell_type": "markdown",
   "metadata": {},
   "source": [
    "# Regressions"
   ]
  },
  {
   "cell_type": "markdown",
   "metadata": {},
   "source": [
    "2 approaches: OLS vs Logit"
   ]
  },
  {
   "cell_type": "markdown",
   "metadata": {},
   "source": [
    "## OLS"
   ]
  },
  {
   "cell_type": "markdown",
   "metadata": {},
   "source": [
    "See especially from the last 4 diagrams above that the relationship between Seats (or minmal voting weights) and the \"score\", meaning the number of ministries, seems to be generally positive and there is no reason to assume non-linearity. The data however looks to be heteroscedastic. \n",
    "\n",
    "I will thus later account for heteroscedastic errors:"
   ]
  },
  {
   "cell_type": "code",
   "execution_count": null,
   "metadata": {},
   "outputs": [],
   "source": [
    "import statsmodels.api as sm \n",
    "import patsy\n",
    "from patsy import dmatrices## allows \"r-like\" expressions to be used with statsmodels"
   ]
  },
  {
   "cell_type": "code",
   "execution_count": null,
   "metadata": {},
   "outputs": [],
   "source": [
    "formula_unweighted_mvw='unweighted_ministries ~ mvw'\n",
    "formula_weighted_mvw='weighted_ministries ~ mvw'\n",
    "formula_unweighted_seats='unweighted_ministries ~ Seats'\n",
    "formula_weighted_mvw='weighted_ministries ~ Seats'"
   ]
  },
  {
   "cell_type": "code",
   "execution_count": null,
   "metadata": {},
   "outputs": [],
   "source": [
    "ols_unweighted_mvw=sm.OLS.from_formula(formula=formula_unweighted_mvw,data=plot_df)"
   ]
  },
  {
   "cell_type": "code",
   "execution_count": null,
   "metadata": {},
   "outputs": [],
   "source": [
    "ols_unweighted_mvw_results=ols_unweighted_mvw.fit()\n",
    "print(ols_unweighted_mvw_results.summary())"
   ]
  },
  {
   "cell_type": "code",
   "execution_count": null,
   "metadata": {},
   "outputs": [],
   "source": [
    "## printing errors: \n",
    "y_matrix,x_matrix=dmatrices(formula_unweighted_mvw,plot_df,return_type='dataframe') # get design matrices\n",
    "y_hat=ols_unweighted_mvw_results.predict(x_matrix) # y_hat as predicted from design matrix\n",
    "#plot\n",
    "plt.title('heteroscedasticity for unweighted~mvw')\n",
    "plt.xlabel('y_hat')\n",
    "plt.ylabel('residuals')\n",
    "plt.scatter(y_hat,ols_unweighted_mvw_results.resid)\n",
    "plt.show()"
   ]
  },
  {
   "cell_type": "markdown",
   "metadata": {},
   "source": [
    "heteroscedasticity seems to be limited"
   ]
  },
  {
   "cell_type": "code",
   "execution_count": null,
   "metadata": {},
   "outputs": [],
   "source": [
    "ols_unweighted_seats=sm.OLS.from_formula(formula=formula_unweighted_seats,data=plot_df)\n",
    "ols_unweighted_seats_results=ols_unweighted_seats.fit()\n",
    "print(ols_unweighted_seats_results.summary())"
   ]
  },
  {
   "cell_type": "code",
   "execution_count": null,
   "metadata": {},
   "outputs": [],
   "source": [
    "## printing errors: \n",
    "y_matrix_2,x_matrix_2=dmatrices(formula_unweighted_seats,plot_df,return_type='dataframe') # get design matrices\n",
    "y_hat_2=ols_unweighted_seats_results.predict(x_matrix_2) # y_hat as predicted from design matrix\n",
    "#plot\n",
    "plt.title('heteroscedasticity for unweighted~seats')\n",
    "plt.xlabel('y_hat_2')\n",
    "plt.ylabel('residuals_2')\n",
    "plt.scatter(y_hat_2,ols_unweighted_seats_results.resid)\n",
    "plt.show()"
   ]
  },
  {
   "cell_type": "markdown",
   "metadata": {},
   "source": [
    "there seems to be more heteroscedasticity when using seat share rather than voting weights "
   ]
  },
  {
   "cell_type": "markdown",
   "metadata": {},
   "source": [
    "the following regressions correct for possibly heteroscdastic standard errors:"
   ]
  },
  {
   "cell_type": "code",
   "execution_count": null,
   "metadata": {},
   "outputs": [],
   "source": [
    "## standard het. consistent errors: \n",
    "ols_unweighted_seats_hc0_results = ols_unweighted_seats.fit(cov_type='HC0')\n",
    "print(ols_unweighted_seats_hc0_results.summary())\n",
    "## het. consisitend std.errors for small samples:  \n",
    "ols_unweighted_seats_hc3_results = ols_unweighted_seats.fit(cov_type='HC3')\n",
    "print(ols_unweighted_seats_hc3_results.summary())"
   ]
  },
  {
   "cell_type": "code",
   "execution_count": null,
   "metadata": {},
   "outputs": [],
   "source": [
    "ols_unweighted_mvw__hc0_results=ols_unweighted_mvw.fit(cov_type='HC0')\n",
    "print(ols_unweighted_mvw__hc0_results.summary())"
   ]
  },
  {
   "cell_type": "markdown",
   "metadata": {},
   "source": [
    "generally all ols specifications do not allow for any preference of voting power of seat share even for the restricted set of observations used here."
   ]
  }
 ],
 "metadata": {
  "kernelspec": {
   "display_name": "base",
   "language": "python",
   "name": "python3"
  },
  "language_info": {
   "codemirror_mode": {
    "name": "ipython",
    "version": 3
   },
   "file_extension": ".py",
   "mimetype": "text/x-python",
   "name": "python",
   "nbconvert_exporter": "python",
   "pygments_lexer": "ipython3",
   "version": "3.11.5"
  }
 },
 "nbformat": 4,
 "nbformat_minor": 2
}
