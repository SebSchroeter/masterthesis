{
 "cells": [
  {
   "cell_type": "code",
   "execution_count": 63,
   "metadata": {},
   "outputs": [
    {
     "name": "stdout",
     "output_type": "stream",
     "text": [
      "The autoreload extension is already loaded. To reload it, use:\n",
      "  %reload_ext autoreload\n"
     ]
    }
   ],
   "source": [
    "%load_ext autoreload\n",
    "%autoreload 2\n",
    "import pandas as pd\n",
    "import os\n",
    "import glob\n",
    "import time \n",
    "import numpy as np\n",
    "from itertools import combinations \n",
    "from mwc_functions import *\n",
    "from mwc_class import getMVWs\n",
    "from optimization_functions import *\n",
    "from power_indice_functions import * \n"
   ]
  },
  {
   "cell_type": "code",
   "execution_count": 66,
   "metadata": {},
   "outputs": [
    {
     "name": "stdout",
     "output_type": "stream",
     "text": [
      "1.2464814186096191\n"
     ]
    }
   ],
   "source": [
    "start_time=time.time()\n",
    "krohn_data = getMVWs('krohn.csv', name='krohn_example', save_results=True,verify_mwcs=True,encoding='UTF-8',delimiter=',')\n",
    "prelims = krohn_data.preliminaries()\n",
    "country_MIW = krohn_data.minimal_voting_weights_pipeline()\n",
    "end_time=time.time()\n",
    "duration_Verify=end_time-start_time\n",
    "\n",
    "print(duration_Verify)"
   ]
  },
  {
   "cell_type": "code",
   "execution_count": 69,
   "metadata": {},
   "outputs": [
    {
     "data": {
      "text/plain": [
       "'Power Indices successfully saved'"
      ]
     },
     "execution_count": 69,
     "metadata": {},
     "output_type": "execute_result"
    }
   ],
   "source": [
    "krohn_data.power_indices_pipeline()"
   ]
  },
  {
   "cell_type": "markdown",
   "metadata": {},
   "source": [
    "# Create Functions that can calculate Banzhaf Index "
   ]
  },
  {
   "cell_type": "markdown",
   "metadata": {},
   "source": [
    "first get a list of mwc´s and parties for a year:"
   ]
  },
  {
   "cell_type": "code",
   "execution_count": 29,
   "metadata": {},
   "outputs": [],
   "source": [
    "min_win_coals_year=minimal_winning_coalitions_for_a_year(krohn_data.minimal_winning_coalitions,'2001')\n",
    "#relevant_parties_for_a_year=relevant_parties_for_a_year(krohn_data.minimal_winning_coalitions,'2001')"
   ]
  },
  {
   "cell_type": "code",
   "execution_count": 30,
   "metadata": {},
   "outputs": [
    {
     "data": {
      "text/plain": [
       "['A+B+C',\n",
       " 'A+B+D',\n",
       " 'A+B+E',\n",
       " 'A+B+F',\n",
       " 'A+B+G',\n",
       " 'A+C+D',\n",
       " 'A+C+E+F',\n",
       " 'A+C+E+G',\n",
       " 'A+C+E+H',\n",
       " 'A+C+E+I',\n",
       " 'A+C+F+G',\n",
       " 'A+D+E+F',\n",
       " 'A+D+E+G',\n",
       " 'B+C+D+E',\n",
       " 'B+C+D+F',\n",
       " 'B+C+D+G',\n",
       " 'B+C+D+H',\n",
       " 'B+C+D+I',\n",
       " 'B+C+E+F',\n",
       " 'B+C+E+G',\n",
       " 'A+C+F+H+I',\n",
       " 'A+C+G+H+I',\n",
       " 'A+D+E+H+I',\n",
       " 'A+D+F+G+H',\n",
       " 'A+D+F+G+I',\n",
       " 'B+C+E+H+I',\n",
       " 'B+C+F+G+H',\n",
       " 'B+C+F+G+I',\n",
       " 'B+D+E+F+G',\n",
       " 'B+D+E+F+H',\n",
       " 'B+D+E+F+I',\n",
       " 'B+D+E+G+H',\n",
       " 'B+D+E+G+I',\n",
       " 'C+D+E+F+G',\n",
       " 'A+E+F+G+H+I',\n",
       " 'B+D+F+G+H+I']"
      ]
     },
     "execution_count": 30,
     "metadata": {},
     "output_type": "execute_result"
    }
   ],
   "source": [
    "min_win_coals_year"
   ]
  },
  {
   "cell_type": "markdown",
   "metadata": {},
   "source": [
    "create a function that can create a list of any 2 mwc unions "
   ]
  },
  {
   "cell_type": "code",
   "execution_count": 4,
   "metadata": {},
   "outputs": [],
   "source": [
    "mwc_sets = [set(mwc.split('+')) for mwc in min_win_coals_year]"
   ]
  },
  {
   "cell_type": "code",
   "execution_count": 6,
   "metadata": {},
   "outputs": [],
   "source": [
    "\n",
    "def union_of_two_mwcs_as_sets(min_win_coals_year):\n",
    "    mwc_sets = [set(mwc.split('+')) for mwc in min_win_coals_year]\n",
    "    combined_coalitions_sets = []\n",
    "    for mwc1, mwc2 in combinations(mwc_sets, 2):\n",
    "        combined_set = mwc1.union(mwc2) \n",
    "        combined_coalitions_sets.append(combined_set)\n",
    "    return combined_coalitions_sets\n"
   ]
  },
  {
   "cell_type": "code",
   "execution_count": 7,
   "metadata": {},
   "outputs": [],
   "source": [
    "test_set_2 = union_of_two_mwcs_as_sets(min_win_coals_year)"
   ]
  },
  {
   "cell_type": "markdown",
   "metadata": {},
   "source": [
    "extend this to n-mwc-unions:"
   ]
  },
  {
   "cell_type": "code",
   "execution_count": null,
   "metadata": {},
   "outputs": [],
   "source": [
    "def union_of_n_mwcs_as_sets(min_win_coals_year, n):\n",
    "    mwc_sets = [set(mwc.split('+')) for mwc in min_win_coals_year]\n",
    "    combined_coalitions_sets = []\n",
    "    for mwc_combination in combinations(mwc_sets, n):\n",
    "        combined_set = set().union(*mwc_combination)\n",
    "        combined_coalitions_sets.append(combined_set)\n",
    "    return combined_coalitions_sets"
   ]
  },
  {
   "cell_type": "code",
   "execution_count": null,
   "metadata": {},
   "outputs": [],
   "source": [
    "test_set_4=union_of_n_mwcs_as_sets(min_win_coals_year,4)"
   ]
  },
  {
   "cell_type": "markdown",
   "metadata": {},
   "source": [
    "now the opus magnum of this code: \n",
    "\n",
    "a function which creates all n-unions for n= number of mwcs \\\\\n",
    "\n",
    "for any party consider only sets in which that party is a member \\\\\n",
    "\n",
    "for those sets calculate $2^{n-\\#\\{\\bigcup(\\dots)\\}}$ \\\\\n",
    "\n",
    "sum over all those and add or substract them from BS_i for all n \\\\\n",
    "\n",
    "this generally follows the steps of the example in \"Power indices and minimal winning coalitions\",Werner Kirsch, Jessica Langner,\"Social Choice and Welfare, Vol. 34, No. 1 (January 2010), pp. 33-46 (14 pages)\"\n",
    "https://www.jstor.org/stable/41108037"
   ]
  },
  {
   "cell_type": "code",
   "execution_count": null,
   "metadata": {},
   "outputs": [],
   "source": [
    "def BS_w(min_win_coals_year,relevant_parties): # to stay in notation of the paper, indicates the Banzhaf score of a voter w -> in our case score of a party \n",
    "    steps=len(min_win_coals_year)\n",
    "    BS={}\n",
    "    coalition_sets = {}\n",
    "    for i in range(1,steps+1): \n",
    "       coalition_sets[i]= union_of_n_mwcs_as_sets(min_win_coals_year, i)\n",
    "    for party_i in relevant_parties:\n",
    "        BS_i = 0\n",
    "        for i in range(1,steps+1): #We need a step for any value in steps (1,2,...,len(min_win_coals_year))\n",
    "            coalition_sets_with_i = [coalition_set for coalition_set in coalition_sets[i] if party_i in coalition_set] #in words: list every coalition set from coalition_sets[i] that includes party i\n",
    "            change_of_BS_i = sum(2**(steps - len(coalition_set)) for coalition_set in coalition_sets_with_i) #in words: for every set in coalition_sets_with_i calculate $2^{n-#U(...)}$ and add them all togehter\n",
    "            if i % 2 == 1:  #  if i odd: add change_of_BS_i\n",
    "                BS_i += change_of_BS_i\n",
    "            else:  # if i even: substract change_of_BS_i\n",
    "                BS_i -= change_of_BS_i\n",
    "        BS[party_i]=BS_i      \n"
   ]
  },
  {
   "cell_type": "code",
   "execution_count": 4,
   "metadata": {},
   "outputs": [
    {
     "ename": "KeyboardInterrupt",
     "evalue": "",
     "output_type": "error",
     "traceback": [
      "\u001b[1;31m---------------------------------------------------------------------------\u001b[0m",
      "\u001b[1;31mKeyboardInterrupt\u001b[0m                         Traceback (most recent call last)",
      "Cell \u001b[1;32mIn[4], line 1\u001b[0m\n\u001b[1;32m----> 1\u001b[0m banzaf_dict\u001b[38;5;241m=\u001b[39mBS_w(min_win_coals_year,relevant_parties_for_a_year)\n",
      "File \u001b[1;32mc:\\Users\\Hiwis\\Documents\\Sebastian Masterthesis\\Git repo\\masterthesis\\power_indice_functions.py:26\u001b[0m, in \u001b[0;36mBS_w\u001b[1;34m(min_win_coals_year, relevant_parties)\u001b[0m\n\u001b[0;32m     24\u001b[0m coalition_sets \u001b[38;5;241m=\u001b[39m {}\n\u001b[0;32m     25\u001b[0m \u001b[38;5;28;01mfor\u001b[39;00m i \u001b[38;5;129;01min\u001b[39;00m \u001b[38;5;28mrange\u001b[39m(\u001b[38;5;241m1\u001b[39m,steps\u001b[38;5;241m+\u001b[39m\u001b[38;5;241m1\u001b[39m): \n\u001b[1;32m---> 26\u001b[0m    coalition_sets[i]\u001b[38;5;241m=\u001b[39m union_of_n_mwcs_as_sets(min_win_coals_year, i)\n\u001b[0;32m     27\u001b[0m \u001b[38;5;28;01mfor\u001b[39;00m party_i \u001b[38;5;129;01min\u001b[39;00m relevant_parties:\n\u001b[0;32m     28\u001b[0m     BS_i \u001b[38;5;241m=\u001b[39m \u001b[38;5;241m0\u001b[39m\n",
      "File \u001b[1;32mc:\\Users\\Hiwis\\Documents\\Sebastian Masterthesis\\Git repo\\masterthesis\\power_indice_functions.py:43\u001b[0m, in \u001b[0;36munion_of_n_mwcs_as_sets\u001b[1;34m(min_win_coals_year, n)\u001b[0m\n\u001b[0;32m     41\u001b[0m \u001b[38;5;28;01mfor\u001b[39;00m mwc_combination \u001b[38;5;129;01min\u001b[39;00m combinations(mwc_sets, n):\n\u001b[0;32m     42\u001b[0m     combined_set \u001b[38;5;241m=\u001b[39m \u001b[38;5;28mset\u001b[39m()\u001b[38;5;241m.\u001b[39munion(\u001b[38;5;241m*\u001b[39mmwc_combination)\n\u001b[1;32m---> 43\u001b[0m     combined_coalitions_sets\u001b[38;5;241m.\u001b[39mappend(combined_set)\n\u001b[0;32m     44\u001b[0m \u001b[38;5;28;01mreturn\u001b[39;00m combined_coalitions_sets\n",
      "\u001b[1;31mKeyboardInterrupt\u001b[0m: "
     ]
    }
   ],
   "source": [
    "banzaf_dict=BS_w(min_win_coals_year,relevant_parties_for_a_year)"
   ]
  },
  {
   "cell_type": "markdown",
   "metadata": {},
   "source": [
    "this approach is just much to slow, it requires per step in length listing all nCr (length over n) possibilities, which for the case of 36 over 18 is around 9e9 and calculations for every one of them"
   ]
  },
  {
   "cell_type": "markdown",
   "metadata": {},
   "source": [
    "# try classical approach"
   ]
  },
  {
   "cell_type": "code",
   "execution_count": 28,
   "metadata": {},
   "outputs": [
    {
     "data": {
      "text/plain": [
       "{'1994': {'CDU - Christian Democratic Union (Christlich Demokratische Union , CDU)': 2.0,\n",
       "  'CSU - Christian Social Union  (Christlich Soziale Union, CSU)': 1.0,\n",
       "  'FDP - Free Democrats  (Freie Demokratische Partei, FDP)': 1.0,\n",
       "  'G - Alliance 90-Greens (Bundnis 90-Die Grunen, G)': 1.0,\n",
       "  'PDS - Party of Democratic Socialism (Partei des Demokratischen Sozialismus, PDS)': 0.0,\n",
       "  'SPD - Social Democrats (Sozialdemokratische Partei Deutschlands, SPD)': 2.0},\n",
       " '1998': {'CDU - Christian Democratic Union (Christlich Demokratische Union , CDU)': 1.0,\n",
       "  'CSU - Christian Social Union  (Christlich Soziale Union, CSU)': 1.0,\n",
       "  'FDP - Free Democrats  (Freie Demokratische Partei, FDP)': 1.0,\n",
       "  'G - Alliance 90-Greens (Bundnis 90-Die Grunen, G)': 1.0,\n",
       "  'PDS - Party of Democratic Socialism (Partei des Demokratischen Sozialismus, PDS)': 0.0,\n",
       "  'SPD - Social Democrats (Sozialdemokratische Partei Deutschlands, SPD)': 3.0},\n",
       " '2002': {'CDU - Christian Democratic Union (Christlich Demokratische Union , CDU)': 1.0,\n",
       "  'CSU - Christian Social Union  (Christlich Soziale Union, CSU)': 1.0,\n",
       "  'FDP - Free Democrats  (Freie Demokratische Partei, FDP)': 0.0,\n",
       "  'G - Alliance 90-Greens (Bundnis 90-Die Grunen, G)': 1.0,\n",
       "  'PDS - Party of Democratic Socialism (Partei des Demokratischen Sozialismus, PDS)': 0.0,\n",
       "  'SPD - Social Democrats (Sozialdemokratische Partei Deutschlands, SPD)': 2.0},\n",
       " '2005': {'CDU - Christian Democratic Union (Christlich Demokratische Union , CDU)': 2.0,\n",
       "  'CSU - Christian Social Union  (Christlich Soziale Union, CSU)': 1.0,\n",
       "  'FDP - Free Democrats  (Freie Demokratische Partei, FDP)': 1.0,\n",
       "  'G - Alliance 90-Greens (Bundnis 90-Die Grunen, G)': 1.0,\n",
       "  'PDS - Party of Democratic Socialism (Partei des Demokratischen Sozialismus, PDS)': 1.0,\n",
       "  'SPD - Social Democrats (Sozialdemokratische Partei Deutschlands, SPD)': 3.0},\n",
       " '2009': {'CDU - Christian Democratic Union (Christlich Demokratische Union , CDU)': 4.0,\n",
       "  'CSU - Christian Social Union  (Christlich Soziale Union, CSU)': 1.0,\n",
       "  'FDP - Free Democrats  (Freie Demokratische Partei, FDP)': 2.0,\n",
       "  'G - Alliance 90-Greens (Bundnis 90-Die Grunen, G)': 1.0,\n",
       "  'Linke - The Left (Die Linke, Linke)': 2.0,\n",
       "  'SPD - Social Democrats (Sozialdemokratische Partei Deutschlands, SPD)': 3.0},\n",
       " '2013': {'CDU - Christian Democratic Union (Christlich Demokratische Union , CDU)': 2.0,\n",
       "  'CSU - Christian Social Union  (Christlich Soziale Union, CSU)': 0.0,\n",
       "  'G - Alliance 90-Greens (Bundnis 90-Die Grunen, G)': 1.0,\n",
       "  'Linke - The Left (Die Linke, Linke)': 1.0,\n",
       "  'SPD - Social Democrats (Sozialdemokratische Partei Deutschlands, SPD)': 1.0},\n",
       " '2017': {'AfD - Alternative for Germany (Alternative für Deutschland, AfD)': 3.0,\n",
       "  'CDU - Christian Democratic Union (Christlich Demokratische Union , CDU)': 5.0,\n",
       "  'CSU - Christian Social Union  (Christlich Soziale Union, CSU)': 1.0,\n",
       "  'FDP - Free Democrats  (Freie Demokratische Partei, FDP)': 2.0,\n",
       "  'G - Alliance 90-Greens (Bundnis 90-Die Grunen, G)': 2.0,\n",
       "  'Linke - The Left (Die Linke, Linke)': 2.0,\n",
       "  'SPD - Social Democrats (Sozialdemokratische Partei Deutschlands, SPD)': 4.0}}"
      ]
     },
     "execution_count": 28,
     "metadata": {},
     "output_type": "execute_result"
    }
   ],
   "source": [
    "germany.optimal_seats"
   ]
  },
  {
   "cell_type": "code",
   "execution_count": 5,
   "metadata": {},
   "outputs": [],
   "source": [
    "weights_dict= grab_relevant_weights(krohn_data.optimal_seats,'2001')\n",
    "weights= weight_dict_to_array(weights_dict)\n",
    "min_win_coals_year=minimal_winning_coalitions_for_a_year(krohn_data.minimal_winning_coalitions,'2001')\n",
    "min_len=mincardinality(min_win_coals_year)"
   ]
  },
  {
   "cell_type": "code",
   "execution_count": 17,
   "metadata": {},
   "outputs": [
    {
     "data": {
      "text/plain": [
       "{'A': (15, 15),\n",
       " 'B': (13, 13),\n",
       " 'C': (10, 10),\n",
       " 'D': (8, 8),\n",
       " 'E': (6, 6),\n",
       " 'F': (4, 4),\n",
       " 'G': (4, 4),\n",
       " 'H': (2, 1),\n",
       " 'I': (1, 2)}"
      ]
     },
     "execution_count": 17,
     "metadata": {},
     "output_type": "execute_result"
    }
   ],
   "source": [
    "weights_dict"
   ]
  },
  {
   "cell_type": "code",
   "execution_count": 24,
   "metadata": {},
   "outputs": [
    {
     "data": {
      "text/plain": [
       "1.5"
      ]
     },
     "execution_count": 24,
     "metadata": {},
     "output_type": "execute_result"
    }
   ],
   "source": [
    "sum(weights_dict.get('H'))/len(weights_dict.get('H'))"
   ]
  },
  {
   "cell_type": "code",
   "execution_count": 13,
   "metadata": {},
   "outputs": [
    {
     "data": {
      "text/plain": [
       "([0.515625,\n",
       "  0.421875,\n",
       "  0.3125,\n",
       "  0.234375,\n",
       "  0.1875,\n",
       "  0.125,\n",
       "  0.125,\n",
       "  0.046875,\n",
       "  0.046875],\n",
       " [0.26349206349206344,\n",
       "  0.21587301587301583,\n",
       "  0.15158730158730158,\n",
       "  0.11587301587301586,\n",
       "  0.08968253968253968,\n",
       "  0.06111111111111111,\n",
       "  0.06111111111111111,\n",
       "  0.020634920634920634,\n",
       "  0.020634920634920634])"
      ]
     },
     "execution_count": 13,
     "metadata": {},
     "output_type": "execute_result"
    }
   ],
   "source": [
    "pb_s,ss_list = pb_and_ss_i(weights,min_len)\n",
    "(pb_s,ss_list)"
   ]
  },
  {
   "cell_type": "code",
   "execution_count": 33,
   "metadata": {},
   "outputs": [
    {
     "data": {
      "text/plain": [
       "array([0.23809524, 0.20634921, 0.15873016, 0.12698413, 0.0952381 ,\n",
       "       0.06349206, 0.06349206, 0.02380952, 0.02380952])"
      ]
     },
     "execution_count": 33,
     "metadata": {},
     "output_type": "execute_result"
    }
   ],
   "source": [
    "msr_i=msr_index_i(weights_dict)\n",
    "(msr_i)"
   ]
  },
  {
   "cell_type": "code",
   "execution_count": 40,
   "metadata": {},
   "outputs": [
    {
     "data": {
      "text/plain": [
       "{'A', 'B', 'C', 'D', 'E', 'F', 'G', 'H', 'I'}"
      ]
     },
     "execution_count": 40,
     "metadata": {},
     "output_type": "execute_result"
    }
   ],
   "source": [
    "parties=relevant_parties_for_a_year(krohn_data.minimal_winning_coalitions,'2001')\n",
    "(parties)"
   ]
  },
  {
   "cell_type": "code",
   "execution_count": 46,
   "metadata": {},
   "outputs": [
    {
     "data": {
      "text/html": [
       "<div>\n",
       "<style scoped>\n",
       "    .dataframe tbody tr th:only-of-type {\n",
       "        vertical-align: middle;\n",
       "    }\n",
       "\n",
       "    .dataframe tbody tr th {\n",
       "        vertical-align: top;\n",
       "    }\n",
       "\n",
       "    .dataframe thead th {\n",
       "        text-align: right;\n",
       "    }\n",
       "</style>\n",
       "<table border=\"1\" class=\"dataframe\">\n",
       "  <thead>\n",
       "    <tr style=\"text-align: right;\">\n",
       "      <th></th>\n",
       "      <th>Party</th>\n",
       "      <th>Penrose-Banzhaf</th>\n",
       "      <th>Shapely-Shubik</th>\n",
       "      <th>Minimal-Sum</th>\n",
       "    </tr>\n",
       "  </thead>\n",
       "  <tbody>\n",
       "    <tr>\n",
       "      <th>0</th>\n",
       "      <td>A</td>\n",
       "      <td>0.515625</td>\n",
       "      <td>0.263492</td>\n",
       "      <td>0.238095</td>\n",
       "    </tr>\n",
       "    <tr>\n",
       "      <th>1</th>\n",
       "      <td>B</td>\n",
       "      <td>0.421875</td>\n",
       "      <td>0.215873</td>\n",
       "      <td>0.206349</td>\n",
       "    </tr>\n",
       "    <tr>\n",
       "      <th>2</th>\n",
       "      <td>C</td>\n",
       "      <td>0.312500</td>\n",
       "      <td>0.151587</td>\n",
       "      <td>0.158730</td>\n",
       "    </tr>\n",
       "    <tr>\n",
       "      <th>3</th>\n",
       "      <td>D</td>\n",
       "      <td>0.234375</td>\n",
       "      <td>0.115873</td>\n",
       "      <td>0.126984</td>\n",
       "    </tr>\n",
       "    <tr>\n",
       "      <th>4</th>\n",
       "      <td>E</td>\n",
       "      <td>0.187500</td>\n",
       "      <td>0.089683</td>\n",
       "      <td>0.095238</td>\n",
       "    </tr>\n",
       "    <tr>\n",
       "      <th>5</th>\n",
       "      <td>F</td>\n",
       "      <td>0.125000</td>\n",
       "      <td>0.061111</td>\n",
       "      <td>0.063492</td>\n",
       "    </tr>\n",
       "    <tr>\n",
       "      <th>6</th>\n",
       "      <td>G</td>\n",
       "      <td>0.125000</td>\n",
       "      <td>0.061111</td>\n",
       "      <td>0.063492</td>\n",
       "    </tr>\n",
       "    <tr>\n",
       "      <th>7</th>\n",
       "      <td>H</td>\n",
       "      <td>0.046875</td>\n",
       "      <td>0.020635</td>\n",
       "      <td>0.023810</td>\n",
       "    </tr>\n",
       "    <tr>\n",
       "      <th>8</th>\n",
       "      <td>I</td>\n",
       "      <td>0.046875</td>\n",
       "      <td>0.020635</td>\n",
       "      <td>0.023810</td>\n",
       "    </tr>\n",
       "  </tbody>\n",
       "</table>\n",
       "</div>"
      ],
      "text/plain": [
       "  Party  Penrose-Banzhaf  Shapely-Shubik  Minimal-Sum\n",
       "0     A         0.515625        0.263492     0.238095\n",
       "1     B         0.421875        0.215873     0.206349\n",
       "2     C         0.312500        0.151587     0.158730\n",
       "3     D         0.234375        0.115873     0.126984\n",
       "4     E         0.187500        0.089683     0.095238\n",
       "5     F         0.125000        0.061111     0.063492\n",
       "6     G         0.125000        0.061111     0.063492\n",
       "7     H         0.046875        0.020635     0.023810\n",
       "8     I         0.046875        0.020635     0.023810"
      ]
     },
     "execution_count": 46,
     "metadata": {},
     "output_type": "execute_result"
    }
   ],
   "source": [
    "df = combine_names_and_indices(weights_dict,pb_s,ss_list,msr_i)\n",
    "(df)"
   ]
  },
  {
   "cell_type": "code",
   "execution_count": 49,
   "metadata": {},
   "outputs": [],
   "source": [
    "df = power_indices_year(krohn_data.optimal_seats,krohn_data.minimal_winning_coalitions,'2001')"
   ]
  },
  {
   "cell_type": "code",
   "execution_count": 52,
   "metadata": {},
   "outputs": [
    {
     "data": {
      "text/plain": [
       "{('2001', 'A+B+C'): 1,\n",
       " ('2001', 'A+B+D'): 1,\n",
       " ('2001', 'A+B+E'): 1,\n",
       " ('2001', 'A+B+F'): 1,\n",
       " ('2001', 'A+B+G'): 1,\n",
       " ('2001', 'A+C+D'): 1,\n",
       " ('2001', 'A+C+E+F'): 1,\n",
       " ('2001', 'A+C+E+G'): 1,\n",
       " ('2001', 'A+C+E+H'): 1,\n",
       " ('2001', 'A+C+E+I'): 1,\n",
       " ('2001', 'A+C+F+G'): 1,\n",
       " ('2001', 'A+D+E+F'): 1,\n",
       " ('2001', 'A+D+E+G'): 1,\n",
       " ('2001', 'B+C+D+E'): 1,\n",
       " ('2001', 'B+C+D+F'): 1,\n",
       " ('2001', 'B+C+D+G'): 1,\n",
       " ('2001', 'B+C+D+H'): 1,\n",
       " ('2001', 'B+C+D+I'): 1,\n",
       " ('2001', 'B+C+E+F'): 1,\n",
       " ('2001', 'B+C+E+G'): 1,\n",
       " ('2001', 'A+C+F+H+I'): 1,\n",
       " ('2001', 'A+C+G+H+I'): 1,\n",
       " ('2001', 'A+D+E+H+I'): 1,\n",
       " ('2001', 'A+D+F+G+H'): 1,\n",
       " ('2001', 'A+D+F+G+I'): 1,\n",
       " ('2001', 'B+C+E+H+I'): 1,\n",
       " ('2001', 'B+C+F+G+H'): 1,\n",
       " ('2001', 'B+C+F+G+I'): 1,\n",
       " ('2001', 'B+D+E+F+G'): 1,\n",
       " ('2001', 'B+D+E+F+H'): 1,\n",
       " ('2001', 'B+D+E+F+I'): 1,\n",
       " ('2001', 'B+D+E+G+H'): 1,\n",
       " ('2001', 'B+D+E+G+I'): 1,\n",
       " ('2001', 'C+D+E+F+G'): 1,\n",
       " ('2001', 'A+E+F+G+H+I'): 1,\n",
       " ('2001', 'B+D+F+G+H+I'): 1,\n",
       " ('2002', 'A+B+C'): 1,\n",
       " ('2002', 'A+B+D'): 1,\n",
       " ('2002', 'A+B+E'): 1,\n",
       " ('2002', 'A+B+F'): 1,\n",
       " ('2002', 'A+B+G'): 1,\n",
       " ('2002', 'A+C+D'): 1,\n",
       " ('2002', 'A+C+E+F'): 1,\n",
       " ('2002', 'A+C+E+G'): 1,\n",
       " ('2002', 'A+C+E+H'): 1,\n",
       " ('2002', 'A+C+E+I'): 1,\n",
       " ('2002', 'A+C+F+G'): 1,\n",
       " ('2002', 'A+D+E+F'): 1,\n",
       " ('2002', 'A+D+E+G'): 1,\n",
       " ('2002', 'B+C+D+E'): 1,\n",
       " ('2002', 'B+C+D+F'): 1,\n",
       " ('2002', 'B+C+D+G'): 1,\n",
       " ('2002', 'B+C+D+H'): 1,\n",
       " ('2002', 'B+C+D+I'): 1,\n",
       " ('2002', 'B+C+E+F'): 1,\n",
       " ('2002', 'B+C+E+G'): 1,\n",
       " ('2002', 'B+D+E+F'): 1,\n",
       " ('2002', 'A+C+F+H+I'): 1,\n",
       " ('2002', 'A+D+E+H+I'): 1,\n",
       " ('2002', 'A+D+F+G+H'): 1,\n",
       " ('2002', 'A+D+F+G+I'): 1,\n",
       " ('2002', 'B+C+E+H+I'): 1,\n",
       " ('2002', 'B+C+F+G+H'): 1,\n",
       " ('2002', 'B+C+F+G+I'): 1,\n",
       " ('2002', 'B+D+E+G+H'): 1,\n",
       " ('2002', 'B+D+E+G+I'): 1,\n",
       " ('2002', 'C+D+E+F+G'): 1,\n",
       " ('2002', 'A+E+F+G+H+I'): 1,\n",
       " ('2002', 'B+D+F+G+H+I'): 1,\n",
       " ('2003', 'A+B+C'): 1,\n",
       " ('2003', 'A+B+D'): 1,\n",
       " ('2003', 'A+C+D'): 1,\n",
       " ('2003', 'A+B+E+F'): 1,\n",
       " ('2003', 'A+B+E+G'): 1,\n",
       " ('2003', 'A+B+E+H'): 1,\n",
       " ('2003', 'A+B+E+I'): 1,\n",
       " ('2003', 'A+B+F+G'): 1,\n",
       " ('2003', 'A+B+F+H'): 1,\n",
       " ('2003', 'A+B+F+I'): 1,\n",
       " ('2003', 'A+B+G+H'): 1,\n",
       " ('2003', 'A+B+G+I'): 1,\n",
       " ('2003', 'A+B+H+I'): 1,\n",
       " ('2003', 'A+C+E+F'): 1,\n",
       " ('2003', 'A+C+E+G'): 1,\n",
       " ('2003', 'A+C+E+H'): 1,\n",
       " ('2003', 'A+C+E+I'): 1,\n",
       " ('2003', 'A+C+F+G'): 1,\n",
       " ('2003', 'A+C+F+H'): 1,\n",
       " ('2003', 'A+C+F+I'): 1,\n",
       " ('2003', 'A+C+G+H'): 1,\n",
       " ('2003', 'A+C+G+I'): 1,\n",
       " ('2003', 'A+D+E+F'): 1,\n",
       " ('2003', 'A+D+E+G'): 1,\n",
       " ('2003', 'A+D+E+H'): 1,\n",
       " ('2003', 'A+D+E+I'): 1,\n",
       " ('2003', 'A+D+F+G'): 1,\n",
       " ('2003', 'A+D+F+H'): 1,\n",
       " ('2003', 'A+D+F+I'): 1,\n",
       " ('2003', 'A+D+G+H'): 1,\n",
       " ('2003', 'A+D+G+I'): 1,\n",
       " ('2003', 'A+E+F+G'): 1,\n",
       " ('2003', 'A+E+F+H+I'): 1,\n",
       " ('2003', 'A+E+G+H+I'): 1,\n",
       " ('2003', 'A+F+G+H+I'): 1,\n",
       " ('2003', 'B+C+D+E+F'): 1,\n",
       " ('2003', 'B+C+D+E+G'): 1,\n",
       " ('2003', 'B+C+D+E+H'): 1,\n",
       " ('2003', 'B+C+D+E+I'): 1,\n",
       " ('2003', 'B+C+D+F+G'): 1,\n",
       " ('2003', 'B+C+D+F+H'): 1,\n",
       " ('2003', 'B+C+D+F+I'): 1,\n",
       " ('2003', 'B+C+D+G+H'): 1,\n",
       " ('2003', 'B+C+D+G+I'): 1,\n",
       " ('2003', 'B+C+E+F+G'): 1,\n",
       " ('2003', 'B+D+E+F+G'): 1,\n",
       " ('2003', 'B+C+E+F+H+I'): 1,\n",
       " ('2003', 'B+C+E+G+H+I'): 1,\n",
       " ('2003', 'B+C+F+G+H+I'): 1,\n",
       " ('2003', 'B+D+E+F+H+I'): 1,\n",
       " ('2003', 'B+D+E+G+H+I'): 1,\n",
       " ('2003', 'B+D+F+G+H+I'): 1,\n",
       " ('2003', 'C+D+E+F+G+H'): 1,\n",
       " ('2003', 'C+D+E+F+G+I'): 1,\n",
       " ('2003', 'C+D+E+F+H+I'): 1,\n",
       " ('2003', 'C+D+E+G+H+I'): 1,\n",
       " ('2003', 'C+D+F+G+H+I'): 1,\n",
       " ('2004', 'A+B+C'): 1,\n",
       " ('2004', 'A+B+D'): 1,\n",
       " ('2004', 'A+B+E'): 1,\n",
       " ('2004', 'A+B+F'): 1,\n",
       " ('2004', 'A+B+G'): 1,\n",
       " ('2004', 'A+C+D'): 1,\n",
       " ('2004', 'A+C+E+F'): 1,\n",
       " ('2004', 'A+C+E+G'): 1,\n",
       " ('2004', 'A+C+E+H'): 1,\n",
       " ('2004', 'A+C+E+I'): 1,\n",
       " ('2004', 'A+C+F+G'): 1,\n",
       " ('2004', 'A+D+E+F'): 1,\n",
       " ('2004', 'A+D+E+G'): 1,\n",
       " ('2004', 'B+C+D+E'): 1,\n",
       " ('2004', 'B+C+D+F'): 1,\n",
       " ('2004', 'B+C+D+G'): 1,\n",
       " ('2004', 'B+C+D+H'): 1,\n",
       " ('2004', 'B+C+D+I'): 1,\n",
       " ('2004', 'B+C+E+F'): 1,\n",
       " ('2004', 'B+C+E+G'): 1,\n",
       " ('2004', 'A+C+F+H+I'): 1,\n",
       " ('2004', 'A+C+G+H+I'): 1,\n",
       " ('2004', 'A+D+E+H+I'): 1,\n",
       " ('2004', 'A+D+F+G+H'): 1,\n",
       " ('2004', 'A+D+F+G+I'): 1,\n",
       " ('2004', 'B+C+E+H+I'): 1,\n",
       " ('2004', 'B+C+F+G+H'): 1,\n",
       " ('2004', 'B+C+F+G+I'): 1,\n",
       " ('2004', 'B+D+E+F+G'): 1,\n",
       " ('2004', 'B+D+E+F+H'): 1,\n",
       " ('2004', 'B+D+E+F+I'): 1,\n",
       " ('2004', 'B+D+E+G+H'): 1,\n",
       " ('2004', 'B+D+E+G+I'): 1,\n",
       " ('2004', 'C+D+E+F+G'): 1,\n",
       " ('2004', 'A+E+F+G+H+I'): 1,\n",
       " ('2004', 'B+D+F+G+H+I'): 1,\n",
       " ('2005', 'A+B+C'): 1,\n",
       " ('2005', 'A+B+D'): 1,\n",
       " ('2005', 'A+B+E'): 1,\n",
       " ('2005', 'A+B+F'): 1,\n",
       " ('2005', 'A+B+G'): 1,\n",
       " ('2005', 'A+C+D'): 1,\n",
       " ('2005', 'A+C+E+F'): 1,\n",
       " ('2005', 'A+C+E+G'): 1,\n",
       " ('2005', 'A+C+E+H'): 1,\n",
       " ('2005', 'A+C+E+I'): 1,\n",
       " ('2005', 'A+C+F+G'): 1,\n",
       " ('2005', 'A+D+E+F'): 1,\n",
       " ('2005', 'A+D+E+G'): 1,\n",
       " ('2005', 'B+C+D+E'): 1,\n",
       " ('2005', 'B+C+D+F'): 1,\n",
       " ('2005', 'B+C+D+G'): 1,\n",
       " ('2005', 'B+C+D+H'): 1,\n",
       " ('2005', 'B+C+D+I'): 1,\n",
       " ('2005', 'B+C+E+F'): 1,\n",
       " ('2005', 'B+C+E+G'): 1,\n",
       " ('2005', 'B+D+E+F'): 1,\n",
       " ('2005', 'A+C+F+H+I'): 1,\n",
       " ('2005', 'A+D+E+H+I'): 1,\n",
       " ('2005', 'A+D+F+G+H'): 1,\n",
       " ('2005', 'A+D+F+G+I'): 1,\n",
       " ('2005', 'B+C+E+H+I'): 1,\n",
       " ('2005', 'B+C+F+G+H'): 1,\n",
       " ('2005', 'B+C+F+G+I'): 1,\n",
       " ('2005', 'B+D+E+G+H'): 1,\n",
       " ('2005', 'B+D+E+G+I'): 1,\n",
       " ('2005', 'C+D+E+F+G'): 1,\n",
       " ('2005', 'A+E+F+G+H+I'): 1,\n",
       " ('2005', 'B+D+F+G+H+I'): 1,\n",
       " ('2006', 'A+B+C'): 1,\n",
       " ('2006', 'A+B+D'): 1,\n",
       " ('2006', 'A+C+D'): 1,\n",
       " ('2006', 'A+B+E+F'): 1,\n",
       " ('2006', 'A+B+E+G'): 1,\n",
       " ('2006', 'A+B+E+H'): 1,\n",
       " ('2006', 'A+B+E+I'): 1,\n",
       " ('2006', 'A+B+F+G'): 1,\n",
       " ('2006', 'A+B+F+H'): 1,\n",
       " ('2006', 'A+B+F+I'): 1,\n",
       " ('2006', 'A+B+G+H'): 1,\n",
       " ('2006', 'A+B+G+I'): 1,\n",
       " ('2006', 'A+B+H+I'): 1,\n",
       " ('2006', 'A+C+E+F'): 1,\n",
       " ('2006', 'A+C+E+G'): 1,\n",
       " ('2006', 'A+C+E+H'): 1,\n",
       " ('2006', 'A+C+E+I'): 1,\n",
       " ('2006', 'A+C+F+G'): 1,\n",
       " ('2006', 'A+C+F+H'): 1,\n",
       " ('2006', 'A+C+F+I'): 1,\n",
       " ('2006', 'A+C+G+H'): 1,\n",
       " ('2006', 'A+C+G+I'): 1,\n",
       " ('2006', 'A+D+E+F'): 1,\n",
       " ('2006', 'A+D+E+G'): 1,\n",
       " ('2006', 'A+D+E+H'): 1,\n",
       " ('2006', 'A+D+E+I'): 1,\n",
       " ('2006', 'A+D+F+G'): 1,\n",
       " ('2006', 'A+D+F+H'): 1,\n",
       " ('2006', 'A+D+F+I'): 1,\n",
       " ('2006', 'A+D+G+H'): 1,\n",
       " ('2006', 'A+D+G+I'): 1,\n",
       " ('2006', 'A+E+F+G'): 1,\n",
       " ('2006', 'A+E+F+H+I'): 1,\n",
       " ('2006', 'A+E+G+H+I'): 1,\n",
       " ('2006', 'A+F+G+H+I'): 1,\n",
       " ('2006', 'B+C+D+E+F'): 1,\n",
       " ('2006', 'B+C+D+E+G'): 1,\n",
       " ('2006', 'B+C+D+E+H'): 1,\n",
       " ('2006', 'B+C+D+E+I'): 1,\n",
       " ('2006', 'B+C+D+F+G'): 1,\n",
       " ('2006', 'B+C+D+F+H'): 1,\n",
       " ('2006', 'B+C+D+F+I'): 1,\n",
       " ('2006', 'B+C+D+G+H'): 1,\n",
       " ('2006', 'B+C+D+G+I'): 1,\n",
       " ('2006', 'B+C+E+F+G'): 1,\n",
       " ('2006', 'B+D+E+F+G'): 1,\n",
       " ('2006', 'B+C+E+F+H+I'): 1,\n",
       " ('2006', 'B+C+E+G+H+I'): 1,\n",
       " ('2006', 'B+C+F+G+H+I'): 1,\n",
       " ('2006', 'B+D+E+F+H+I'): 1,\n",
       " ('2006', 'B+D+E+G+H+I'): 1,\n",
       " ('2006', 'B+D+F+G+H+I'): 1,\n",
       " ('2006', 'C+D+E+F+G+H'): 1,\n",
       " ('2006', 'C+D+E+F+G+I'): 1,\n",
       " ('2006', 'C+D+E+F+H+I'): 1,\n",
       " ('2006', 'C+D+E+G+H+I'): 1,\n",
       " ('2006', 'C+D+F+G+H+I'): 1}"
      ]
     },
     "execution_count": 52,
     "metadata": {},
     "output_type": "execute_result"
    }
   ],
   "source": [
    "krohn_data.minimal_winning_coalitions"
   ]
  },
  {
   "cell_type": "code",
   "execution_count": 54,
   "metadata": {},
   "outputs": [],
   "source": [
    "test = get_power_indices(krohn_data.optimal_seats,krohn_data.minimal_winning_coalitions)"
   ]
  },
  {
   "cell_type": "code",
   "execution_count": 55,
   "metadata": {},
   "outputs": [
    {
     "data": {
      "text/plain": [
       "{'2001':   Party  Penrose-Banzhaf  Shapely-Shubik  Minimal-Sum\n",
       " 0     A         0.515625        0.263492     0.238095\n",
       " 1     B         0.421875        0.215873     0.206349\n",
       " 2     C         0.312500        0.151587     0.158730\n",
       " 3     D         0.234375        0.115873     0.126984\n",
       " 4     E         0.187500        0.089683     0.095238\n",
       " 5     F         0.125000        0.061111     0.063492\n",
       " 6     G         0.125000        0.061111     0.063492\n",
       " 7     H         0.046875        0.020635     0.023810\n",
       " 8     I         0.046875        0.020635     0.023810,\n",
       " '2002':   Party  Penrose-Banzhaf  Shapely-Shubik  Minimal-Sum\n",
       " 0     A         0.507812        0.260317     0.239437\n",
       " 1     B         0.429688        0.219841     0.211268\n",
       " 2     C         0.304688        0.148413     0.154930\n",
       " 3     D         0.242188        0.119841     0.126761\n",
       " 4     E         0.195312        0.093651     0.098592\n",
       " 5     F         0.132812        0.065079     0.070423\n",
       " 6     G         0.117188        0.057937     0.056338\n",
       " 7     H         0.039062        0.017460     0.021127\n",
       " 8     I         0.039062        0.017460     0.021127,\n",
       " '2003':   Party  Penrose-Banzhaf  Shapely-Shubik  Minimal-Sum\n",
       " 0     A         0.648438        0.313492     0.265306\n",
       " 1     B         0.257812        0.130159     0.142857\n",
       " 2     C         0.242188        0.123016     0.122449\n",
       " 3     D         0.242188        0.123016     0.122449\n",
       " 4     E         0.148438        0.070635     0.081633\n",
       " 5     F         0.148438        0.070635     0.081633\n",
       " 6     G         0.148438        0.070635     0.081633\n",
       " 7     H         0.101562        0.049206     0.051020\n",
       " 8     I         0.101562        0.049206     0.051020,\n",
       " '2004':   Party  Penrose-Banzhaf  Shapely-Shubik  Minimal-Sum\n",
       " 0     A         0.515625        0.263492     0.238095\n",
       " 1     B         0.421875        0.215873     0.206349\n",
       " 2     C         0.312500        0.151587     0.158730\n",
       " 3     D         0.234375        0.115873     0.126984\n",
       " 4     E         0.187500        0.089683     0.095238\n",
       " 5     F         0.125000        0.061111     0.063492\n",
       " 6     G         0.125000        0.061111     0.063492\n",
       " 7     H         0.046875        0.020635     0.023810\n",
       " 8     I         0.046875        0.020635     0.023810,\n",
       " '2005':   Party  Penrose-Banzhaf  Shapely-Shubik  Minimal-Sum\n",
       " 0     A         0.507812        0.260317     0.239437\n",
       " 1     B         0.429688        0.219841     0.211268\n",
       " 2     C         0.304688        0.148413     0.154930\n",
       " 3     D         0.242188        0.119841     0.126761\n",
       " 4     E         0.195312        0.093651     0.098592\n",
       " 5     F         0.132812        0.065079     0.070423\n",
       " 6     G         0.117188        0.057937     0.056338\n",
       " 7     H         0.039062        0.017460     0.021127\n",
       " 8     I         0.039062        0.017460     0.021127,\n",
       " '2006':   Party  Penrose-Banzhaf  Shapely-Shubik  Minimal-Sum\n",
       " 0     A         0.648438        0.313492     0.265306\n",
       " 1     B         0.257812        0.130159     0.142857\n",
       " 2     C         0.242188        0.123016     0.122449\n",
       " 3     D         0.242188        0.123016     0.122449\n",
       " 4     E         0.148438        0.070635     0.081633\n",
       " 5     F         0.148438        0.070635     0.081633\n",
       " 6     G         0.148438        0.070635     0.081633\n",
       " 7     H         0.101562        0.049206     0.051020\n",
       " 8     I         0.101562        0.049206     0.051020}"
      ]
     },
     "execution_count": 55,
     "metadata": {},
     "output_type": "execute_result"
    }
   ],
   "source": [
    "test"
   ]
  },
  {
   "cell_type": "code",
   "execution_count": null,
   "metadata": {},
   "outputs": [],
   "source": []
  }
 ],
 "metadata": {
  "kernelspec": {
   "display_name": "base",
   "language": "python",
   "name": "python3"
  },
  "language_info": {
   "codemirror_mode": {
    "name": "ipython",
    "version": 3
   },
   "file_extension": ".py",
   "mimetype": "text/x-python",
   "name": "python",
   "nbconvert_exporter": "python",
   "pygments_lexer": "ipython3",
   "version": "3.11.5"
  }
 },
 "nbformat": 4,
 "nbformat_minor": 2
}
