{
 "cells": [
  {
   "cell_type": "code",
   "execution_count": null,
   "metadata": {},
   "outputs": [],
   "source": [
    "%load_ext autoreload\n",
    "%autoreload 2\n",
    "import pandas as pd\n",
    "import os\n",
    "import glob\n",
    "import time \n",
    "import numpy as np\n",
    "from itertools import combinations\n",
    "from mwc_class import getMVWs\n",
    "from mwc_functions import *\n",
    "from optimization_functions import *\n",
    "from power_indice_functions import * \n"
   ]
  },
  {
   "cell_type": "code",
   "execution_count": null,
   "metadata": {},
   "outputs": [],
   "source": [
    "start_time=time.time()\n",
    "krohn_data = getMVWs('krohn.csv', name='krohn_example', save_results=False,verify_mwcs=True,encoding='UTF-8',delimiter=',')\n",
    "prelims = krohn_data.preliminaries()\n",
    "country_MIW = krohn_data.minimal_voting_weights_pipeline()\n",
    "end_time=time.time()\n",
    "duration_Verify=end_time-start_time\n",
    "\n",
    "print(duration_Verify)"
   ]
  },
  {
   "cell_type": "markdown",
   "metadata": {},
   "source": [
    "# Create Functions that can calculate Banzhaf Index "
   ]
  },
  {
   "cell_type": "markdown",
   "metadata": {},
   "source": [
    "first get a list of mwc´s and parties for a year:"
   ]
  },
  {
   "cell_type": "code",
   "execution_count": null,
   "metadata": {},
   "outputs": [],
   "source": [
    "min_win_coals_year=minimal_winning_coalitions_for_a_year(krohn_data.minimal_winning_coalitions,'2001')\n",
    "relevant_parties_for_a_year=relevant_parties_for_a_year(krohn_data.minimal_winning_coalitions,'2001')"
   ]
  },
  {
   "cell_type": "markdown",
   "metadata": {},
   "source": [
    "create a function that can create a list of any 2 mwc unions "
   ]
  },
  {
   "cell_type": "code",
   "execution_count": null,
   "metadata": {},
   "outputs": [],
   "source": [
    "mwc_sets = [set(mwc.split('+')) for mwc in min_win_coals_year]"
   ]
  },
  {
   "cell_type": "code",
   "execution_count": null,
   "metadata": {},
   "outputs": [],
   "source": [
    "\n",
    "def union_of_two_mwcs_as_sets(min_win_coals_year):\n",
    "    mwc_sets = [set(mwc.split('+')) for mwc in min_win_coals_year]\n",
    "    combined_coalitions_sets = []\n",
    "    for mwc1, mwc2 in combinations(mwc_sets, 2):\n",
    "        combined_set = mwc1.union(mwc2) \n",
    "        combined_coalitions_sets.append(combined_set)\n",
    "    return combined_coalitions_sets\n"
   ]
  },
  {
   "cell_type": "code",
   "execution_count": null,
   "metadata": {},
   "outputs": [],
   "source": [
    "test_set_2 = union_of_two_mwcs_as_sets(min_win_coals_year)"
   ]
  },
  {
   "cell_type": "markdown",
   "metadata": {},
   "source": [
    "extend this to n-mwc-unions:"
   ]
  },
  {
   "cell_type": "code",
   "execution_count": null,
   "metadata": {},
   "outputs": [],
   "source": [
    "def union_of_n_mwcs_as_sets(min_win_coals_year, n):\n",
    "    mwc_sets = [set(mwc.split('+')) for mwc in min_win_coals_year]\n",
    "    combined_coalitions_sets = []\n",
    "    for mwc_combination in combinations(mwc_sets, n):\n",
    "        combined_set = set().union(*mwc_combination)\n",
    "        combined_coalitions_sets.append(combined_set)\n",
    "    return combined_coalitions_sets"
   ]
  },
  {
   "cell_type": "code",
   "execution_count": null,
   "metadata": {},
   "outputs": [],
   "source": [
    "test_set_4=union_of_n_mwcs_as_sets(min_win_coals_year,4)"
   ]
  },
  {
   "cell_type": "markdown",
   "metadata": {},
   "source": [
    "now the opus magnum of this code: \n",
    "\n",
    "a function which creates all n-unions for n= number of mwcs \\\\\n",
    "\n",
    "for any party consider only sets in which that party is a member \\\\\n",
    "\n",
    "for those sets calculate $2^{n-\\#\\{\\bigcup(\\dots)\\}}$ \\\\\n",
    "\n",
    "sum over all those and add or substract them from BS_i for all n \\\\\n",
    "\n",
    "this generally follows the steps of the example in \"Power indices and minimal winning coalitions\",Werner Kirsch, Jessica Langner,\"Social Choice and Welfare, Vol. 34, No. 1 (January 2010), pp. 33-46 (14 pages)\"\n",
    "https://www.jstor.org/stable/41108037"
   ]
  },
  {
   "cell_type": "code",
   "execution_count": null,
   "metadata": {},
   "outputs": [],
   "source": [
    "def BS_w(min_win_coals_year,relevant_parties): # to stay in notation of the paper, indicates the Banzhaf score of a voter w -> in our case score of a party \n",
    "    steps=len(min_win_coals_year)\n",
    "    BS={}\n",
    "    coalition_sets = {}\n",
    "    for i in range(1,steps+1): \n",
    "       coalition_sets[i]= union_of_n_mwcs_as_sets(min_win_coals_year, i)\n",
    "    for party_i in relevant_parties:\n",
    "        BS_i = 0\n",
    "        for i in range(1,steps+1): #We need a step for any value in steps (1,2,...,len(min_win_coals_year))\n",
    "            coalition_sets_with_i = [coalition_set for coalition_set in coalition_sets[i] if party_i in coalition_set] #in words: list every coalition set from coalition_sets[i] that includes party i\n",
    "            change_of_BS_i = sum(2**(steps - len(coalition_set)) for coalition_set in coalition_sets_with_i) #in words: for every set in coalition_sets_with_i calculate $2^{n-#U(...)}$ and add them all togehter\n",
    "            if i % 2 == 1:  #  if i odd: add change_of_BS_i\n",
    "                BS_i += change_of_BS_i\n",
    "            else:  # if i even: substract change_of_BS_i\n",
    "                BS_i -= change_of_BS_i\n",
    "        BS[party_i]=BS_i      \n"
   ]
  },
  {
   "cell_type": "code",
   "execution_count": 4,
   "metadata": {},
   "outputs": [
    {
     "ename": "KeyboardInterrupt",
     "evalue": "",
     "output_type": "error",
     "traceback": [
      "\u001b[1;31m---------------------------------------------------------------------------\u001b[0m",
      "\u001b[1;31mKeyboardInterrupt\u001b[0m                         Traceback (most recent call last)",
      "Cell \u001b[1;32mIn[4], line 1\u001b[0m\n\u001b[1;32m----> 1\u001b[0m banzaf_dict\u001b[38;5;241m=\u001b[39mBS_w(min_win_coals_year,relevant_parties_for_a_year)\n",
      "File \u001b[1;32mc:\\Users\\Hiwis\\Documents\\Sebastian Masterthesis\\Git repo\\masterthesis\\power_indice_functions.py:26\u001b[0m, in \u001b[0;36mBS_w\u001b[1;34m(min_win_coals_year, relevant_parties)\u001b[0m\n\u001b[0;32m     24\u001b[0m coalition_sets \u001b[38;5;241m=\u001b[39m {}\n\u001b[0;32m     25\u001b[0m \u001b[38;5;28;01mfor\u001b[39;00m i \u001b[38;5;129;01min\u001b[39;00m \u001b[38;5;28mrange\u001b[39m(\u001b[38;5;241m1\u001b[39m,steps\u001b[38;5;241m+\u001b[39m\u001b[38;5;241m1\u001b[39m): \n\u001b[1;32m---> 26\u001b[0m    coalition_sets[i]\u001b[38;5;241m=\u001b[39m union_of_n_mwcs_as_sets(min_win_coals_year, i)\n\u001b[0;32m     27\u001b[0m \u001b[38;5;28;01mfor\u001b[39;00m party_i \u001b[38;5;129;01min\u001b[39;00m relevant_parties:\n\u001b[0;32m     28\u001b[0m     BS_i \u001b[38;5;241m=\u001b[39m \u001b[38;5;241m0\u001b[39m\n",
      "File \u001b[1;32mc:\\Users\\Hiwis\\Documents\\Sebastian Masterthesis\\Git repo\\masterthesis\\power_indice_functions.py:43\u001b[0m, in \u001b[0;36munion_of_n_mwcs_as_sets\u001b[1;34m(min_win_coals_year, n)\u001b[0m\n\u001b[0;32m     41\u001b[0m \u001b[38;5;28;01mfor\u001b[39;00m mwc_combination \u001b[38;5;129;01min\u001b[39;00m combinations(mwc_sets, n):\n\u001b[0;32m     42\u001b[0m     combined_set \u001b[38;5;241m=\u001b[39m \u001b[38;5;28mset\u001b[39m()\u001b[38;5;241m.\u001b[39munion(\u001b[38;5;241m*\u001b[39mmwc_combination)\n\u001b[1;32m---> 43\u001b[0m     combined_coalitions_sets\u001b[38;5;241m.\u001b[39mappend(combined_set)\n\u001b[0;32m     44\u001b[0m \u001b[38;5;28;01mreturn\u001b[39;00m combined_coalitions_sets\n",
      "\u001b[1;31mKeyboardInterrupt\u001b[0m: "
     ]
    }
   ],
   "source": [
    "banzaf_dict=BS_w(min_win_coals_year,relevant_parties_for_a_year)"
   ]
  }
 ],
 "metadata": {
  "kernelspec": {
   "display_name": "base",
   "language": "python",
   "name": "python3"
  },
  "language_info": {
   "codemirror_mode": {
    "name": "ipython",
    "version": 3
   },
   "file_extension": ".py",
   "mimetype": "text/x-python",
   "name": "python",
   "nbconvert_exporter": "python",
   "pygments_lexer": "ipython3",
   "version": "3.11.5"
  }
 },
 "nbformat": 4,
 "nbformat_minor": 2
}
