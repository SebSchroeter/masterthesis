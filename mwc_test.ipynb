{
 "cells": [
  {
   "cell_type": "markdown",
   "metadata": {},
   "source": [
    "## Title brainstroming \n",
    "- Parliament seats or Power? An empiric test.   \n",
    "- Seats or Minimal Voting Weights, what´s relevant? \n",
    "- When Seats and Power diverge, who profits? \n",
    "- Gamsons Law reevaluated (Subtitle?) \n",
    "- The Relevance of Weights in Weighted Voting Games"
   ]
  },
  {
   "cell_type": "code",
   "execution_count": null,
   "metadata": {},
   "outputs": [],
   "source": [
    "%load_ext autoreload\n",
    "%autoreload 2\n",
    "import pandas as pd\n",
    "import os\n",
    "import time\n",
    "import numpy as np\n",
    "from scipy import optimize\n",
    "import numba as nb\n",
    "import itertools\n",
    "from mwc_functions import *\n",
    "from optimization_functions import *\n",
    "from mwc_class import getMVWs\n",
    "\n"
   ]
  },
  {
   "cell_type": "code",
   "execution_count": null,
   "metadata": {},
   "outputs": [],
   "source": [
    "bel_data = getMVWs('belgium.csv', save_results=False)\n",
    "first_results = bel_data.preliminaries()\n"
   ]
  },
  {
   "cell_type": "code",
   "execution_count": null,
   "metadata": {},
   "outputs": [],
   "source": [
    "transformed_dataframe = first_results.get(\"transformed_dataframe\")\n",
    "parties_in_year = first_results.get(\"parties_in_year\")\n",
    "n_in_year = first_results.get(\"n_in_year\")\n",
    "totalseats_in_year = first_results.get(\"totalseats_in_year\")\n",
    "coalition_dict = first_results.get(\"coalition_dict\")\n",
    "winning_coal_dict = first_results.get(\"winning_coal_dict\")\n",
    "minimal_winning_coalitions = first_results.get(\"minimal_winning_coalitions\")\n",
    "maximal_losing_coalitions = first_results.get(\"maximal_losing_coalitions\")\n",
    "unique_tying_coalitions = first_results.get(\"unique_tying_coalitions\")"
   ]
  },
  {
   "cell_type": "markdown",
   "metadata": {},
   "source": [
    "create a smaller dict of relevant coals "
   ]
  },
  {
   "cell_type": "code",
   "execution_count": null,
   "metadata": {},
   "outputs": [],
   "source": [
    "def combine_dicts(dict1, dict2):\n",
    "    return {**dict1, **dict2} ##apparently this \"unpacks the dict\"\n"
   ]
  },
  {
   "cell_type": "code",
   "execution_count": null,
   "metadata": {},
   "outputs": [],
   "source": [
    "relevant_coals = combine_dicts(minimal_winning_coalitions,maximal_losing_coalitions)"
   ]
  },
  {
   "cell_type": "markdown",
   "metadata": {},
   "source": [
    "manipulate the get_df function for this reduced dict"
   ]
  },
  {
   "cell_type": "code",
   "execution_count": null,
   "metadata": {},
   "outputs": [],
   "source": [
    "df_for_belgium = create_all_year_dfs(relevant_coals,parties_in_year)"
   ]
  },
  {
   "cell_type": "code",
   "execution_count": null,
   "metadata": {},
   "outputs": [],
   "source": [
    "belgian_mwc_constraints = generate_constraints_df(df_for_belgium['2014'])"
   ]
  },
  {
   "cell_type": "code",
   "execution_count": null,
   "metadata": {},
   "outputs": [],
   "source": [
    "belgian_lin_cons= get_lin_cons(belgian_mwc_constraints)"
   ]
  },
  {
   "cell_type": "code",
   "execution_count": null,
   "metadata": {},
   "outputs": [],
   "source": [
    "beligan_mvw=get_min_vote_weights('2014',n_in_year,belgian_lin_cons)"
   ]
  },
  {
   "cell_type": "code",
   "execution_count": null,
   "metadata": {},
   "outputs": [],
   "source": [
    "beligan_mvw.x"
   ]
  },
  {
   "cell_type": "code",
   "execution_count": null,
   "metadata": {},
   "outputs": [],
   "source": [
    "path = 'data/'"
   ]
  },
  {
   "cell_type": "code",
   "execution_count": null,
   "metadata": {},
   "outputs": [],
   "source": [
    "poland = read_csv_to_dataframe('Poland_without91.csv')"
   ]
  },
  {
   "cell_type": "code",
   "execution_count": null,
   "metadata": {},
   "outputs": [],
   "source": [
    "poland = transform_and_sort_dataframe(poland)"
   ]
  },
  {
   "cell_type": "code",
   "execution_count": null,
   "metadata": {},
   "outputs": [],
   "source": [
    "poland.head()"
   ]
  }
 ],
 "metadata": {
  "kernelspec": {
   "display_name": "Python 3",
   "language": "python",
   "name": "python3"
  },
  "language_info": {
   "codemirror_mode": {
    "name": "ipython",
    "version": 3
   },
   "file_extension": ".py",
   "mimetype": "text/x-python",
   "name": "python",
   "nbconvert_exporter": "python",
   "pygments_lexer": "ipython3",
   "version": "3.11.5"
  },
  "orig_nbformat": 4
 },
 "nbformat": 4,
 "nbformat_minor": 2
}
