{
 "cells": [
  {
   "cell_type": "markdown",
   "metadata": {},
   "source": [
    "## Title brainstroming \n",
    "- Parliament seats or Power? An empiric test.   \n",
    "- Seats or Minimal Voting Weights, what´s relevant? \n",
    "- When Seats and Power diverge, who profits? \n",
    "- Gamsons Law reevaluated (Subtitle?) \n",
    "- The Relevance of Weights in Weighted Voting Games"
   ]
  },
  {
   "cell_type": "code",
   "execution_count": 35,
   "metadata": {},
   "outputs": [
    {
     "name": "stdout",
     "output_type": "stream",
     "text": [
      "The autoreload extension is already loaded. To reload it, use:\n",
      "  %reload_ext autoreload\n"
     ]
    }
   ],
   "source": [
    "%load_ext autoreload\n",
    "%autoreload 2\n",
    "import pandas as pd\n",
    "import os\n",
    "import glob\n",
    "import time \n",
    "import numpy as np\n",
    "from itertools import combinations \n",
    "from mwc_functions import *\n",
    "from mwc_class import getMVWs\n",
    "from optimization_functions import *\n",
    "from power_indice_functions import * \n"
   ]
  },
  {
   "cell_type": "code",
   "execution_count": null,
   "metadata": {},
   "outputs": [],
   "source": [
    "bel_data = getMVWs('belgium.csv', save_results=False,verify_mwcs=True)\n",
    "first_results = bel_data.preliminaries()\n"
   ]
  },
  {
   "cell_type": "code",
   "execution_count": null,
   "metadata": {},
   "outputs": [],
   "source": [
    "transformed_dataframe = first_results.get(\"transformed_dataframe\")\n",
    "parties_in_year = first_results.get(\"parties_in_year\")\n",
    "n_in_year = first_results.get(\"n_in_year\")\n",
    "totalseats_in_year = first_results.get(\"totalseats_in_year\")\n",
    "coalition_dict = first_results.get(\"coalition_dict\")\n",
    "winning_coal_dict = first_results.get(\"winning_coal_dict\")\n",
    "minimal_winning_coalitions = first_results.get(\"minimal_winning_coalitions\")\n",
    "maximal_losing_coalitions = first_results.get(\"maximal_losing_coalitions\")\n",
    "unique_tying_coalitions = first_results.get(\"unique_tying_coalitions\")"
   ]
  },
  {
   "cell_type": "markdown",
   "metadata": {},
   "source": [
    "create a smaller dict of relevant coals "
   ]
  },
  {
   "cell_type": "code",
   "execution_count": null,
   "metadata": {},
   "outputs": [],
   "source": [
    "def combine_dicts(dict1, dict2):\n",
    "    return {**dict1, **dict2} ##apparently this \"unpacks the dict\"\n"
   ]
  },
  {
   "cell_type": "code",
   "execution_count": null,
   "metadata": {},
   "outputs": [],
   "source": [
    "relevant_coals = combine_dicts(minimal_winning_coalitions,maximal_losing_coalitions)"
   ]
  },
  {
   "cell_type": "markdown",
   "metadata": {},
   "source": [
    "manipulate the get_df function for this reduced dict"
   ]
  },
  {
   "cell_type": "code",
   "execution_count": null,
   "metadata": {},
   "outputs": [],
   "source": [
    "df_for_belgium = create_all_year_dfs(relevant_coals,parties_in_year)"
   ]
  },
  {
   "cell_type": "code",
   "execution_count": null,
   "metadata": {},
   "outputs": [],
   "source": [
    "all_cons=get_all_constrains(df_for_belgium)"
   ]
  },
  {
   "cell_type": "code",
   "execution_count": null,
   "metadata": {},
   "outputs": [],
   "source": [
    "all_lin_cons=get_all_lin_cons(all_cons)"
   ]
  },
  {
   "cell_type": "code",
   "execution_count": null,
   "metadata": {},
   "outputs": [],
   "source": [
    "all_min_weights=get_all_min_vote_weights(all_lin_cons,n_in_year)"
   ]
  },
  {
   "cell_type": "code",
   "execution_count": null,
   "metadata": {},
   "outputs": [],
   "source": [
    "optimal_Seats=get_all_optimized_seats(all_min_weights,parties_in_year)"
   ]
  },
  {
   "cell_type": "code",
   "execution_count": null,
   "metadata": {},
   "outputs": [],
   "source": [
    "bools,errors=verify_coals(optimal_Seats,winning_coal_dict)"
   ]
  },
  {
   "cell_type": "code",
   "execution_count": null,
   "metadata": {},
   "outputs": [],
   "source": [
    "alt_weights=all_year_all_possible_weights(all_min_weights,n_in_year,all_cons)"
   ]
  },
  {
   "cell_type": "code",
   "execution_count": null,
   "metadata": {},
   "outputs": [],
   "source": [
    "alt_weights"
   ]
  },
  {
   "cell_type": "code",
   "execution_count": null,
   "metadata": {},
   "outputs": [],
   "source": [
    "final=mvw_to_parties2(alt_weights,parties_in_year)"
   ]
  },
  {
   "cell_type": "code",
   "execution_count": null,
   "metadata": {},
   "outputs": [],
   "source": [
    "final"
   ]
  },
  {
   "cell_type": "markdown",
   "metadata": {},
   "source": [
    "## test all_year_all_possible_weights function:"
   ]
  },
  {
   "cell_type": "code",
   "execution_count": null,
   "metadata": {},
   "outputs": [],
   "source": [
    "all_year_all_weights = {}\n",
    "for year,weights in all_min_weights.items(): \n",
    "    yearly_weights = weights\n",
    "    if len(yearly_weights)>8: #test whether more than 8 players are in the game, for all games with <=8 players min integers are always unique\n",
    "        constraints=all_constraints.get(year)\n",
    "        all_yearly_weights=collect_all_representations(yearly_weights,year,n_in_year,constraints,find_error)\n",
    "        all_year_all_weights[year]=all_yearly_weights\n",
    "    else: all_year_all_weights[year]=yearly_weights"
   ]
  },
  {
   "cell_type": "markdown",
   "metadata": {},
   "source": [
    "## other tests: "
   ]
  },
  {
   "cell_type": "code",
   "execution_count": 6,
   "metadata": {},
   "outputs": [
    {
     "ename": "IndexError",
     "evalue": "invalid index to scalar variable.",
     "output_type": "error",
     "traceback": [
      "\u001b[1;31m---------------------------------------------------------------------------\u001b[0m",
      "\u001b[1;31mIndexError\u001b[0m                                Traceback (most recent call last)",
      "Cell \u001b[1;32mIn[6], line 4\u001b[0m\n\u001b[0;32m      2\u001b[0m Australian_data \u001b[38;5;241m=\u001b[39m getMVWs(\u001b[38;5;124m'\u001b[39m\u001b[38;5;124mAustralia.csv\u001b[39m\u001b[38;5;124m'\u001b[39m, name\u001b[38;5;241m=\u001b[39m\u001b[38;5;124m'\u001b[39m\u001b[38;5;124mAustralia\u001b[39m\u001b[38;5;124m'\u001b[39m, save_results\u001b[38;5;241m=\u001b[39m\u001b[38;5;28;01mTrue\u001b[39;00m,verify_mwcs\u001b[38;5;241m=\u001b[39m\u001b[38;5;28;01mTrue\u001b[39;00m)\n\u001b[0;32m      3\u001b[0m prelims \u001b[38;5;241m=\u001b[39m Australian_data\u001b[38;5;241m.\u001b[39mpreliminaries()\n\u001b[1;32m----> 4\u001b[0m country_MIW \u001b[38;5;241m=\u001b[39m Australian_data\u001b[38;5;241m.\u001b[39mminimal_voting_weights_pipeline()\n\u001b[0;32m      5\u001b[0m end_time\u001b[38;5;241m=\u001b[39mtime\u001b[38;5;241m.\u001b[39mtime()\n\u001b[0;32m      6\u001b[0m duration_Verify\u001b[38;5;241m=\u001b[39mend_time\u001b[38;5;241m-\u001b[39mstart_time\n",
      "File \u001b[1;32mc:\\Users\\Hiwis\\Documents\\Sebastian Masterthesis\\Git repo\\masterthesis\\mwc_class.py:93\u001b[0m, in \u001b[0;36mgetMVWs.minimal_voting_weights_pipeline\u001b[1;34m(self)\u001b[0m\n\u001b[0;32m     90\u001b[0m         \u001b[38;5;66;03m#print(self.bools)\u001b[39;00m\n\u001b[0;32m     91\u001b[0m         \u001b[38;5;66;03m#print(self.errors)           \u001b[39;00m\n\u001b[0;32m     92\u001b[0m \u001b[38;5;28mself\u001b[39m\u001b[38;5;241m.\u001b[39mall_alt_weights()\n\u001b[1;32m---> 93\u001b[0m \u001b[38;5;28mself\u001b[39m\u001b[38;5;241m.\u001b[39malt_weigths_withnames()\n\u001b[0;32m     94\u001b[0m \u001b[38;5;66;03m#self.time = time.time()\u001b[39;00m\n\u001b[0;32m     95\u001b[0m \u001b[38;5;28;01mif\u001b[39;00m \u001b[38;5;28mself\u001b[39m\u001b[38;5;241m.\u001b[39msaveresults:\n",
      "File \u001b[1;32mc:\\Users\\Hiwis\\Documents\\Sebastian Masterthesis\\Git repo\\masterthesis\\mwc_class.py:230\u001b[0m, in \u001b[0;36mgetMVWs.alt_weigths_withnames\u001b[1;34m(self)\u001b[0m\n\u001b[0;32m    229\u001b[0m \u001b[38;5;28;01mdef\u001b[39;00m \u001b[38;5;21malt_weigths_withnames\u001b[39m(\u001b[38;5;28mself\u001b[39m): \n\u001b[1;32m--> 230\u001b[0m     \u001b[38;5;28mself\u001b[39m\u001b[38;5;241m.\u001b[39moptimal_seats \u001b[38;5;241m=\u001b[39m mvw_to_parties2(\u001b[38;5;28mself\u001b[39m\u001b[38;5;241m.\u001b[39malternative_weights,\u001b[38;5;28mself\u001b[39m\u001b[38;5;241m.\u001b[39mparties_in_year)\n",
      "File \u001b[1;32mc:\\Users\\Hiwis\\Documents\\Sebastian Masterthesis\\Git repo\\masterthesis\\optimization_functions.py:345\u001b[0m, in \u001b[0;36mmvw_to_parties2\u001b[1;34m(all_year_all_weights, parties_in_year)\u001b[0m\n\u001b[0;32m    343\u001b[0m \u001b[38;5;28;01mfor\u001b[39;00m year, yearly_weight_lists \u001b[38;5;129;01min\u001b[39;00m all_year_all_weights\u001b[38;5;241m.\u001b[39mitems():\n\u001b[0;32m    344\u001b[0m     \u001b[38;5;28;01mfor\u001b[39;00m i, party \u001b[38;5;129;01min\u001b[39;00m \u001b[38;5;28menumerate\u001b[39m(parties_in_year[year]):\n\u001b[1;32m--> 345\u001b[0m         party_weights \u001b[38;5;241m=\u001b[39m [weight_list[i] \u001b[38;5;28;01mfor\u001b[39;00m weight_list \u001b[38;5;129;01min\u001b[39;00m yearly_weight_lists]\n\u001b[0;32m    346\u001b[0m         possible_weights[(year, party)] \u001b[38;5;241m=\u001b[39m \u001b[38;5;28mtuple\u001b[39m(party_weights)\n\u001b[0;32m    348\u001b[0m \u001b[38;5;28;01mreturn\u001b[39;00m possible_weights\n",
      "File \u001b[1;32mc:\\Users\\Hiwis\\Documents\\Sebastian Masterthesis\\Git repo\\masterthesis\\optimization_functions.py:345\u001b[0m, in \u001b[0;36m<listcomp>\u001b[1;34m(.0)\u001b[0m\n\u001b[0;32m    343\u001b[0m \u001b[38;5;28;01mfor\u001b[39;00m year, yearly_weight_lists \u001b[38;5;129;01min\u001b[39;00m all_year_all_weights\u001b[38;5;241m.\u001b[39mitems():\n\u001b[0;32m    344\u001b[0m     \u001b[38;5;28;01mfor\u001b[39;00m i, party \u001b[38;5;129;01min\u001b[39;00m \u001b[38;5;28menumerate\u001b[39m(parties_in_year[year]):\n\u001b[1;32m--> 345\u001b[0m         party_weights \u001b[38;5;241m=\u001b[39m [weight_list[i] \u001b[38;5;28;01mfor\u001b[39;00m weight_list \u001b[38;5;129;01min\u001b[39;00m yearly_weight_lists]\n\u001b[0;32m    346\u001b[0m         possible_weights[(year, party)] \u001b[38;5;241m=\u001b[39m \u001b[38;5;28mtuple\u001b[39m(party_weights)\n\u001b[0;32m    348\u001b[0m \u001b[38;5;28;01mreturn\u001b[39;00m possible_weights\n",
      "\u001b[1;31mIndexError\u001b[0m: invalid index to scalar variable."
     ]
    }
   ],
   "source": [
    "start_time=time.time()\n",
    "Australian_data = getMVWs('Australia.csv', name='Australia', save_results=True,verify_mwcs=True)\n",
    "prelims = Australian_data.preliminaries()\n",
    "country_MIW = Australian_data.minimal_voting_weights_pipeline()\n",
    "end_time=time.time()\n",
    "duration_Verify=end_time-start_time\n",
    "\n",
    "print(duration_Verify)"
   ]
  },
  {
   "cell_type": "code",
   "execution_count": 7,
   "metadata": {},
   "outputs": [],
   "source": [
    "Australian_data.get_all_dfs()\n",
    "Australian_data.Find_all_contraints()\n",
    "Australian_data.Find_all_lin_cons()\n",
    "Australian_data.Find_all_min_weights()\n",
    "\n",
    "Australian_data.All_the_optimal_seats()\n",
    "Australian_data.verify_found_miw()"
   ]
  },
  {
   "cell_type": "code",
   "execution_count": 8,
   "metadata": {},
   "outputs": [
    {
     "data": {
      "text/plain": [
       "{'1993': {'Lab - Labor Party (Labor Party, Lab)': 1.0,\n",
       "  'Lib - Liberal Party  (Liberal Party , Lib)': 0.0,\n",
       "  'Nat - National Party (National Party, Nat)': 0.0,\n",
       "  'no acronym - Other (Other, no acronym)': 0.0},\n",
       " '1996': {'Lab - Labor Party (Labor Party, Lab)': 0.0,\n",
       "  'Lib - Liberal Party  (Liberal Party , Lib)': 1.0,\n",
       "  'Nat - National Party (National Party, Nat)': 0.0,\n",
       "  'no acronym - Other (Other, no acronym)': 0.0},\n",
       " '1998': {'LN - Liberal-National Coalition (Liberal-National Coalition, LN)': 1.0,\n",
       "  'Lab - Labor Party (Labor Party, Lab)': 0.0,\n",
       "  'no acronym - Other (Other, no acronym)': 0.0},\n",
       " '2001': {'CLP - Country Liberal Party (Country Liberal Party, CLP)': 0.0,\n",
       "  'Lab - Labor Party (Labor Party, Lab)': 1.0,\n",
       "  'Lib - Liberal Party  (Liberal Party , Lib)': 1.0,\n",
       "  'Nat - National Party (National Party, Nat)': 1.0,\n",
       "  'no acronym - Other (Other, no acronym)': 0.0},\n",
       " '2004': {'CLP - Country Liberal Party (Country Liberal Party, CLP)': 1.0,\n",
       "  'Lab - Labor Party (Labor Party, Lab)': 2.0,\n",
       "  'Lib - Liberal Party  (Liberal Party , Lib)': 5.0,\n",
       "  'Nat - National Party (National Party, Nat)': 2.0,\n",
       "  'no acronym - Independent Candidates (Independent Candidates, no acronym)': 2.0},\n",
       " '2007': {'Lab - Labor Party (Labor Party, Lab)': 1.0,\n",
       "  'Lib - Liberal Party  (Liberal Party , Lib)': 0.0,\n",
       "  'Nat - National Party (National Party, Nat)': 0.0,\n",
       "  'no acronym - Independent Candidates (Independent Candidates, no acronym)': 0.0},\n",
       " '2010': {'CLP - Country Liberal Party (Country Liberal Party, CLP)': 0.0,\n",
       "  'G - Green (Green, G)': 0.0,\n",
       "  'LNP - Liberal-National Party ( Queensland) (Liberal-National, LNP)': 1.0,\n",
       "  'Lab - Labor Party (Labor Party, Lab)': 3.0,\n",
       "  'Lib - Liberal Party  (Liberal Party , Lib)': 1.0,\n",
       "  'Nat - National Party (National Party, Nat)': 1.0,\n",
       "  'no acronym - Independent Candidates (Independent Candidates, no acronym)': 1.0},\n",
       " '2013': {'CLP - Country Liberal Party (Country Liberal Party, CLP)': 0.0,\n",
       "  'G - Green (Green, G)': 0.0,\n",
       "  \"KAP - Katter's Australian Party (Katter's Australian Party, KAP)\": 0.0,\n",
       "  'LNP - Liberal-National Party ( Queensland) (Liberal-National, LNP)': 1.0,\n",
       "  'Lab - Labor Party (Labor Party, Lab)': 1.0,\n",
       "  'Lib - Liberal Party  (Liberal Party , Lib)': 1.0,\n",
       "  'Nat - National Party (National Party, Nat)': 0.0,\n",
       "  'PUP - Palmer United Party (Palmer United Party, PUP)': 0.0,\n",
       "  'no acronym - Independent Candidates (Independent Candidates, no acronym)': 0.0},\n",
       " '2016': {'G - Green (Green, G)': 0.0,\n",
       "  \"KAP - Katter's Australian Party (Katter's Australian Party, KAP)\": 0.0,\n",
       "  'LNP - Liberal-National Party ( Queensland) (Liberal-National, LNP)': 1.0,\n",
       "  'Lab - Labor Party (Labor Party, Lab)': 2.0,\n",
       "  'Lib - Liberal Party  (Liberal Party , Lib)': 1.0,\n",
       "  'Nat - National Party (National Party, Nat)': 1.0,\n",
       "  'X - Xenophon Group (Xenophon Group, X)': 0.0,\n",
       "  'no acronym - Independent Candidates (Independent Candidates, no acronym)': 0.0},\n",
       " '2019': {'G - Green (Green, G)': 0.0,\n",
       "  \"KAP - Katter's Australian Party (Katter's Australian Party, KAP)\": 0.0,\n",
       "  'LNP - Liberal-National Party ( Queensland) (Liberal-National, LNP)': 1.0,\n",
       "  'Lab - Labor Party (Labor Party, Lab)': 2.0,\n",
       "  'Lib - Liberal Party  (Liberal Party , Lib)': 1.0,\n",
       "  'Nat - National Party (National Party, Nat)': 1.0,\n",
       "  'X - Xenophon Group (Xenophon Group, X)': 0.0,\n",
       "  'no acronym - Independent Candidates (Independent Candidates, no acronym)': 0.0}}"
      ]
     },
     "execution_count": 8,
     "metadata": {},
     "output_type": "execute_result"
    }
   ],
   "source": [
    "Australian_data.optimal_seats"
   ]
  },
  {
   "cell_type": "code",
   "execution_count": 11,
   "metadata": {},
   "outputs": [],
   "source": [
    "Australian_data.all_alt_weights()"
   ]
  },
  {
   "cell_type": "code",
   "execution_count": 12,
   "metadata": {},
   "outputs": [
    {
     "data": {
      "text/plain": [
       "{'1993': array([1., 0., 0., 0.]),\n",
       " '1996': array([0., 1., 0., 0.]),\n",
       " '1998': array([1., 0., 0.]),\n",
       " '2001': array([0., 1., 1., 1., 0.]),\n",
       " '2004': array([1., 2., 5., 2., 2.]),\n",
       " '2007': array([1., 0., 0., 0.]),\n",
       " '2010': array([0., 0., 1., 3., 1., 1., 1.]),\n",
       " '2013': [array([0, 0, 0, 1, 1, 1, 0, 0, 0])],\n",
       " '2016': array([0., 0., 1., 2., 1., 1., 0., 0.]),\n",
       " '2019': array([0., 0., 1., 2., 1., 1., 0., 0.])}"
      ]
     },
     "execution_count": 12,
     "metadata": {},
     "output_type": "execute_result"
    }
   ],
   "source": [
    "Australian_data.alternative_weights"
   ]
  },
  {
   "cell_type": "code",
   "execution_count": 14,
   "metadata": {},
   "outputs": [],
   "source": [
    "Australian_data.alt_weigths_withnames()"
   ]
  },
  {
   "cell_type": "code",
   "execution_count": 13,
   "metadata": {},
   "outputs": [
    {
     "ename": "IndexError",
     "evalue": "invalid index to scalar variable.",
     "output_type": "error",
     "traceback": [
      "\u001b[1;31m---------------------------------------------------------------------------\u001b[0m",
      "\u001b[1;31mIndexError\u001b[0m                                Traceback (most recent call last)",
      "Cell \u001b[1;32mIn[13], line 4\u001b[0m\n\u001b[0;32m      2\u001b[0m \u001b[38;5;28;01mfor\u001b[39;00m year, yearly_weight_lists \u001b[38;5;129;01min\u001b[39;00m Australian_data\u001b[38;5;241m.\u001b[39malternative_weights\u001b[38;5;241m.\u001b[39mitems():\n\u001b[0;32m      3\u001b[0m     \u001b[38;5;28;01mfor\u001b[39;00m i, party \u001b[38;5;129;01min\u001b[39;00m \u001b[38;5;28menumerate\u001b[39m(Australian_data\u001b[38;5;241m.\u001b[39mparties_in_year[year]):\n\u001b[1;32m----> 4\u001b[0m         party_weights \u001b[38;5;241m=\u001b[39m [weight_list[i] \u001b[38;5;28;01mfor\u001b[39;00m weight_list \u001b[38;5;129;01min\u001b[39;00m yearly_weight_lists]\n\u001b[0;32m      5\u001b[0m         possible_weights[(year, party)] \u001b[38;5;241m=\u001b[39m \u001b[38;5;28mtuple\u001b[39m(party_weights)\n",
      "Cell \u001b[1;32mIn[13], line 4\u001b[0m, in \u001b[0;36m<listcomp>\u001b[1;34m(.0)\u001b[0m\n\u001b[0;32m      2\u001b[0m \u001b[38;5;28;01mfor\u001b[39;00m year, yearly_weight_lists \u001b[38;5;129;01min\u001b[39;00m Australian_data\u001b[38;5;241m.\u001b[39malternative_weights\u001b[38;5;241m.\u001b[39mitems():\n\u001b[0;32m      3\u001b[0m     \u001b[38;5;28;01mfor\u001b[39;00m i, party \u001b[38;5;129;01min\u001b[39;00m \u001b[38;5;28menumerate\u001b[39m(Australian_data\u001b[38;5;241m.\u001b[39mparties_in_year[year]):\n\u001b[1;32m----> 4\u001b[0m         party_weights \u001b[38;5;241m=\u001b[39m [weight_list[i] \u001b[38;5;28;01mfor\u001b[39;00m weight_list \u001b[38;5;129;01min\u001b[39;00m yearly_weight_lists]\n\u001b[0;32m      5\u001b[0m         possible_weights[(year, party)] \u001b[38;5;241m=\u001b[39m \u001b[38;5;28mtuple\u001b[39m(party_weights)\n",
      "\u001b[1;31mIndexError\u001b[0m: invalid index to scalar variable."
     ]
    }
   ],
   "source": [
    "possible_weights = {}\n",
    "for year, yearly_weight_lists in Australian_data.alternative_weights.items():\n",
    "    for i, party in enumerate(Australian_data.parties_in_year[year]):\n",
    "        party_weights = [weight_list[i] for weight_list in yearly_weight_lists]\n",
    "        possible_weights[(year, party)] = tuple(party_weights)"
   ]
  },
  {
   "cell_type": "code",
   "execution_count": 36,
   "metadata": {},
   "outputs": [
    {
     "ename": "ValueError",
     "evalue": "min() arg is an empty sequence",
     "output_type": "error",
     "traceback": [
      "\u001b[1;31m---------------------------------------------------------------------------\u001b[0m",
      "\u001b[1;31mValueError\u001b[0m                                Traceback (most recent call last)",
      "Cell \u001b[1;32mIn[36], line 4\u001b[0m\n\u001b[0;32m      2\u001b[0m prelims \u001b[38;5;241m=\u001b[39m country_data\u001b[38;5;241m.\u001b[39mpreliminaries()\n\u001b[0;32m      3\u001b[0m country_MIW \u001b[38;5;241m=\u001b[39m country_data\u001b[38;5;241m.\u001b[39mminimal_voting_weights_pipeline()\n\u001b[1;32m----> 4\u001b[0m country_power_indices \u001b[38;5;241m=\u001b[39m country_data\u001b[38;5;241m.\u001b[39mpower_indices_pipeline()\n",
      "File \u001b[1;32mc:\\Users\\Hiwis\\Documents\\Sebastian Masterthesis\\Git repo\\masterthesis\\mwc_class.py:107\u001b[0m, in \u001b[0;36mgetMVWs.power_indices_pipeline\u001b[1;34m(self)\u001b[0m\n\u001b[0;32m    106\u001b[0m \u001b[38;5;28;01mdef\u001b[39;00m \u001b[38;5;21mpower_indices_pipeline\u001b[39m(\u001b[38;5;28mself\u001b[39m): \n\u001b[1;32m--> 107\u001b[0m     \u001b[38;5;28mself\u001b[39m\u001b[38;5;241m.\u001b[39mall_power_indices()\n\u001b[0;32m    108\u001b[0m     \u001b[38;5;28;01mif\u001b[39;00m \u001b[38;5;28mself\u001b[39m\u001b[38;5;241m.\u001b[39msaveresults: \n\u001b[0;32m    109\u001b[0m         \u001b[38;5;28mself\u001b[39m\u001b[38;5;241m.\u001b[39msave_power_indices()\n",
      "File \u001b[1;32mc:\\Users\\Hiwis\\Documents\\Sebastian Masterthesis\\Git repo\\masterthesis\\mwc_class.py:234\u001b[0m, in \u001b[0;36mgetMVWs.all_power_indices\u001b[1;34m(self)\u001b[0m\n\u001b[0;32m    233\u001b[0m \u001b[38;5;28;01mdef\u001b[39;00m \u001b[38;5;21mall_power_indices\u001b[39m(\u001b[38;5;28mself\u001b[39m): \n\u001b[1;32m--> 234\u001b[0m     \u001b[38;5;28mself\u001b[39m\u001b[38;5;241m.\u001b[39mpower_indices \u001b[38;5;241m=\u001b[39m get_power_indices(\u001b[38;5;28mself\u001b[39m\u001b[38;5;241m.\u001b[39moptimal_seats,\u001b[38;5;28mself\u001b[39m\u001b[38;5;241m.\u001b[39mminimal_winning_coalitions)\n",
      "File \u001b[1;32mc:\\Users\\Hiwis\\Documents\\Sebastian Masterthesis\\Git repo\\masterthesis\\power_indice_functions.py:155\u001b[0m, in \u001b[0;36mget_power_indices\u001b[1;34m(optimal_seats, minimal_winning_coal_dict)\u001b[0m\n\u001b[0;32m    153\u001b[0m all_power_indices_dict \u001b[38;5;241m=\u001b[39m {}\n\u001b[0;32m    154\u001b[0m \u001b[38;5;28;01mfor\u001b[39;00m (year,party),seats \u001b[38;5;129;01min\u001b[39;00m optimal_seats\u001b[38;5;241m.\u001b[39mitems():\n\u001b[1;32m--> 155\u001b[0m     df\u001b[38;5;241m=\u001b[39mpower_indices_year(optimal_seats,minimal_winning_coal_dict,year)\n\u001b[0;32m    156\u001b[0m     all_power_indices_dict[year]\u001b[38;5;241m=\u001b[39mdf\n\u001b[0;32m    157\u001b[0m \u001b[38;5;28;01mreturn\u001b[39;00m all_power_indices_dict\n",
      "File \u001b[1;32mc:\\Users\\Hiwis\\Documents\\Sebastian Masterthesis\\Git repo\\masterthesis\\power_indice_functions.py:144\u001b[0m, in \u001b[0;36mpower_indices_year\u001b[1;34m(optimal_seats, minimal_winning_coal_dict, year)\u001b[0m\n\u001b[0;32m    142\u001b[0m weights \u001b[38;5;241m=\u001b[39m weight_dict_to_array(weights_dict)\n\u001b[0;32m    143\u001b[0m min_win_coals \u001b[38;5;241m=\u001b[39m minimal_winning_coalitions_for_a_year(minimal_winning_coal_dict,year)\n\u001b[1;32m--> 144\u001b[0m min_len\u001b[38;5;241m=\u001b[39mmincardinality(min_win_coals)\n\u001b[0;32m    145\u001b[0m \u001b[38;5;66;03m## get bs and ss \u001b[39;00m\n\u001b[0;32m    146\u001b[0m pb_list,ss_list \u001b[38;5;241m=\u001b[39m pb_and_ss_i(weights,min_len)\n",
      "File \u001b[1;32mc:\\Users\\Hiwis\\Documents\\Sebastian Masterthesis\\Git repo\\masterthesis\\power_indice_functions.py:25\u001b[0m, in \u001b[0;36mmincardinality\u001b[1;34m(min_win_coals_year)\u001b[0m\n\u001b[0;32m     23\u001b[0m     parties \u001b[38;5;241m=\u001b[39m i\u001b[38;5;241m.\u001b[39msplit(\u001b[38;5;124m'\u001b[39m\u001b[38;5;124m+\u001b[39m\u001b[38;5;124m'\u001b[39m) \u001b[38;5;28;01mif\u001b[39;00m \u001b[38;5;124m'\u001b[39m\u001b[38;5;124m+\u001b[39m\u001b[38;5;124m'\u001b[39m \u001b[38;5;129;01min\u001b[39;00m i \u001b[38;5;28;01melse\u001b[39;00m [i] \u001b[38;5;66;03m## account for dictator parties --> single party is minimal winning --> can´t split the coalition at '+' signs\u001b[39;00m\n\u001b[0;32m     24\u001b[0m     cardinalities\u001b[38;5;241m.\u001b[39mappend(\u001b[38;5;28mlen\u001b[39m(parties))\n\u001b[1;32m---> 25\u001b[0m min_cardinality \u001b[38;5;241m=\u001b[39m \u001b[38;5;28mmin\u001b[39m(cardinalities)\n\u001b[0;32m     26\u001b[0m \u001b[38;5;28;01mreturn\u001b[39;00m min_cardinality\n",
      "\u001b[1;31mValueError\u001b[0m: min() arg is an empty sequence"
     ]
    }
   ],
   "source": [
    "country_data = getMVWs('Greece.csv', name='Greece', save_results=True,verify_mwcs=True)\n",
    "prelims = country_data.preliminaries()\n",
    "country_MIW = country_data.minimal_voting_weights_pipeline()\n",
    "country_power_indices = country_data.power_indices_pipeline()"
   ]
  },
  {
   "cell_type": "code",
   "execution_count": 22,
   "metadata": {},
   "outputs": [
    {
     "data": {
      "text/plain": [
       "{('1993',\n",
       "  'PASOK - Pan-Hellenic Socialist Movement  (Panellinio Sosialistiko Kinima, PASOK)'): 1,\n",
       " ('1996',\n",
       "  'PASOK - Pan-Hellenic Socialist Movement  (Panellinio Sosialistiko Kinima, PASOK)'): 1,\n",
       " ('2000',\n",
       "  'PASOK - Pan-Hellenic Socialist Movement  (Panellinio Sosialistiko Kinima, PASOK)'): 1,\n",
       " ('2004', 'ND - New Democracy  (Nea Dimokratia, ND)'): 1,\n",
       " ('2007', 'ND - New Democracy  (Nea Dimokratia, ND)'): 1,\n",
       " ('2009',\n",
       "  'PASOK - Pan-Hellenic Socialist Movement  (Panellinio Sosialistiko Kinima, PASOK)'): 1,\n",
       " ('2019', 'ND - New Democracy  (Nea Dimokratia, ND)'): 1}"
      ]
     },
     "execution_count": 22,
     "metadata": {},
     "output_type": "execute_result"
    }
   ],
   "source": [
    "country_data.minimal_winning_coalitions"
   ]
  },
  {
   "cell_type": "code",
   "execution_count": 33,
   "metadata": {},
   "outputs": [],
   "source": [
    "min_wins_year=minimal_winning_coalitions_for_a_year(country_data.minimal_winning_coalitions,'2019')"
   ]
  },
  {
   "cell_type": "code",
   "execution_count": 34,
   "metadata": {},
   "outputs": [
    {
     "data": {
      "text/plain": [
       "1"
      ]
     },
     "execution_count": 34,
     "metadata": {},
     "output_type": "execute_result"
    }
   ],
   "source": [
    "mincardinality(min_wins_year)"
   ]
  }
 ],
 "metadata": {
  "kernelspec": {
   "display_name": "Python 3",
   "language": "python",
   "name": "python3"
  },
  "language_info": {
   "codemirror_mode": {
    "name": "ipython",
    "version": 3
   },
   "file_extension": ".py",
   "mimetype": "text/x-python",
   "name": "python",
   "nbconvert_exporter": "python",
   "pygments_lexer": "ipython3",
   "version": "3.11.5"
  },
  "orig_nbformat": 4
 },
 "nbformat": 4,
 "nbformat_minor": 2
}
