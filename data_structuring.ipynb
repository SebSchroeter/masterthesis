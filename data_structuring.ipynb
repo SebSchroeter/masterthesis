{
 "cells": [
  {
   "cell_type": "code",
   "execution_count": 1,
   "metadata": {},
   "outputs": [],
   "source": [
    "import pandas as pd\n",
    "import os\n",
    "import numpy as np\n",
    "from datetime import datetime"
   ]
  },
  {
   "cell_type": "markdown",
   "metadata": {},
   "source": [
    "Test with poland"
   ]
  },
  {
   "cell_type": "code",
   "execution_count": 2,
   "metadata": {},
   "outputs": [],
   "source": [
    "#file_name='minimal_seats-Poland_without91.xlsx'"
   ]
  },
  {
   "cell_type": "code",
   "execution_count": 3,
   "metadata": {},
   "outputs": [],
   "source": [
    "file_name='minimal_seats-Australia.xlsx'"
   ]
  },
  {
   "cell_type": "code",
   "execution_count": 4,
   "metadata": {},
   "outputs": [],
   "source": [
    "\n",
    "def country_df(file_name): \n",
    "    df=pd.read_excel(f'mvws/{file_name}')\n",
    "    ###get country name part###\n",
    "    first_split=file_name.split('-')\n",
    "    country_name=first_split[1].split('.')[0]\n",
    "    ### get dates from excel###\n",
    "    dates=df['Key_1'].unique()\n",
    "    dates_dt_1= pd.to_datetime(dates,errors='coerce',format='-%b-%y').sort_values()\n",
    "    dates_dt_2= pd.to_datetime(dates,errors='coerce',format='%Y-%m').sort_values() #sometimes date format changes\n",
    "    new_df=pd.DataFrame()\n",
    "    if not dates_dt_2.empty:       ## if date format changed we need this convoluted bit here:\n",
    "        dates_dt_2_1=dates_dt_2.strftime('%Y-%m')\n",
    "        dates_dt_2_formatted=dates_dt_2.strftime('-%b-%y')\n",
    "\n",
    "        sort_dates_str_1=dates_dt_1.strftime('-%b-%y')\n",
    "\n",
    "        for i,date in enumerate(dates_dt_2_1):\n",
    "            relevant_rows=df[df['Key_1']==date]\n",
    "            parties=relevant_rows['Key_2'].tolist()\n",
    "            mvws=relevant_rows['Value_1'].tolist()\n",
    "            new_df[i]=pd.Series([parties,mvws])\n",
    "            new_df.rename(columns={i:dates_dt_2_formatted[i]},inplace=True)\n",
    "\n",
    "    ### create df as wanted\n",
    "    for date in sort_dates_str_1:\n",
    "        relevant_rows=df[df['Key_1']==date]\n",
    "        parties=relevant_rows['Key_2'].tolist()\n",
    "        mvws=relevant_rows['Value_1'].tolist()\n",
    "        new_df[date]=pd.Series([parties,mvws])\n",
    "    new_df = new_df.loc[:, new_df.columns.notna()]        \n",
    "    new_df=new_df.add_prefix(f'{country_name}')\n",
    "    return new_df"
   ]
  },
  {
   "cell_type": "code",
   "execution_count": 5,
   "metadata": {},
   "outputs": [],
   "source": [
    "#poland_df=country_df(file_name)"
   ]
  },
  {
   "cell_type": "code",
   "execution_count": 6,
   "metadata": {},
   "outputs": [],
   "source": [
    "all_mvw_files=[i for i in os.listdir('mvws') if i.endswith('.xlsx')]"
   ]
  },
  {
   "cell_type": "code",
   "execution_count": 7,
   "metadata": {},
   "outputs": [],
   "source": [
    "country_dfs = []\n",
    "for mvw_file in all_mvw_files: \n",
    "    df=country_df(mvw_file)\n",
    "    country_dfs.append(df)\n",
    "all_countries_df= pd.concat(country_dfs,axis=1)"
   ]
  },
  {
   "cell_type": "code",
   "execution_count": 8,
   "metadata": {},
   "outputs": [],
   "source": [
    "indexnames= ['parties','mvws']\n",
    "all_countries_df.index = indexnames"
   ]
  },
  {
   "cell_type": "markdown",
   "metadata": {},
   "source": [
    "Now add the original seats to the df"
   ]
  },
  {
   "cell_type": "code",
   "execution_count": 9,
   "metadata": {},
   "outputs": [],
   "source": [
    "def update_seats(file_name,all_countries_df): \n",
    "    df= pd.read_excel(f'prelims/{file_name}')\n",
    "    dates=df['YearMonth'].unique()\n",
    "    country_name=file_name.split('-')[1].split('.')[0]\n",
    "    formatted_dates=[f\"{country_name}{date}\" for date in dates]\n",
    "    \n",
    "    for date in formatted_dates: \n",
    "        if date in all_countries_df.columns:\n",
    "            relevant_rows= df[df['YearMonth']==date.replace(f'{country_name}','')] \n",
    "            parties_from_file= relevant_rows['Party'].tolist()\n",
    "            parties_from_df=all_countries_df.loc['parties',date]\n",
    "            if parties_from_df==parties_from_file: \n",
    "                if 'Seats' not in all_countries_df.index:\n",
    "                    all_countries_df.loc['Seats']=[np.nan]*len(all_countries_df.columns)\n",
    "                seats= relevant_rows['# of Seats'].tolist()\n",
    "                all_countries_df.at['Seats',date]= seats\n",
    "            else: all_countries_df.at['Seats', date] = 'error'\n",
    "        else: print(f'Date {date} not found in final_df columns.')\n",
    "    return all_countries_df"
   ]
  },
  {
   "cell_type": "code",
   "execution_count": 10,
   "metadata": {},
   "outputs": [],
   "source": [
    "file_name='Preliminaries-Australia.xlsx'"
   ]
  },
  {
   "cell_type": "code",
   "execution_count": 11,
   "metadata": {},
   "outputs": [],
   "source": [
    "df_2=update_seats(file_name,all_countries_df)"
   ]
  },
  {
   "cell_type": "markdown",
   "metadata": {},
   "source": [
    "now add the power indices: "
   ]
  },
  {
   "cell_type": "code",
   "execution_count": 12,
   "metadata": {},
   "outputs": [],
   "source": [
    "file_name='power_indices-Australia.xlsx'"
   ]
  },
  {
   "cell_type": "code",
   "execution_count": 13,
   "metadata": {},
   "outputs": [],
   "source": [
    "def update_powerindices(file_name,all_countries_df): \n",
    "    file=pd.ExcelFile(f'powerindices/{file_name}')\n",
    "    for sheet_name in file.sheet_names: \n",
    "        df=pd.read_excel(file,sheet_name=sheet_name)\n",
    "        country_name=file_name.split('-')[1].split('.')[0]\n",
    "        date=f'{country_name}{sheet_name}'\n",
    "        if date in all_countries_df: \n",
    "            parties_from_sheet=df['Party'].tolist()\n",
    "            parties_from_df=all_countries_df.loc['parties',date]\n",
    "            if parties_from_sheet==parties_from_df: \n",
    "                for col in df.columns[1:]: \n",
    "                    if col not in all_countries_df.index: \n",
    "                        all_countries_df.loc[col] = [np.nan] * len(all_countries_df.columns)    \n",
    "                    all_countries_df.at[col, date] = df[col].tolist()\n",
    "            else: all_countries_df.at[col, date] = 'error' \n",
    "        else: print(f'Date {date} not found in final_df columns.')\n",
    "    return all_countries_df"
   ]
  },
  {
   "cell_type": "code",
   "execution_count": 14,
   "metadata": {},
   "outputs": [],
   "source": [
    "df3=update_powerindices(file_name,all_countries_df)"
   ]
  },
  {
   "cell_type": "code",
   "execution_count": 15,
   "metadata": {},
   "outputs": [],
   "source": [
    "all_originalseats_files=[i for i in os.listdir('prelims') if i.endswith('.xlsx')]"
   ]
  },
  {
   "cell_type": "code",
   "execution_count": 16,
   "metadata": {},
   "outputs": [
    {
     "name": "stdout",
     "output_type": "stream",
     "text": [
      "Date Israel_99_modified1992-06 not found in final_df columns.\n",
      "Date Israel_99_modified2003-01 not found in final_df columns.\n",
      "Date Israel_99_modified2009-02 not found in final_df columns.\n",
      "Date Israel_99_modified2013-01 not found in final_df columns.\n",
      "Date Israel_99_modified2019-04 not found in final_df columns.\n",
      "Date Israel_99_modified2019-09 not found in final_df columns.\n",
      "Date Krohn2001 not found in final_df columns.\n",
      "Date Krohn2002 not found in final_df columns.\n",
      "Date Krohn2003 not found in final_df columns.\n",
      "Date Krohn2004 not found in final_df columns.\n",
      "Date Krohn2005 not found in final_df columns.\n",
      "Date Krohn2006 not found in final_df columns.\n",
      "Date krohn_example2001 not found in final_df columns.\n",
      "Date krohn_example2002 not found in final_df columns.\n",
      "Date krohn_example2003 not found in final_df columns.\n",
      "Date krohn_example2004 not found in final_df columns.\n",
      "Date krohn_example2005 not found in final_df columns.\n",
      "Date krohn_example2006 not found in final_df columns.\n",
      "Date Poland_without911993-09 not found in final_df columns.\n",
      "Date Poland_without911997-09 not found in final_df columns.\n",
      "Date Poland_without912001-09 not found in final_df columns.\n",
      "Date Poland_without912005-09 not found in final_df columns.\n"
     ]
    }
   ],
   "source": [
    "for prelimfile in all_originalseats_files: \n",
    "    all_countries_df=update_seats(prelimfile,all_countries_df)"
   ]
  },
  {
   "cell_type": "code",
   "execution_count": 17,
   "metadata": {},
   "outputs": [],
   "source": [
    "all_powerfiles=[i for i in os.listdir('powerindices') if i.endswith('.xlsx')]"
   ]
  },
  {
   "cell_type": "code",
   "execution_count": 18,
   "metadata": {},
   "outputs": [
    {
     "name": "stdout",
     "output_type": "stream",
     "text": [
      "Date Israel_99_modified1992-06 not found in final_df columns.\n",
      "Date Israel_99_modified2003-01 not found in final_df columns.\n",
      "Date Israel_99_modified2009-02 not found in final_df columns.\n",
      "Date Israel_99_modified2013-01 not found in final_df columns.\n",
      "Date Israel_99_modified2019-04 not found in final_df columns.\n",
      "Date Israel_99_modified2019-09 not found in final_df columns.\n",
      "Date Krohn2001 not found in final_df columns.\n",
      "Date Krohn2002 not found in final_df columns.\n",
      "Date Krohn2003 not found in final_df columns.\n",
      "Date Krohn2004 not found in final_df columns.\n",
      "Date Krohn2005 not found in final_df columns.\n",
      "Date Krohn2006 not found in final_df columns.\n",
      "Date Poland_without911993-09 not found in final_df columns.\n",
      "Date Poland_without911997-09 not found in final_df columns.\n",
      "Date Poland_without912001-09 not found in final_df columns.\n",
      "Date Poland_without912005-09 not found in final_df columns.\n"
     ]
    }
   ],
   "source": [
    "for powerfile in all_powerfiles: \n",
    "    all_countries_df=update_powerindices(powerfile,all_countries_df)"
   ]
  }
 ],
 "metadata": {
  "kernelspec": {
   "display_name": "base",
   "language": "python",
   "name": "python3"
  },
  "language_info": {
   "codemirror_mode": {
    "name": "ipython",
    "version": 3
   },
   "file_extension": ".py",
   "mimetype": "text/x-python",
   "name": "python",
   "nbconvert_exporter": "python",
   "pygments_lexer": "ipython3",
   "version": "3.11.5"
  }
 },
 "nbformat": 4,
 "nbformat_minor": 2
}
