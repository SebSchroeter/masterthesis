{
 "cells": [
  {
   "cell_type": "code",
   "execution_count": 1,
   "metadata": {},
   "outputs": [],
   "source": [
    "import pandas as pd"
   ]
  },
  {
   "cell_type": "markdown",
   "metadata": {},
   "source": [
    "Test with sweden"
   ]
  },
  {
   "cell_type": "code",
   "execution_count": 2,
   "metadata": {},
   "outputs": [],
   "source": [
    "file_name='minimal_seats-Poland_without91.xlsx'"
   ]
  },
  {
   "cell_type": "code",
   "execution_count": null,
   "metadata": {},
   "outputs": [],
   "source": [
    "\n",
    "def country_df(file_name): \n",
    "    df=pd.read_excel(f'results/{file_name}')\n",
    "    dates=df['Key_1'].unique()\n",
    "    sort_dates_dt_1= pd.to_datetime(dates,errors='coerce',format='-%b-%y').sort_values()\n",
    "    sort_dates_dt_2= pd.to_datetime(dates,errors='coerce',format='%Y-%m').sort_values()\n",
    "    #sort_dates_combined=sort_dates_dt_1.union(sort_dates_dt_2)\n",
    "    sort_dates_str_1=sort_dates_dt_1.strftime('-%b-%y')\n",
    "    if sort_dates_dt_2: \n",
    "        sort_dates_str_2=sort_dates_dt_2.strftime('%Y-%m')\n",
    "    #sort_dates_str_1.merge(sort_dates_dt_2)\n",
    "    new_df=pd.DataFrame()\n",
    "    for date in sort_dates_str_1:\n",
    "        relevant_rows=df[df['Key_1']==date]\n",
    "        parties=relevant_rows['Key_2'].tolist()\n",
    "        mvws=relevant_rows['Value_1'].tolist()\n",
    "        new_df[date]=pd.Series([parties,mvws])\n",
    "    if sort_dates_str_2: \n",
    "        for date in sort_dates_str_2:\n",
    "            relevant_rows=df[df['Key_1']==date]\n",
    "            parties=relevant_rows['Key_2'].tolist()\n",
    "            mvws=relevant_rows['Value_1'].tolist()\n",
    "            new_df[date]=pd.Series([parties,mvws])        \n",
    "    return new_df"
   ]
  },
  {
   "cell_type": "code",
   "execution_count": 3,
   "metadata": {},
   "outputs": [],
   "source": [
    "df=pd.read_excel(f'results/{file_name}')"
   ]
  },
  {
   "cell_type": "code",
   "execution_count": null,
   "metadata": {},
   "outputs": [],
   "source": [
    "dates=df['Key_1'].unique()"
   ]
  },
  {
   "cell_type": "code",
   "execution_count": null,
   "metadata": {},
   "outputs": [],
   "source": [
    "sort_dates_dt= pd.to_datetime(dates,format='-%b-%y').sort_values()\n",
    "sort_dates_str=sort_dates_dt.strftime('-%b-%y')"
   ]
  },
  {
   "cell_type": "code",
   "execution_count": null,
   "metadata": {},
   "outputs": [],
   "source": [
    "new_df=pd.DataFrame()\n",
    "for date in sort_dates_str:\n",
    "    relevant_rows=df[df['Key_1']==date]\n",
    "    parties=relevant_rows['Key_2'].tolist()\n",
    "    mvws=relevant_rows['Value_1'].tolist()\n",
    "    new_df[date]=pd.Series([parties,mvws])"
   ]
  },
  {
   "cell_type": "code",
   "execution_count": null,
   "metadata": {},
   "outputs": [],
   "source": [
    "poland_df=country_df(file_name)"
   ]
  },
  {
   "cell_type": "code",
   "execution_count": 4,
   "metadata": {},
   "outputs": [],
   "source": [
    "df=pd.read_excel(f'results/{file_name}')\n",
    "dates=df['Key_1'].unique()\n",
    "sort_dates_dt_1= pd.to_datetime(dates,errors='coerce',format='-%b-%y').sort_values()\n",
    "sort_dates_dt_2= pd.to_datetime(dates,errors='coerce',format='%Y-%m').sort_values()\n",
    "#sort_dates_combined=sort_dates_dt_1.union(sort_dates_dt_2)\n"
   ]
  },
  {
   "cell_type": "code",
   "execution_count": 7,
   "metadata": {},
   "outputs": [
    {
     "ename": "AttributeError",
     "evalue": "'Index' object has no attribute 'strftime'",
     "output_type": "error",
     "traceback": [
      "\u001b[1;31m---------------------------------------------------------------------------\u001b[0m",
      "\u001b[1;31mAttributeError\u001b[0m                            Traceback (most recent call last)",
      "Cell \u001b[1;32mIn[7], line 3\u001b[0m\n\u001b[0;32m      1\u001b[0m sort_dates_str_1\u001b[38;5;241m=\u001b[39msort_dates_dt_1\u001b[38;5;241m.\u001b[39mstrftime(\u001b[38;5;124m'\u001b[39m\u001b[38;5;124m-\u001b[39m\u001b[38;5;124m%\u001b[39m\u001b[38;5;124mb-\u001b[39m\u001b[38;5;124m%\u001b[39m\u001b[38;5;124my\u001b[39m\u001b[38;5;124m'\u001b[39m)\n\u001b[0;32m      2\u001b[0m sort_dates_str_2\u001b[38;5;241m=\u001b[39msort_dates_dt_2\u001b[38;5;241m.\u001b[39mstrftime(\u001b[38;5;124m'\u001b[39m\u001b[38;5;124m-\u001b[39m\u001b[38;5;124m%\u001b[39m\u001b[38;5;124mb-\u001b[39m\u001b[38;5;124m%\u001b[39m\u001b[38;5;124my\u001b[39m\u001b[38;5;124m'\u001b[39m)\n\u001b[1;32m----> 3\u001b[0m sort_dates\u001b[38;5;241m=\u001b[39msort_dates_str_1\u001b[38;5;241m.\u001b[39munion(sort_dates_dt_2)\u001b[38;5;241m.\u001b[39mstrftime(\u001b[38;5;124m'\u001b[39m\u001b[38;5;124m-\u001b[39m\u001b[38;5;124m%\u001b[39m\u001b[38;5;124mb-\u001b[39m\u001b[38;5;124m%\u001b[39m\u001b[38;5;124my\u001b[39m\u001b[38;5;124m'\u001b[39m)\n",
      "\u001b[1;31mAttributeError\u001b[0m: 'Index' object has no attribute 'strftime'"
     ]
    }
   ],
   "source": [
    "sort_dates_str_1=sort_dates_dt_1.strftime('-%b-%y')\n",
    "sort_dates_str_2=sort_dates_dt_2.strftime('-%b-%y')\n",
    "sort_dates=sort_dates_str_1.union(sort_dates_dt_2)"
   ]
  }
 ],
 "metadata": {
  "kernelspec": {
   "display_name": "base",
   "language": "python",
   "name": "python3"
  },
  "language_info": {
   "codemirror_mode": {
    "name": "ipython",
    "version": 3
   },
   "file_extension": ".py",
   "mimetype": "text/x-python",
   "name": "python",
   "nbconvert_exporter": "python",
   "pygments_lexer": "ipython3",
   "version": "3.11.5"
  }
 },
 "nbformat": 4,
 "nbformat_minor": 2
}
