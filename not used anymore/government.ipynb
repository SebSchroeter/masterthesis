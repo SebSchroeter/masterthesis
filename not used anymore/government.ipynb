{
 "cells": [
  {
   "cell_type": "code",
   "execution_count": 1,
   "metadata": {},
   "outputs": [],
   "source": [
    "%load_ext autoreload\n",
    "%autoreload 2\n",
    "import pandas as pd \n",
    "import numpy as np\n",
    "import os \n",
    "import glob\n",
    "from government_functions import * \n",
    "import ast \n",
    "import warnings\n",
    "warnings.formatwarning = lambda msg, *args, **kwargs: f'{msg}\\n'"
   ]
  },
  {
   "cell_type": "code",
   "execution_count": 2,
   "metadata": {},
   "outputs": [],
   "source": [
    "file_name='Czech.csv'\n",
    "df=process_gov_csv(f'government/{file_name}')"
   ]
  },
  {
   "cell_type": "markdown",
   "metadata": {},
   "source": [
    " now, onto matching :D "
   ]
  },
  {
   "cell_type": "code",
   "execution_count": 3,
   "metadata": {},
   "outputs": [],
   "source": [
    "final_df=pd.read_excel('results/complete_dataframe.xlsx',index_col=0)"
   ]
  },
  {
   "cell_type": "code",
   "execution_count": 4,
   "metadata": {},
   "outputs": [],
   "source": [
    "#all_elections=final_df.columns.to_numpy()\n",
    "Czech_df=final_df[[col for col in final_df.columns if col.startswith('Czech')]] #this is case sensitive... \n",
    "Czech_elections=Czech_df.columns.to_numpy()"
   ]
  },
  {
   "cell_type": "code",
   "execution_count": 5,
   "metadata": {},
   "outputs": [],
   "source": [
    "def match_ministries_and_elections(countryname,election_dates,df):\n",
    "    ## takes in the name of the country, a list of election dates and the df from process_gov_csv\n",
    "    ## to accomodate errors from the political yearbook dataset, begin and end of election cycles are off-set by one month\n",
    "    ## see i.e. that Germany 09/2013 elected ministers are appointed 31.08.2013 by the political yearbook data\n",
    "    ## outputs a dict with (election_date,df_for_electionperiod)\n",
    "    ## df_for_electionperiod has cols: 'Position' and 'Party'\n",
    "\n",
    "    sorted_elections= sorted(pd.to_datetime(election_dates, format=f'{countryname}-%b-%y'))\n",
    "    election_period_dict = {}\n",
    "    for i in range((len(sorted_elections))): \n",
    "        #get timeframe for ministerial appointments per election (start: election -1 month)\n",
    "        start=sorted_elections[i]\n",
    "        adjusted_start= start - pd.DateOffset(months=1)\n",
    "        end = (sorted_elections[i+1] if i+1<len(sorted_elections) else pd.Timestamp.today())- pd.DateOffset(months=1)#.strftime('-%b-%y')\n",
    "        #select all datapoints in this timeframe\n",
    "        boolean_mask = ((df['Start']>=adjusted_start)&(df['Start']<end))\n",
    "        df_for_electionperiod=df[boolean_mask]\n",
    "        key=start.strftime('-%b-%y')\n",
    "        #however keep correct election date as key \n",
    "        election_period_dict[key]=df_for_electionperiod\n",
    "        \n",
    "    return election_period_dict"
   ]
  },
  {
   "cell_type": "code",
   "execution_count": 6,
   "metadata": {},
   "outputs": [],
   "source": [
    "test=match_ministries_and_elections('Czech',Czech_elections,df)"
   ]
  },
  {
   "cell_type": "code",
   "execution_count": null,
   "metadata": {},
   "outputs": [],
   "source": [
    "test.keys()"
   ]
  },
  {
   "cell_type": "code",
   "execution_count": null,
   "metadata": {},
   "outputs": [],
   "source": [
    "test.get('-Oct-21')"
   ]
  },
  {
   "cell_type": "code",
   "execution_count": 7,
   "metadata": {},
   "outputs": [
    {
     "name": "stderr",
     "output_type": "stream",
     "text": [
      "Czech-Jun-02: Use government from 2002-07-15 00:00:00\n"
     ]
    }
   ],
   "source": [
    "test_2,_=starting_gov_dict(test,'Czech')"
   ]
  },
  {
   "cell_type": "code",
   "execution_count": null,
   "metadata": {},
   "outputs": [],
   "source": [
    "test_2.get('-Oct-21')"
   ]
  },
  {
   "cell_type": "code",
   "execution_count": null,
   "metadata": {},
   "outputs": [],
   "source": [
    "for date,dataframe in test_2.items():\n",
    "        if not dataframe.empty:\n",
    "            party_str=Czech_df.at['parties',f'Czech{date}']\n",
    "            parties=ast.literal_eval(party_str) # parses string to list  \n",
    "            #create dicts\n",
    "            ministry_dict,unweighted_dict,weighted_dict=get_ministry_dicts(dataframe,parties) \n",
    "            #translate dicts into lists / arrays corrosponding to the party list     \n",
    "            ministy_list=[]\n",
    "            unweighted_array=np.zeros(len(parties))  \n",
    "            weighted_array=np.zeros(len(parties))  \n",
    "            for i,(party,value) in enumerate(ministry_dict.items()): \n",
    "                ministy_list.append(value)\n",
    "            for i,(party,value) in enumerate(unweighted_dict.items()):\n",
    "                unweighted_array[i]=value\n",
    "            for i,(party,value) in enumerate(weighted_dict.items()):\n",
    "                weighted_array[i]=value\n",
    "            \n",
    "            # write list/arrays to final_df:\n",
    "            if 'Ministers' not in final_df.index: \n",
    "                final_df.loc['Ministers']=[np.nan] * len(final_df.columns)   \n",
    "            if 'unweighted' not in final_df.index: \n",
    "                final_df.loc['unweighted']=[np.nan] * len(final_df.columns)   \n",
    "            if 'weighted' not in final_df.index: \n",
    "                final_df.loc['weighted']=[np.nan] * len(final_df.columns) \n",
    "            final_df.at['Ministers',f'Czech{date}']=ministy_list\n",
    "            final_df.at['unweighted',f'Czech{date}']=unweighted_array\n",
    "            final_df.at['weighted',f'Czech{date}']=weighted_array "
   ]
  },
  {
   "cell_type": "code",
   "execution_count": null,
   "metadata": {},
   "outputs": [],
   "source": [
    "def get_ministry_dicts(df,parties): \n",
    "    ## takes in a df with cols position and party and a list of all parties like a value from governments_dict\n",
    "    ## creates 3 dicts, which store the following information\n",
    "    \n",
    "    ## uses fuzzy matching to catch cases where the party of the minister is written differently from the party name in the parliament \n",
    "    dict_1={} #(party,list_of_ministries)\n",
    "    dict_2={} #(party,number_of_ministries)\n",
    "    dict_3={} #(party,weighted_number_of_ministries) ## weighting prime minister = 3, all other 1\n",
    "    prime_minister=df.iloc[0]['Position'] #prime minister, chancellor whatever is always the first entry of the df, if created correctly from political yearbook data\n",
    "    \n",
    "    for party in parties:\n",
    "        #check for perfect matches\n",
    "        ministries=df[df['Party']==party]['Position'].tolist()\n",
    "        if not ministries: #if no match for this party\n",
    "            reverse_matches_dict = {}\n",
    "            for partyy in df['Party'].unique(): \n",
    "               best_fitting_party,score=process.extractOne(partyy,parties)\n",
    "               if score>40: \n",
    "                reverse_matches_dict[best_fitting_party] =partyy\n",
    "            ministries=df[df['Party']==reverse_matches_dict.get(party)]['Position'].tolist()\n",
    "        dict_1[party]=ministries\n",
    "        dict_2[party]=len(ministries)\n",
    "        weighted_ministries= len(ministries) + 2 if prime_minister in ministries else len(ministries)\n",
    "        dict_3[party]=weighted_ministries\n",
    "    return dict_1,dict_2,dict_3"
   ]
  },
  {
   "cell_type": "code",
   "execution_count": null,
   "metadata": {},
   "outputs": [],
   "source": [
    "party_str=Czech_df.at['parties',f'Czech-Oct-21']\n",
    "parties=ast.literal_eval(party_str)\n",
    "#ministry_dict,unweighted_dict,weighted_dict=get_ministry_dicts(test_2.get('-Oct-21'),parties)"
   ]
  },
  {
   "cell_type": "code",
   "execution_count": null,
   "metadata": {},
   "outputs": [],
   "source": [
    "df=df[df['Start']>pd.to_datetime('Oct-21', format='%b-%y')]\n",
    "for party in parties:\n",
    "        ministries=df[df['Party']==party]['Position'].tolist()\n",
    "        #print(party,ministries)\n",
    "        if not ministries: #if no match for this party\n",
    "            reverse_matches_dict = {}\n",
    "            for partyy in df['Party'].unique(): \n",
    "               best_fitting_party,score=process.extractOne(partyy,parties)\n",
    "               if score > 40: \n",
    "                  reverse_matches_dict[best_fitting_party] =partyy\n",
    "            ministries=df[df['Party']==reverse_matches_dict.get(party)]['Position'].tolist()\n",
    "            print(f'matched {party} with {reverse_matches_dict.get(party)} to get {ministries}')\n",
    "                "
   ]
  },
  {
   "cell_type": "code",
   "execution_count": null,
   "metadata": {},
   "outputs": [],
   "source": [
    "from fuzzywuzzy import fuzz\n",
    "from fuzzywuzzy import process"
   ]
  },
  {
   "cell_type": "code",
   "execution_count": null,
   "metadata": {},
   "outputs": [],
   "source": [
    "for partyy in df['Party'].unique(): \n",
    "    best_fitting_party,score=process.extractOne(partyy,parties)\n",
    "    reverse_matches_dict[best_fitting_party] = partyy"
   ]
  },
  {
   "cell_type": "code",
   "execution_count": null,
   "metadata": {},
   "outputs": [],
   "source": [
    "def starting_gov_dict(election_period_dict,countryname): \n",
    "    ## takes in a dict from match_ministries_and_elections and the countryname for the warning function\n",
    "    ## outputs a dict which matches {election_date,(position,party)}\n",
    "    ## assumes that the start date which appears most often in the period after the election is the date of inauguration of the new cabinet \n",
    "    ## includes some warnings for \"suspicious results\"\n",
    "    governments_dict = {}\n",
    "    edge_cases = []\n",
    "    for election, df_for_election_period in election_period_dict.items():\n",
    "        mode = df_for_election_period['Start'].mode() #check which is the most often appearing start date for this period\n",
    "        if not mode.empty:\n",
    "            start_date = mode[0] #set this date as the beginning for the new government\n",
    "            starting_gov = df_for_election_period.loc[df_for_election_period['Start'] == start_date, ['Position', 'Party']]\n",
    "            \n",
    "            # Handling of cases where the found government was very late in the election period --> likely errors\n",
    "            election_date = pd.to_datetime(election, format='-%b-%y')\n",
    "            if not (election_date.year <= start_date.year <= election_date.year + 1):\n",
    "                shorter_df = df_for_election_period[(df_for_election_period['Start'] > election_date-pd.DateOffset(months=1)) & (df_for_election_period['Start'] <= (election_date + pd.DateOffset(years=1)))]\n",
    "                new_mode=shorter_df['Start'].mode()\n",
    "                if not new_mode.empty:\n",
    "                    start_date = new_mode[0] #set this new date as the beginning for the new government\n",
    "                    starting_gov = shorter_df.loc[shorter_df['Start'] == start_date, ['Position', 'Party']]\n",
    "                    #if start_date != mode[0]:  # Check if new mode is different from the original mode\n",
    "                    warnings.warn(f\"{countryname}{election}: Use government from {new_mode[0]}\")\n",
    "                else:\n",
    "                    warnings.warn(f\"{countryname}{election}: No suitable government found within a year after the election. Fall back to late government at {mode[0]}.\")\n",
    "                    edge_cases.append(f\"{countryname}{election}\")\n",
    "            # Warning if the found government has few ministers\n",
    "            if starting_gov.shape[0] <= 8:\n",
    "                warnings.warn(f\"{countryname}-{election}: Only found {starting_gov.shape[0]} ministers.\")\n",
    "\n",
    "            \n",
    "            \n",
    "            # Warning if the found government was before the actual election \n",
    "            if start_date < election_date:\n",
    "                warnings.warn(f\"{countryname}-{election}: Careful, check db error. Found Government at {start_date}\")\n",
    "\n",
    "        else:\n",
    "            #warnings.warn(f\"No mode found for {countryname}-{election}\")\n",
    "            starting_gov = pd.DataFrame(columns=['Position', 'Party']) #add empty df when no government info is given for the period\n",
    "        \n",
    "        governments_dict[election] = starting_gov\n",
    "    return governments_dict,edge_cases\n"
   ]
  },
  {
   "cell_type": "markdown",
   "metadata": {},
   "source": [
    "create loop for all countries: "
   ]
  },
  {
   "cell_type": "code",
   "execution_count": null,
   "metadata": {},
   "outputs": [],
   "source": [
    "\n",
    "special_cases= []\n",
    "for csv_file in glob.glob(os.path.join('government/','*.csv')): \n",
    "    file= os.path.basename(csv_file)\n",
    "    countryname,_=os.path.splitext(file)\n",
    "    #create country government dataframe\n",
    "    df=process_gov_csv(csv_file)\n",
    "    #grab part of final_df that is relevant for the country\n",
    "    country_df=final_df[[col for col in final_df.columns if col.startswith(countryname)]] #this is case sensitive... \n",
    "    elections=country_df.columns.to_numpy() # list of elections in the country\n",
    "    #get all election_df's (currently not really necessary but might be if stability or changes in government becomre relevant)\n",
    "    election_period_dict=match_ministries_and_elections(countryname,elections,df)\n",
    "    #subset election_df's for only the first ministers in an election period (initial government)\n",
    "    government_dict,edge_cases=starting_gov_dict(election_period_dict,countryname)\n",
    "    special_cases.extend(edge_cases)\n",
    "    ##loop over all election periods: ##\n",
    "    for date,dataframe in government_dict.items():\n",
    "        if not dataframe.empty:\n",
    "            party_str=country_df.at['parties',f'{countryname}{date}']\n",
    "            parties=ast.literal_eval(party_str) # parses string to list  \n",
    "            #create dicts\n",
    "            ministry_dict,unweighted_dict,weighted_dict=get_ministry_dicts(dataframe,parties) \n",
    "            #translate dicts into lists / arrays corrosponding to the party list     \n",
    "            ministy_list=[]\n",
    "            unweighted_array=np.zeros(len(parties))  \n",
    "            weighted_array=np.zeros(len(parties))  \n",
    "            for i,(party,value) in enumerate(ministry_dict.items()): \n",
    "                ministy_list.append(value)\n",
    "            for i,(party,value) in enumerate(unweighted_dict.items()):\n",
    "                unweighted_array[i]=value\n",
    "            for i,(party,value) in enumerate(weighted_dict.items()):\n",
    "                weighted_array[i]=value\n",
    "            \n",
    "            # write list/arrays to final_df:\n",
    "            if 'Ministers' not in final_df.index: \n",
    "                final_df.loc['Ministers']=[np.nan] * len(final_df.columns)   \n",
    "            if 'unweighted' not in final_df.index: \n",
    "                final_df.loc['unweighted']=[np.nan] * len(final_df.columns)   \n",
    "            if 'weighted' not in final_df.index: \n",
    "                final_df.loc['weighted']=[np.nan] * len(final_df.columns) \n",
    "            final_df.at['Ministers',f'{countryname}{date}']=ministy_list\n",
    "            final_df.at['unweighted',f'{countryname}{date}']=unweighted_array\n",
    "            final_df.at['weighted',f'{countryname}{date}']=weighted_array \n",
    "\n",
    "\n",
    "\n",
    "    \n",
    "\n"
   ]
  },
  {
   "cell_type": "code",
   "execution_count": null,
   "metadata": {},
   "outputs": [],
   "source": [
    "with pd.ExcelWriter('combined_dataframe.xlsx', engine='xlsxwriter') as writer:\n",
    "    final_df.to_excel(writer)"
   ]
  }
 ],
 "metadata": {
  "kernelspec": {
   "display_name": "base",
   "language": "python",
   "name": "python3"
  },
  "language_info": {
   "codemirror_mode": {
    "name": "ipython",
    "version": 3
   },
   "file_extension": ".py",
   "mimetype": "text/x-python",
   "name": "python",
   "nbconvert_exporter": "python",
   "pygments_lexer": "ipython3",
   "version": "3.11.5"
  }
 },
 "nbformat": 4,
 "nbformat_minor": 2
}
