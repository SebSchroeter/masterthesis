{
 "cells": [
  {
   "cell_type": "code",
   "execution_count": 1,
   "metadata": {},
   "outputs": [],
   "source": [
    "import pandas as pd \n",
    "import os \n",
    "import glob\n",
    "from government_functions import * "
   ]
  },
  {
   "cell_type": "code",
   "execution_count": 2,
   "metadata": {},
   "outputs": [],
   "source": [
    "def process_gov_csv(file_name): \n",
    "    df= pd.read_csv(file_name, delimiter=\"\\t\",encoding='utf-16')\n",
    "    df.drop('Gender',axis=1,inplace=True)\n",
    "    df.drop('Year of Birth',axis=1,inplace=True)\n",
    "    df['Start']=pd.to_datetime(df['Start'],errors='coerce',format='%d-%b-%y')\n",
    "    df['End']=pd.to_datetime(df['End'],errors='coerce',format='%d-%b-%y')\n",
    "    #df['Start']=df['Start'].dt.strftime('-%b-%y')\n",
    "    #df['End']=df['End'].dt.strftime('-%b-%y')\n",
    "    return df "
   ]
  },
  {
   "cell_type": "code",
   "execution_count": 3,
   "metadata": {},
   "outputs": [],
   "source": [
    "file_name='data.csv'"
   ]
  },
  {
   "cell_type": "code",
   "execution_count": 4,
   "metadata": {},
   "outputs": [],
   "source": [
    "df=process_gov_csv(file_name)"
   ]
  },
  {
   "cell_type": "code",
   "execution_count": 5,
   "metadata": {},
   "outputs": [],
   "source": [
    "df.to_csv('example.csv')"
   ]
  },
  {
   "cell_type": "markdown",
   "metadata": {},
   "source": [
    " now, onto matching :D "
   ]
  },
  {
   "cell_type": "code",
   "execution_count": 7,
   "metadata": {},
   "outputs": [],
   "source": [
    "election_dates = [\n",
    "    \"Austria-Oct-94\", \"Austria-Dec-95\", \"Austria-Oct-99\", \"Austria-Nov-02\",\n",
    "    \"Austria-Oct-06\", \"Austria-Sep-08\", \"Austria-Sep-13\", \"Austria-Oct-17\", \"Austria-Sep-19\"\n",
    "]\n",
    "countryname = 'Austria'\n"
   ]
  },
  {
   "cell_type": "code",
   "execution_count": 21,
   "metadata": {},
   "outputs": [],
   "source": [
    "def match_ministries_and_elections(countryname,election_dates,df): \n",
    "    sorted_elections= sorted(pd.to_datetime(election_dates, format=f'{countryname}-%b-%y'))\n",
    "    election_period_dict = {}\n",
    "    for i in range((len(sorted_elections))): \n",
    "        start=sorted_elections[i]\n",
    "        end = sorted_elections[i+1] if i+1<len(sorted_elections) else pd.Timestamp.today()#.strftime('-%b-%y')\n",
    "        boolean_mask = ((df['Start']>=start)&(df['Start']<end))\n",
    "        df_i=df[boolean_mask]\n",
    "        key=start.strftime('-%b-%y')\n",
    "        election_period_dict[key]=df_i\n",
    "    return election_period_dict\n",
    "        "
   ]
  },
  {
   "cell_type": "code",
   "execution_count": 22,
   "metadata": {},
   "outputs": [],
   "source": [
    "test = match_ministries_and_elections(countryname,election_dates,df)"
   ]
  },
  {
   "cell_type": "code",
   "execution_count": 23,
   "metadata": {},
   "outputs": [
    {
     "data": {
      "text/plain": [
       "dict_keys(['-Oct-94', '-Dec-95', '-Oct-99', '-Nov-02', '-Oct-06', '-Sep-08', '-Sep-13', '-Oct-17', '-Sep-19'])"
      ]
     },
     "execution_count": 23,
     "metadata": {},
     "output_type": "execute_result"
    }
   ],
   "source": [
    "test.keys()"
   ]
  },
  {
   "cell_type": "code",
   "execution_count": 31,
   "metadata": {},
   "outputs": [],
   "source": [
    "df=test.get('-Sep-19')\n",
    "ministries=df.loc[df['Start']==df['Start'].min(),['Position','Party']]"
   ]
  },
  {
   "cell_type": "code",
   "execution_count": 32,
   "metadata": {},
   "outputs": [],
   "source": [
    "df.to_csv('example.csv')"
   ]
  },
  {
   "cell_type": "markdown",
   "metadata": {},
   "source": [
    " ['FPÖ - Freedom Party of Austria (Freiheitliche Partei Österreichs, FPÖ)', 'GA - The Greens-Green Alternative (Die Grünen-Die Grüne Alternative, GA)', 'LIF - Liberal Forum (Liberales Forum, LIF)', 'SPÖ - Social Democratic Party of Austria  (Sozialdemokratische Partei Österreichs, SPÖ)', \"ÖVP - Austrian People's Party  (Österreichische Volkspartei, ÖVP)\"]"
   ]
  },
  {
   "cell_type": "code",
   "execution_count": 35,
   "metadata": {},
   "outputs": [],
   "source": [
    "parties =['FPÖ - Freedom Party of Austria (Freiheitliche Partei Österreichs, FPÖ)', 'GA - The Greens-Green Alternative (Die Grünen-Die Grüne Alternative, GA)', 'LIF - Liberal Forum (Liberales Forum, LIF)', 'SPÖ - Social Democratic Party of Austria  (Sozialdemokratische Partei Österreichs, SPÖ)', \"ÖVP - Austrian People's Party  (Österreichische Volkspartei, ÖVP)\"]"
   ]
  },
  {
   "cell_type": "code",
   "execution_count": 36,
   "metadata": {},
   "outputs": [],
   "source": [
    "def get_ministry_dict(df,parties): \n",
    "    dict={}\n",
    "    for party in parties: \n",
    "        dict[party]=df[df['Party']==party]['Position'].tolist()\n",
    "    return dict"
   ]
  },
  {
   "cell_type": "code",
   "execution_count": 37,
   "metadata": {},
   "outputs": [],
   "source": [
    "test_dict=get_ministry_dict(df,parties)"
   ]
  },
  {
   "cell_type": "code",
   "execution_count": 38,
   "metadata": {},
   "outputs": [],
   "source": [
    "def get_ministry_dicts(df,parties): \n",
    "    ## takes in a df with cols position and party and a list of all parties\n",
    "    ## creates 3 dicts, which store the following information\n",
    "    dict_1={} #(party,list_of_ministries)\n",
    "    dict_2={} #(party,number_of_ministries)\n",
    "    dict_3={} #(party,weighted_number_of_ministries) ## weighting prime minister = 3, all other 1\n",
    "    prime_minister=df.iloc[0]['Position'] #prime minister, chancellor whatever is always the first entry of the df, if created correctly from political yearbook data\n",
    "    for party in parties: \n",
    "        ministries=df[df['Party']==party]['Position'].tolist()\n",
    "        dict_1[party]=ministries\n",
    "        dict_2[party]=len(ministries)\n",
    "        weighted_ministries= len(ministries) + 2 if prime_minister in ministries else len(ministries)\n",
    "        dict_3[party]=weighted_ministries\n",
    "    return dict_1,dict_2,dict_3\n",
    "        "
   ]
  },
  {
   "cell_type": "code",
   "execution_count": 40,
   "metadata": {},
   "outputs": [],
   "source": [
    "ministries_by_party_dict, ministries_count_by_party, weighted_ministries_count_by_party = get_ministry_dicts(ministries, parties)"
   ]
  },
  {
   "cell_type": "markdown",
   "metadata": {},
   "source": [
    "create loop for all countries: "
   ]
  },
  {
   "cell_type": "code",
   "execution_count": 6,
   "metadata": {},
   "outputs": [
    {
     "name": "stdout",
     "output_type": "stream",
     "text": [
      "government\\austria.csv\n",
      "austria.csv\n",
      "austria\n",
      "government\\belgium.csv\n",
      "belgium.csv\n",
      "belgium\n"
     ]
    }
   ],
   "source": [
    "elections=final_df.cols()\n",
    "\n",
    "#government_dict={}\n",
    "#election_period_dict_dict={}\n",
    "\n",
    "for csv_file in glob.glob(os.path.join('government/','*.csv')): \n",
    "    file= os.path.basename(csv_file)\n",
    "    countryname,_=os.path.splitext(file)\n",
    "    df=process_gov_csv(csv_file)\n",
    "    #government_dict[countryname]=df\n",
    "    election_period_dict=match_ministries_and_elections(countryname,elections,df)\n",
    "    #election_period_dict_dict[countryname]=election_period_dict\n",
    "    '''method to get parties '''\n",
    "    ministry_dict,unweighted_dict,weighted_dict=get_ministry_dicts(df,parties)\n",
    "    '''method to write dicts to final_df'''\n",
    "\n",
    "\n",
    "    \n",
    "\n"
   ]
  },
  {
   "cell_type": "code",
   "execution_count": 8,
   "metadata": {},
   "outputs": [
    {
     "data": {
      "text/html": [
       "<div>\n",
       "<style scoped>\n",
       "    .dataframe tbody tr th:only-of-type {\n",
       "        vertical-align: middle;\n",
       "    }\n",
       "\n",
       "    .dataframe tbody tr th {\n",
       "        vertical-align: top;\n",
       "    }\n",
       "\n",
       "    .dataframe thead th {\n",
       "        text-align: right;\n",
       "    }\n",
       "</style>\n",
       "<table border=\"1\" class=\"dataframe\">\n",
       "  <thead>\n",
       "    <tr style=\"text-align: right;\">\n",
       "      <th></th>\n",
       "      <th>Position</th>\n",
       "      <th>Start</th>\n",
       "      <th>End</th>\n",
       "      <th>Name</th>\n",
       "      <th>Party</th>\n",
       "    </tr>\n",
       "  </thead>\n",
       "  <tbody>\n",
       "    <tr>\n",
       "      <th>0</th>\n",
       "      <td>Prime Minister</td>\n",
       "      <td>2020-10-01</td>\n",
       "      <td>2020-12-31</td>\n",
       "      <td>Alexander De Croo</td>\n",
       "      <td>Open VLD - Open Flemish Liberals and Democrats...</td>\n",
       "    </tr>\n",
       "    <tr>\n",
       "      <th>1</th>\n",
       "      <td>Prime Minister</td>\n",
       "      <td>2019-10-27</td>\n",
       "      <td>2020-10-01</td>\n",
       "      <td>Sophie Wilmès</td>\n",
       "      <td>MR - Reform Movement ( Mouvement Réformateur,...</td>\n",
       "    </tr>\n",
       "    <tr>\n",
       "      <th>2</th>\n",
       "      <td>Prime Minister</td>\n",
       "      <td>2014-10-11</td>\n",
       "      <td>2019-10-27</td>\n",
       "      <td>Charles Michel</td>\n",
       "      <td>MR - Reform Movement ( Mouvement Réformateur,...</td>\n",
       "    </tr>\n",
       "    <tr>\n",
       "      <th>3</th>\n",
       "      <td>Prime Minister</td>\n",
       "      <td>2011-12-06</td>\n",
       "      <td>2014-10-11</td>\n",
       "      <td>Elio Di Rupo</td>\n",
       "      <td>PS - Socialist Party (Parti socialiste, PS)</td>\n",
       "    </tr>\n",
       "    <tr>\n",
       "      <th>4</th>\n",
       "      <td>Prime Minister</td>\n",
       "      <td>2009-11-25</td>\n",
       "      <td>2011-12-06</td>\n",
       "      <td>Yves Leterme</td>\n",
       "      <td>CD&amp;V - Christian Democratic and Flemish (Chris...</td>\n",
       "    </tr>\n",
       "    <tr>\n",
       "      <th>...</th>\n",
       "      <td>...</td>\n",
       "      <td>...</td>\n",
       "      <td>...</td>\n",
       "      <td>...</td>\n",
       "      <td>...</td>\n",
       "    </tr>\n",
       "    <tr>\n",
       "      <th>406</th>\n",
       "      <td>Secretary of State for Combatting Social Fraud...</td>\n",
       "      <td>2016-04-29</td>\n",
       "      <td>2019-10-27</td>\n",
       "      <td>Philippe De Backer</td>\n",
       "      <td>Open VLD - Open Flemish Liberals and Democrats...</td>\n",
       "    </tr>\n",
       "    <tr>\n",
       "      <th>407</th>\n",
       "      <td>Secretary of State for Combatting Social Fraud...</td>\n",
       "      <td>2014-10-11</td>\n",
       "      <td>2016-04-29</td>\n",
       "      <td>Bart Tommelein</td>\n",
       "      <td>Open VLD - Open Flemish Liberals and Democrats...</td>\n",
       "    </tr>\n",
       "    <tr>\n",
       "      <th>408</th>\n",
       "      <td>Secretary of State for the Recovery and Strate...</td>\n",
       "      <td>2020-10-01</td>\n",
       "      <td>2020-12-31</td>\n",
       "      <td>Thomas Dermine</td>\n",
       "      <td>PS - Socialist Party (Parti socialiste, PS)</td>\n",
       "    </tr>\n",
       "    <tr>\n",
       "      <th>409</th>\n",
       "      <td>Secretary of State of Digitalisation</td>\n",
       "      <td>2020-10-01</td>\n",
       "      <td>2020-12-31</td>\n",
       "      <td>Mathieu Michel</td>\n",
       "      <td>MR - Reform Movement ( Mouvement Réformateur,...</td>\n",
       "    </tr>\n",
       "    <tr>\n",
       "      <th>410</th>\n",
       "      <td>Secretary of State of Gender Equality, Equal O...</td>\n",
       "      <td>2020-10-01</td>\n",
       "      <td>2020-12-31</td>\n",
       "      <td>Sarah Schlitz</td>\n",
       "      <td>ECOLO - EcoIogists (Ecologistes pour I’organis...</td>\n",
       "    </tr>\n",
       "  </tbody>\n",
       "</table>\n",
       "<p>411 rows × 5 columns</p>\n",
       "</div>"
      ],
      "text/plain": [
       "                                              Position      Start        End  \\\n",
       "0                                       Prime Minister 2020-10-01 2020-12-31   \n",
       "1                                       Prime Minister 2019-10-27 2020-10-01   \n",
       "2                                       Prime Minister 2014-10-11 2019-10-27   \n",
       "3                                       Prime Minister 2011-12-06 2014-10-11   \n",
       "4                                       Prime Minister 2009-11-25 2011-12-06   \n",
       "..                                                 ...        ...        ...   \n",
       "406  Secretary of State for Combatting Social Fraud... 2016-04-29 2019-10-27   \n",
       "407  Secretary of State for Combatting Social Fraud... 2014-10-11 2016-04-29   \n",
       "408  Secretary of State for the Recovery and Strate... 2020-10-01 2020-12-31   \n",
       "409               Secretary of State of Digitalisation 2020-10-01 2020-12-31   \n",
       "410  Secretary of State of Gender Equality, Equal O... 2020-10-01 2020-12-31   \n",
       "\n",
       "                   Name                                              Party  \n",
       "0     Alexander De Croo  Open VLD - Open Flemish Liberals and Democrats...  \n",
       "1         Sophie Wilmès  MR - Reform Movement ( Mouvement Réformateur,...  \n",
       "2        Charles Michel  MR - Reform Movement ( Mouvement Réformateur,...  \n",
       "3          Elio Di Rupo        PS - Socialist Party (Parti socialiste, PS)  \n",
       "4          Yves Leterme  CD&V - Christian Democratic and Flemish (Chris...  \n",
       "..                  ...                                                ...  \n",
       "406  Philippe De Backer  Open VLD - Open Flemish Liberals and Democrats...  \n",
       "407      Bart Tommelein  Open VLD - Open Flemish Liberals and Democrats...  \n",
       "408      Thomas Dermine        PS - Socialist Party (Parti socialiste, PS)  \n",
       "409      Mathieu Michel  MR - Reform Movement ( Mouvement Réformateur,...  \n",
       "410       Sarah Schlitz  ECOLO - EcoIogists (Ecologistes pour I’organis...  \n",
       "\n",
       "[411 rows x 5 columns]"
      ]
     },
     "execution_count": 8,
     "metadata": {},
     "output_type": "execute_result"
    }
   ],
   "source": [
    "government_dict.get('belgium')"
   ]
  }
 ],
 "metadata": {
  "kernelspec": {
   "display_name": "base",
   "language": "python",
   "name": "python3"
  },
  "language_info": {
   "codemirror_mode": {
    "name": "ipython",
    "version": 3
   },
   "file_extension": ".py",
   "mimetype": "text/x-python",
   "name": "python",
   "nbconvert_exporter": "python",
   "pygments_lexer": "ipython3",
   "version": "3.11.5"
  }
 },
 "nbformat": 4,
 "nbformat_minor": 2
}
