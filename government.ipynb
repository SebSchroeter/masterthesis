{
 "cells": [
  {
   "cell_type": "code",
   "execution_count": 1,
   "metadata": {},
   "outputs": [],
   "source": [
    "%load_ext autoreload\n",
    "%autoreload 2\n",
    "import pandas as pd \n",
    "import numpy as np\n",
    "import os \n",
    "import glob\n",
    "from government_functions import * \n",
    "import ast \n",
    "import warnings\n",
    "warnings.formatwarning = lambda msg, *args, **kwargs: f'{msg}\\n'"
   ]
  },
  {
   "cell_type": "code",
   "execution_count": null,
   "metadata": {},
   "outputs": [],
   "source": [
    "file_name='Australia.csv'\n",
    "df=process_gov_csv(f'government/{file_name}')"
   ]
  },
  {
   "cell_type": "markdown",
   "metadata": {},
   "source": [
    " now, onto matching :D "
   ]
  },
  {
   "cell_type": "code",
   "execution_count": 2,
   "metadata": {},
   "outputs": [],
   "source": [
    "final_df=pd.read_excel('results/complete_dataframe.xlsx',index_col=0)"
   ]
  },
  {
   "cell_type": "code",
   "execution_count": null,
   "metadata": {},
   "outputs": [],
   "source": [
    "#all_elections=final_df.columns.to_numpy()\n",
    "Australia_df=final_df[[col for col in final_df.columns if col.startswith('Australia')]] #this is case sensitive... \n",
    "Australia_elections=Australia_df.columns.to_numpy()"
   ]
  },
  {
   "cell_type": "code",
   "execution_count": null,
   "metadata": {},
   "outputs": [],
   "source": [
    "def match_ministries_and_elections(countryname,election_dates,df):\n",
    "    ## takes in the name of the country, a list of election dates and the df from process_gov_csv\n",
    "    ## to accomodate errors from the political yearbook dataset, begin and end of election cycles are off-set by one month\n",
    "    ## see i.e. that Germany 09/2013 elected ministers are appointed 31.08.2013 by the political yearbook data\n",
    "    ## outputs a dict with (election_date,df_for_electionperiod)\n",
    "    ## df_for_electionperiod has cols: 'Position' and 'Party'\n",
    "\n",
    "    sorted_elections= sorted(pd.to_datetime(election_dates, format=f'{countryname}-%b-%y'))\n",
    "    election_period_dict = {}\n",
    "    for i in range((len(sorted_elections))): \n",
    "        #get timeframe for ministerial appointments per election (start: election -1 month)\n",
    "        start=sorted_elections[i]\n",
    "        adjusted_start= start - pd.DateOffset(months=1)\n",
    "        end = (sorted_elections[i+1] if i+1<len(sorted_elections) else pd.Timestamp.today())- pd.DateOffset(months=1)#.strftime('-%b-%y')\n",
    "        #select all datapoints in this timeframe\n",
    "        boolean_mask = ((df['Start']>=adjusted_start)&(df['Start']<end))\n",
    "        df_for_electionperiod=df[boolean_mask]\n",
    "        key=start.strftime('-%b-%y')\n",
    "        #however keep correct election date as key \n",
    "        election_period_dict[key]=df_for_electionperiod\n",
    "        \n",
    "    return election_period_dict"
   ]
  },
  {
   "cell_type": "code",
   "execution_count": null,
   "metadata": {},
   "outputs": [],
   "source": [
    "test=match_ministries_and_elections('Australia',Australia_elections,df)"
   ]
  },
  {
   "cell_type": "code",
   "execution_count": null,
   "metadata": {},
   "outputs": [],
   "source": [
    "test.keys()"
   ]
  },
  {
   "cell_type": "code",
   "execution_count": null,
   "metadata": {},
   "outputs": [],
   "source": [
    "test.get('-Aug-10')"
   ]
  },
  {
   "cell_type": "code",
   "execution_count": null,
   "metadata": {},
   "outputs": [],
   "source": [
    "test_2=starting_gov_dict(test,'Australia')"
   ]
  },
  {
   "cell_type": "code",
   "execution_count": 3,
   "metadata": {},
   "outputs": [],
   "source": [
    "def starting_gov_dict(election_period_dict,countryname): \n",
    "    ## takes in a dict from match_ministries_and_elections and the countryname for the warning function\n",
    "    ## outputs a dict which matches {election_date,(position,party)}\n",
    "    ## assumes that the start date which appears most often in the period after the election is the date of inauguration of the new cabinet \n",
    "    ## includes some warnings for \"suspicious results\"\n",
    "    governments_dict = {}\n",
    "    edge_cases = []\n",
    "    for election, df_for_election_period in election_period_dict.items():\n",
    "        mode = df_for_election_period['Start'].mode() #check which is the most often appearing start date for this period\n",
    "        if not mode.empty:\n",
    "            start_date = mode[0] #set this date as the beginning for the new government\n",
    "            starting_gov = df_for_election_period.loc[df_for_election_period['Start'] == start_date, ['Position', 'Party']]\n",
    "            \n",
    "            # Handling of cases where the found government was very late in the election period --> likely errors\n",
    "            election_date = pd.to_datetime(election, format='-%b-%y')\n",
    "            if not (election_date.year <= start_date.year <= election_date.year + 1):\n",
    "                shorter_df = df_for_election_period[(df_for_election_period['Start'] > election_date-pd.DateOffset(months=1)) & (df_for_election_period['Start'] <= (election_date + pd.DateOffset(years=1)))]\n",
    "                new_mode=shorter_df['Start'].mode()\n",
    "                if not new_mode.empty:\n",
    "                    start_date = new_mode[0] #set this new date as the beginning for the new government\n",
    "                    starting_gov = shorter_df.loc[shorter_df['Start'] == start_date, ['Position', 'Party']]\n",
    "                    #if start_date != mode[0]:  # Check if new mode is different from the original mode\n",
    "                    warnings.warn(f\"{countryname}{election}: Use government from {new_mode[0]}\")\n",
    "                else:\n",
    "                    warnings.warn(f\"{countryname}{election}: No suitable government found within a year after the election. Fall back to late government at {mode[0]}.\")\n",
    "                    edge_cases.append(f\"{countryname}{election}\")\n",
    "            # Warning if the found government has few ministers\n",
    "            if starting_gov.shape[0] <= 8:\n",
    "                warnings.warn(f\"{countryname}-{election}: Only found {starting_gov.shape[0]} ministers.\")\n",
    "\n",
    "            \n",
    "            \n",
    "            # Warning if the found government was before the actual election \n",
    "            if start_date < election_date:\n",
    "                warnings.warn(f\"{countryname}-{election}: Careful, check db error. Found Government at {start_date}\")\n",
    "\n",
    "        else:\n",
    "            #warnings.warn(f\"No mode found for {countryname}-{election}\")\n",
    "            starting_gov = pd.DataFrame(columns=['Position', 'Party']) #add empty df when no government info is given for the period\n",
    "        \n",
    "        governments_dict[election] = starting_gov\n",
    "    return governments_dict,edge_cases\n"
   ]
  },
  {
   "cell_type": "markdown",
   "metadata": {},
   "source": [
    "create loop for all countries: "
   ]
  },
  {
   "cell_type": "code",
   "execution_count": 4,
   "metadata": {},
   "outputs": [
    {
     "name": "stderr",
     "output_type": "stream",
     "text": [
      "Australia-Aug-10: Use government from 2010-09-14 00:00:00\n",
      "Australia--Sep-13: Careful, check db error. Found Government at 2013-08-31 00:00:00\n",
      "Australia-Jul-16: Use government from 2016-07-19 00:00:00\n",
      "Austria-Sep-19: Use government from 2020-01-07 00:00:00\n",
      "Belgium--Nov-91: Careful, check db error. Found Government at 1991-10-03 00:00:00\n",
      "Bulgaria-Oct-14: Use government from 2014-11-07 00:00:00\n",
      "Croatia-Nov-07: No suitable government found within a year after the election. Fall back to late government at 2009-07-01 00:00:00.\n",
      "Cyprus-May-01: No suitable government found within a year after the election. Fall back to late government at 2003-02-28 00:00:00.\n",
      "Cyprus-May-06: Use government from 2006-07-16 00:00:00\n",
      "Cyprus--May-06: Only found 4 ministers.\n",
      "Cyprus-May-11: Use government from 2011-08-05 00:00:00\n",
      "Cyprus--May-11: Only found 7 ministers.\n",
      "Cyprus-May-16: No suitable government found within a year after the election. Fall back to late government at 2018-03-01 00:00:00.\n",
      "Czech-Jun-02: Use government from 2002-07-15 00:00:00\n",
      "Estonia-Mar-11: Use government from 2011-04-06 00:00:00\n",
      "France-Jun-07: No suitable government found within a year after the election. Fall back to late government at 2011-02-27 00:00:00.\n",
      "France--Jun-12: Careful, check db error. Found Government at 2012-05-16 00:00:00\n",
      "Germany--Sep-13: Careful, check db error. Found Government at 2013-08-31 00:00:00\n",
      "Greece-Oct-09: No suitable government found within a year after the election. Fall back to late government at 2011-11-16 00:00:00.\n",
      "Israel_99_modified--Apr-19: Only found 2 ministers.\n",
      "Israel_99_modified--Sep-19: Only found 2 ministers.\n",
      "Italy-Jun-87: No suitable government found within a year after the election. Fall back to late government at 1991-04-12 00:00:00.\n",
      "Italy-Apr-96: Use government from 1996-05-17 00:00:00\n",
      "Japan-Oct-96: Use government from 1996-11-07 00:00:00\n",
      "Japan-Aug-09: Use government from 2009-09-16 00:00:00\n",
      "Japan-Oct-17: Use government from 2017-11-01 00:00:00\n",
      "Latvia-Oct-06: No suitable government found within a year after the election. Fall back to late government at 2009-03-12 00:00:00.\n",
      "Latvia-Oct-14: Use government from 2014-11-05 00:00:00\n",
      "Malta-Jun-17: Use government from 2017-06-09 00:00:00\n",
      "Newzealand-Sep-14: Use government from 2014-10-08 00:00:00\n",
      "Norway-Sep-17: Use government from 2018-01-17 00:00:00\n",
      "Romania-Nov-08: Use government from 2008-12-22 00:00:00\n",
      "Slovakia-Mar-16: Use government from 2016-03-23 00:00:00\n",
      "Slovenia-Oct-00: Use government from 2000-11-30 00:00:00\n",
      "Slovenia-Dec-11: Use government from 2012-02-10 00:00:00\n",
      "Spain--Dec-15: Only found 1 ministers.\n",
      "Spain-Jun-16: Use government from 2016-11-04 00:00:00\n",
      "Spain--Apr-19: Only found 1 ministers.\n",
      "Sweden-Sep-94: Use government from 1994-10-07 00:00:00\n",
      "Switzerland--Oct-19: Only found 8 ministers.\n",
      "Usa-Nov-94: Use government from 1994-10-08 00:00:00\n",
      "Usa--Nov-94: Only found 1 ministers.\n",
      "Usa--Nov-94: Careful, check db error. Found Government at 1994-10-08 00:00:00\n",
      "Usa--Nov-98: Only found 1 ministers.\n",
      "Usa--Nov-98: Careful, check db error. Found Government at 1998-10-20 00:00:00\n",
      "Usa--Nov-02: Only found 1 ministers.\n",
      "Usa--Nov-06: Only found 1 ministers.\n",
      "Usa--Nov-10: Only found 1 ministers.\n",
      "Usa--Nov-10: Careful, check db error. Found Government at 2010-10-02 00:00:00\n",
      "Usa--Nov-14: Only found 1 ministers.\n",
      "Usa--Nov-18: Only found 3 ministers.\n",
      "Usa--Nov-20: Only found 1 ministers.\n"
     ]
    }
   ],
   "source": [
    "\n",
    "special_cases= []\n",
    "for csv_file in glob.glob(os.path.join('government/','*.csv')): \n",
    "    file= os.path.basename(csv_file)\n",
    "    countryname,_=os.path.splitext(file)\n",
    "    #create country government dataframe\n",
    "    df=process_gov_csv(csv_file)\n",
    "    #grab part of final_df that is relevant for the country\n",
    "    country_df=final_df[[col for col in final_df.columns if col.startswith(countryname)]] #this is case sensitive... \n",
    "    elections=country_df.columns.to_numpy() # list of elections in the country\n",
    "    #get all election_df's (currently not really necessary but might be if stability or changes in government becomre relevant)\n",
    "    election_period_dict=match_ministries_and_elections(countryname,elections,df)\n",
    "    #subset election_df's for only the first ministers in an election period (initial government)\n",
    "    government_dict,edge_cases=starting_gov_dict(election_period_dict,countryname)\n",
    "    special_cases.extend(edge_cases)\n",
    "    ##loop over all election periods: ##\n",
    "    for date,dataframe in government_dict.items():\n",
    "        if not dataframe.empty:\n",
    "            party_str=country_df.at['parties',f'{countryname}{date}']\n",
    "            parties=ast.literal_eval(party_str) # parses string to list  \n",
    "            #create dicts\n",
    "            ministry_dict,unweighted_dict,weighted_dict=get_ministry_dicts(dataframe,parties) \n",
    "            #translate dicts into lists / arrays corrosponding to the party list     \n",
    "            ministy_list=[]\n",
    "            unweighted_array=np.zeros(len(parties))  \n",
    "            weighted_array=np.zeros(len(parties))  \n",
    "            for i,(party,value) in enumerate(ministry_dict.items()): \n",
    "                ministy_list.append(value)\n",
    "            for i,(party,value) in enumerate(unweighted_dict.items()):\n",
    "                unweighted_array[i]=value\n",
    "            for i,(party,value) in enumerate(weighted_dict.items()):\n",
    "                weighted_array[i]=value\n",
    "            \n",
    "            # write list/arrays to final_df:\n",
    "            if 'Ministers' not in final_df.index: \n",
    "                final_df.loc['Ministers']=[np.nan] * len(final_df.columns)   \n",
    "            if 'unweighted' not in final_df.index: \n",
    "                final_df.loc['unweighted']=[np.nan] * len(final_df.columns)   \n",
    "            if 'weighted' not in final_df.index: \n",
    "                final_df.loc['weighted']=[np.nan] * len(final_df.columns) \n",
    "            final_df.at['Ministers',f'{countryname}{date}']=ministy_list\n",
    "            final_df.at['unweighted',f'{countryname}{date}']=unweighted_array\n",
    "            final_df.at['weighted',f'{countryname}{date}']=weighted_array \n",
    "\n",
    "\n",
    "\n",
    "    \n",
    "\n"
   ]
  },
  {
   "cell_type": "code",
   "execution_count": null,
   "metadata": {},
   "outputs": [],
   "source": [
    "with pd.ExcelWriter('combined_dataframe.xlsx', engine='xlsxwriter') as writer:\n",
    "    final_df.to_excel(writer)"
   ]
  }
 ],
 "metadata": {
  "kernelspec": {
   "display_name": "base",
   "language": "python",
   "name": "python3"
  },
  "language_info": {
   "codemirror_mode": {
    "name": "ipython",
    "version": 3
   },
   "file_extension": ".py",
   "mimetype": "text/x-python",
   "name": "python",
   "nbconvert_exporter": "python",
   "pygments_lexer": "ipython3",
   "version": "3.11.5"
  }
 },
 "nbformat": 4,
 "nbformat_minor": 2
}
