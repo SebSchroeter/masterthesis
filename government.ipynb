{
 "cells": [
  {
   "cell_type": "code",
   "execution_count": 1,
   "metadata": {},
   "outputs": [],
   "source": [
    "import pandas as pd "
   ]
  },
  {
   "cell_type": "code",
   "execution_count": 2,
   "metadata": {},
   "outputs": [],
   "source": [
    "def process_gov_csv(file_name): \n",
    "    df= pd.read_csv(file_name, delimiter=\"\\t\",encoding='utf-16')\n",
    "    df.drop('Gender',axis=1,inplace=True)\n",
    "    df.drop('Year of Birth',axis=1,inplace=True)\n",
    "    df['Start']=pd.to_datetime(df['Start'],errors='coerce',format='%d-%b-%y')\n",
    "    df['End']=pd.to_datetime(df['End'],errors='coerce',format='%d-%b-%y')\n",
    "    #df['Start']=df['Start'].dt.strftime('-%b-%y')\n",
    "    #df['End']=df['End'].dt.strftime('-%b-%y')\n",
    "    return df "
   ]
  },
  {
   "cell_type": "code",
   "execution_count": 3,
   "metadata": {},
   "outputs": [],
   "source": [
    "file_name='data.csv'"
   ]
  },
  {
   "cell_type": "code",
   "execution_count": 4,
   "metadata": {},
   "outputs": [],
   "source": [
    "df=process_gov_csv(file_name)"
   ]
  },
  {
   "cell_type": "code",
   "execution_count": 5,
   "metadata": {},
   "outputs": [],
   "source": [
    "df.to_csv('example.csv')"
   ]
  },
  {
   "cell_type": "markdown",
   "metadata": {},
   "source": [
    " now, onto matching :D "
   ]
  },
  {
   "cell_type": "code",
   "execution_count": 7,
   "metadata": {},
   "outputs": [],
   "source": [
    "election_dates = [\n",
    "    \"Austria-Oct-94\", \"Austria-Dec-95\", \"Austria-Oct-99\", \"Austria-Nov-02\",\n",
    "    \"Austria-Oct-06\", \"Austria-Sep-08\", \"Austria-Sep-13\", \"Austria-Oct-17\", \"Austria-Sep-19\"\n",
    "]\n",
    "countryname = 'Austria'\n"
   ]
  },
  {
   "cell_type": "code",
   "execution_count": 21,
   "metadata": {},
   "outputs": [],
   "source": [
    "def match_ministries_and_elections(countryname,election_dates,df): \n",
    "    sorted_elections= sorted(pd.to_datetime(election_dates, format=f'{countryname}-%b-%y'))\n",
    "    election_period_dict = {}\n",
    "    for i in range((len(sorted_elections))): \n",
    "        start=sorted_elections[i]\n",
    "        end = sorted_elections[i+1] if i+1<len(sorted_elections) else pd.Timestamp.today()#.strftime('-%b-%y')\n",
    "        boolean_mask = ((df['Start']>=start)&(df['Start']<end))\n",
    "        df_i=df[boolean_mask]\n",
    "        key=start.strftime('-%b-%y')\n",
    "        election_period_dict[key]=df_i\n",
    "    return election_period_dict\n",
    "        "
   ]
  },
  {
   "cell_type": "code",
   "execution_count": 22,
   "metadata": {},
   "outputs": [],
   "source": [
    "test = matching(countryname,election_dates,df)"
   ]
  },
  {
   "cell_type": "code",
   "execution_count": 23,
   "metadata": {},
   "outputs": [
    {
     "data": {
      "text/plain": [
       "dict_keys(['-Oct-94', '-Dec-95', '-Oct-99', '-Nov-02', '-Oct-06', '-Sep-08', '-Sep-13', '-Oct-17', '-Sep-19'])"
      ]
     },
     "execution_count": 23,
     "metadata": {},
     "output_type": "execute_result"
    }
   ],
   "source": [
    "test.keys()"
   ]
  },
  {
   "cell_type": "code",
   "execution_count": 31,
   "metadata": {},
   "outputs": [],
   "source": [
    "df=test.get('-Sep-19')\n",
    "ministries=df.loc[df['Start']==df['Start'].min(),['Position','Party']]"
   ]
  },
  {
   "cell_type": "code",
   "execution_count": 32,
   "metadata": {},
   "outputs": [],
   "source": [
    "df.to_csv('example.csv')"
   ]
  },
  {
   "cell_type": "markdown",
   "metadata": {},
   "source": [
    " ['FPÖ - Freedom Party of Austria (Freiheitliche Partei Österreichs, FPÖ)', 'GA - The Greens-Green Alternative (Die Grünen-Die Grüne Alternative, GA)', 'LIF - Liberal Forum (Liberales Forum, LIF)', 'SPÖ - Social Democratic Party of Austria  (Sozialdemokratische Partei Österreichs, SPÖ)', \"ÖVP - Austrian People's Party  (Österreichische Volkspartei, ÖVP)\"]"
   ]
  },
  {
   "cell_type": "code",
   "execution_count": 35,
   "metadata": {},
   "outputs": [],
   "source": [
    "parties =['FPÖ - Freedom Party of Austria (Freiheitliche Partei Österreichs, FPÖ)', 'GA - The Greens-Green Alternative (Die Grünen-Die Grüne Alternative, GA)', 'LIF - Liberal Forum (Liberales Forum, LIF)', 'SPÖ - Social Democratic Party of Austria  (Sozialdemokratische Partei Österreichs, SPÖ)', \"ÖVP - Austrian People's Party  (Österreichische Volkspartei, ÖVP)\"]"
   ]
  },
  {
   "cell_type": "code",
   "execution_count": 36,
   "metadata": {},
   "outputs": [],
   "source": [
    "def get_ministry_dict(df,parties): \n",
    "    dict={}\n",
    "    for party in parties: \n",
    "        dict[party]=df[df['Party']==party]['Position'].tolist()\n",
    "    return dict"
   ]
  },
  {
   "cell_type": "code",
   "execution_count": 37,
   "metadata": {},
   "outputs": [],
   "source": [
    "test_dict=get_ministry_dict(df,parties)"
   ]
  },
  {
   "cell_type": "code",
   "execution_count": 38,
   "metadata": {},
   "outputs": [],
   "source": [
    "def get_ministry_dicts(df,parties): \n",
    "    ## takes in a df with cols position and party and a list of all parties\n",
    "    ## creates 3 dicts, which store the following information\n",
    "    dict_1={} #(party,list_of_ministries)\n",
    "    dict_2={} #(party,number_of_ministries)\n",
    "    dict_3={} #(party,weighted_number_of_ministries) ## weighting prime minister = 3, all other 1\n",
    "    prime_minister=df.iloc[0]['Position'] #prime minister, chancellor whatever is always the first entry of the df, if created correctly from political yearbook data\n",
    "    for party in parties: \n",
    "        ministries=df[df['Party']==party]['Position'].tolist()\n",
    "        dict_1[party]=ministries\n",
    "        dict_2[party]=len(ministries)\n",
    "        weighted_ministries= len(ministries) + 2 if prime_minister in ministries else len(ministries)\n",
    "        dict_3[party]=weighted_ministries\n",
    "    return dict_1,dict_2,dict_3\n",
    "        "
   ]
  },
  {
   "cell_type": "code",
   "execution_count": 40,
   "metadata": {},
   "outputs": [],
   "source": [
    "ministries_by_party_dict, ministries_count_by_party, weighted_ministries_count_by_party = get_ministry_dicts(ministries, parties)"
   ]
  }
 ],
 "metadata": {
  "kernelspec": {
   "display_name": "base",
   "language": "python",
   "name": "python3"
  },
  "language_info": {
   "codemirror_mode": {
    "name": "ipython",
    "version": 3
   },
   "file_extension": ".py",
   "mimetype": "text/x-python",
   "name": "python",
   "nbconvert_exporter": "python",
   "pygments_lexer": "ipython3",
   "version": "3.11.5"
  }
 },
 "nbformat": 4,
 "nbformat_minor": 2
}
