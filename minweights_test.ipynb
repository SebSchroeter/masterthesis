{
 "cells": [
  {
   "cell_type": "code",
   "execution_count": 8,
   "metadata": {},
   "outputs": [
    {
     "name": "stdout",
     "output_type": "stream",
     "text": [
      "The autoreload extension is already loaded. To reload it, use:\n",
      "  %reload_ext autoreload\n"
     ]
    }
   ],
   "source": [
    "%load_ext autoreload\n",
    "%autoreload 2\n",
    "import pandas as pd\n",
    "import os\n",
    "import numpy as np\n",
    "from scipy import optimize\n",
    "import numba as nb\n",
    "\n",
    "\n",
    "from mwc_class import getMVCs\n",
    "from mwc_functions import *\n"
   ]
  },
  {
   "cell_type": "code",
   "execution_count": 9,
   "metadata": {},
   "outputs": [],
   "source": [
    "gerdata = getMVCs('germany.csv', save_results=False)\n",
    "results = gerdata.run_pipeline()\n"
   ]
  },
  {
   "cell_type": "code",
   "execution_count": 10,
   "metadata": {},
   "outputs": [],
   "source": [
    "transformed_dataframe = results.get(\"transformed_dataframe\")\n",
    "parties_in_year = results.get(\"parties_in_year\")\n",
    "totalseats_in_year = results.get(\"totalseats_in_year\")\n",
    "coalition_dict = results.get(\"coalition_dict\")\n",
    "winning_coal_dict = results.get(\"winning_coal_dict\")\n",
    "minimal_winning_coalitions = results.get(\"minimal_winning_coalitions\")\n",
    "maximal_losing_coalitions = results.get(\"maximal_losing_coalitions\")\n",
    "unique_tying_coalitions = results.get(\"unique_tying_coalitions\")"
   ]
  },
  {
   "cell_type": "code",
   "execution_count": 11,
   "metadata": {},
   "outputs": [],
   "source": [
    "def create_all_year_dfs(winning_coal_dict, parties_in_year):\n",
    "    ##create dataframes fro every year from coalition dict and indicate whether the coal was winning \n",
    "    ##stores all dataframes in a dict with key= year\n",
    "    all_year_dfs = {}\n",
    "\n",
    "    for (year, coalition), is_winning in winning_coal_dict.items():\n",
    "        if year not in all_year_dfs:#make new df if not there already\n",
    "            all_year_dfs[year] = pd.DataFrame(columns=parties_in_year[year] + ['Winning']) #make column for every party and one to indicate if winning\n",
    "\n",
    "        # Rows\n",
    "        row = {party: 1 if party in coalition.split('+') else 0 for party in parties_in_year[year]} #logic: write 1 in cell if party is member of the coalition, 0 if not\n",
    "        row['Winning'] = is_winning # write 1 in winning column if coal was winning\n",
    "\n",
    "        # Add rows to df\n",
    "        all_year_dfs[year].loc[coalition] = row\n",
    "\n",
    "    return all_year_dfs"
   ]
  },
  {
   "cell_type": "code",
   "execution_count": 12,
   "metadata": {},
   "outputs": [],
   "source": [
    "from optimization_functions import *\n",
    "all_year_dfs = create_all_year_dfs(winning_coal_dict, parties_in_year)"
   ]
  },
  {
   "cell_type": "markdown",
   "metadata": {},
   "source": [
    "Example"
   ]
  },
  {
   "cell_type": "code",
   "execution_count": 13,
   "metadata": {},
   "outputs": [
    {
     "name": "stdout",
     "output_type": "stream",
     "text": [
      "                         CDU  CSU  FDP  G -  PDS  SPD  Winning\n",
      "                           0    0    0    0    0    0        0\n",
      "CDU                        1    0    0    0    0    0        0\n",
      "CSU                        0    1    0    0    0    0        0\n",
      "FDP                        0    0    1    0    0    0        0\n",
      "G -                        0    0    0    1    0    0        0\n",
      "...                      ...  ...  ...  ...  ...  ...      ...\n",
      "CDU+CSU+FDP+PDS+SPD        1    1    1    0    1    1        1\n",
      "CDU+CSU+G -+PDS+SPD        1    1    0    1    1    1        1\n",
      "CDU+FDP+G -+PDS+SPD        1    0    1    1    1    1        1\n",
      "CSU+FDP+G -+PDS+SPD        0    1    1    1    1    1        1\n",
      "CDU+CSU+FDP+G -+PDS+SPD    1    1    1    1    1    1        1\n",
      "\n",
      "[64 rows x 7 columns]\n"
     ]
    }
   ],
   "source": [
    "year = '2002' \n",
    "df_for_year = all_year_dfs.get(year)\n",
    "print(df_for_year)\n"
   ]
  },
  {
   "cell_type": "markdown",
   "metadata": {},
   "source": [
    "apparently the next cell is not good practice since python does not like global variables. \n",
    "Later everything will be written in terms of dicts, for now, this will do."
   ]
  },
  {
   "cell_type": "code",
   "execution_count": 14,
   "metadata": {},
   "outputs": [],
   "source": [
    "for year, df in all_year_dfs.items():\n",
    "    globals()[f'df_of_{year}'] = df"
   ]
  },
  {
   "cell_type": "markdown",
   "metadata": {},
   "source": [
    "now it gets interesting"
   ]
  },
  {
   "cell_type": "code",
   "execution_count": 15,
   "metadata": {},
   "outputs": [],
   "source": [
    "def generate_constraints(df):\n",
    "    # Split the DataFrame into winning and losing coalitions\n",
    "    winning_coalitions = df[df['Winning'] == 1]\n",
    "    losing_coalitions = df[df['Winning'] == 0]\n",
    "\n",
    "    constraints = []\n",
    "\n",
    "    # Iterate over each winning and losing coalition pair to generate constraints\n",
    "    for winning_index, winning_row in winning_coalitions.iterrows(): #for \n",
    "        for losing_index, losing_row in losing_coalitions.iterrows():\n",
    "            # Sum weights for winning coalition\n",
    "            winning_sum = \"+\".join([f'w_{party}' for party in df.columns[:-1] if winning_row[party] == 1])\n",
    "\n",
    "            # Sum weights for losing coalition\n",
    "            losing_sum = \"+\".join([f'w_{party}' for party in df.columns[:-1] if losing_row[party] == 1])\n",
    "\n",
    "            # Create the constraint string\n",
    "            if winning_sum and losing_sum:  # Ensure both sums are non-empty\n",
    "                constraint = f'({winning_sum}) - ({losing_sum}) > 0'\n",
    "                constraints.append(constraint)\n",
    "\n",
    "    return constraints"
   ]
  },
  {
   "cell_type": "code",
   "execution_count": 19,
   "metadata": {},
   "outputs": [],
   "source": [
    "def generate_constraints_df(df):\n",
    "    '''outer-loop iterates over each winning coalition and inner-loop iterates over each losing coalition '''\n",
    "    '''If a party is in the winning coal but not in the losing it gets 1 as constraint.\n",
    "    If the party is only in the losing coal, it gets -1.\n",
    "    If a party is in both or neither, it gets 0.'''\n",
    "    # Initialize an empty DataFrame for constraints\n",
    "    parties = df.columns[:-1]  # create partyweights\n",
    "    constraints_df = pd.DataFrame(columns=parties) #create new empty df with weights as columns  \n",
    "    \n",
    "    winning_coalitions = df[df['Winning'] == 1] # Split original DataFrame into winning and losing coalitions\n",
    "    losing_coalitions = df[df['Winning'] == 0]\n",
    "\n",
    "    # Generate constraints\n",
    "    constraint_index = 0 #each win-lose pair creates one constraint\n",
    "    for _, winning_row in winning_coalitions.iterrows(): #outerloop with the winning coals\n",
    "        for _, losing_row in losing_coalitions.iterrows(): #inner loop with the losing coals\n",
    "            # Create a row for the constraint\n",
    "            constraint_row = {}\n",
    "            for party in parties: #calculate difference between the winning and the losing coal\n",
    "                constraint_row[party] = winning_row[party] - losing_row[party] #if party is in winning coal it is assigned a 1, if party is in losing coal it is assigned -1, 0 o/w. \n",
    "\n",
    "            # Add the constraint to the DataFrame\n",
    "            constraints_df.loc[constraint_index] = constraint_row\n",
    "            constraint_index += 1\n",
    "\n",
    "    return constraints_df"
   ]
  },
  {
   "cell_type": "code",
   "execution_count": 16,
   "metadata": {},
   "outputs": [],
   "source": [
    "constraints = generate_constraints(df_for_year)"
   ]
  },
  {
   "cell_type": "code",
   "execution_count": 20,
   "metadata": {},
   "outputs": [],
   "source": [
    "# Example usage:\n",
    "constraints_df = generate_constraints_df(df_for_year)"
   ]
  }
 ],
 "metadata": {
  "kernelspec": {
   "display_name": "base",
   "language": "python",
   "name": "python3"
  },
  "language_info": {
   "codemirror_mode": {
    "name": "ipython",
    "version": 3
   },
   "file_extension": ".py",
   "mimetype": "text/x-python",
   "name": "python",
   "nbconvert_exporter": "python",
   "pygments_lexer": "ipython3",
   "version": "3.11.5"
  }
 },
 "nbformat": 4,
 "nbformat_minor": 2
}
