{
 "cells": [
  {
   "cell_type": "code",
   "execution_count": 1,
   "metadata": {},
   "outputs": [],
   "source": [
    "%load_ext autoreload\n",
    "%autoreload 2\n",
    "import pandas as pd\n",
    "import os\n",
    "import glob\n",
    "import time \n",
    "import numpy as np\n",
    "from scipy import optimize\n",
    "import numba as nb\n",
    "from mwc_class import getMVWs\n",
    "from mwc_functions import *\n",
    "from optimization_functions import *"
   ]
  },
  {
   "cell_type": "code",
   "execution_count": null,
   "metadata": {},
   "outputs": [],
   "source": [
    "def country_name_from_file(file_path):\n",
    "    #gets the name of the country from the currently 'inspected' file\n",
    "    #helper function for next cell\n",
    "    file = os.path.basename(file_path)\n",
    "    country_name, _ = os.path.splitext(file)\n",
    "    return country_name.capitalize()\n",
    "\n"
   ]
  },
  {
   "cell_type": "markdown",
   "metadata": {},
   "source": [
    "# Loop for all countries:"
   ]
  },
  {
   "cell_type": "code",
   "execution_count": null,
   "metadata": {},
   "outputs": [],
   "source": [
    "\"\"\" folder = 'data/'\n",
    "\n",
    "start_time = time.time()\n",
    "\n",
    "for csv_file in glob.glob(os.path.join(folder, '*.csv')):\n",
    "    country_name = country_name_from_file(csv_file)\n",
    "    country_data = getMVWs(f'{country_name}.csv', name=country_name, save_results=True)\n",
    "    \n",
    "    prelims = country_data.preliminaries()\n",
    "    country_MIW = country_data.minimal_voting_weights_pipeline()\n",
    "\n",
    "end_time = time.time()\n",
    "total_time = end_time - start_time\n",
    "print(f\"Total time: {total_time:.2f} seconds\") \"\"\""
   ]
  },
  {
   "cell_type": "markdown",
   "metadata": {},
   "source": [
    "# Test for Belgium "
   ]
  },
  {
   "cell_type": "code",
   "execution_count": null,
   "metadata": {},
   "outputs": [],
   "source": [
    "spain = getMVWs('belgium.csv',name='Belgium',save_results=False,verify_mwcs=False)"
   ]
  },
  {
   "cell_type": "code",
   "execution_count": null,
   "metadata": {},
   "outputs": [],
   "source": [
    "belgian_prelims = spain.preliminaries()"
   ]
  },
  {
   "cell_type": "code",
   "execution_count": null,
   "metadata": {},
   "outputs": [],
   "source": [
    "transformed_dataframe = belgian_prelims.get(\"transformed_dataframe\")\n",
    "parties_in_year = belgian_prelims.get(\"parties_in_year\")\n",
    "n_in_year = belgian_prelims.get(\"n_in_year\")\n",
    "totalseats_in_year = belgian_prelims.get(\"totalseats_in_year\")\n",
    "coalition_dict = belgian_prelims.get(\"coalition_dict\")\n",
    "winning_coal_dict = belgian_prelims.get(\"winning_coal_dict\")\n",
    "minimal_winning_coalitions = belgian_prelims.get(\"minimal_winning_coalitions\")\n",
    "maximal_losing_coalitions = belgian_prelims.get(\"maximal_losing_coalitions\")\n",
    "unique_tying_coalitions = belgian_prelims.get(\"unique_tying_coalitions\")"
   ]
  },
  {
   "cell_type": "code",
   "execution_count": null,
   "metadata": {},
   "outputs": [],
   "source": [
    "start_time=time.time()\n",
    "belgian_miw = spain.minimal_voting_weights_pipeline()\n",
    "end_time=time.time()\n",
    "runtime_noverify=end_time-start_time\n",
    "print(runtime_noverify)"
   ]
  },
  {
   "cell_type": "code",
   "execution_count": null,
   "metadata": {},
   "outputs": [],
   "source": [
    "spain.saveresults=True\n",
    "spain.save_pipeline()"
   ]
  },
  {
   "cell_type": "markdown",
   "metadata": {},
   "source": [
    "results look fishy"
   ]
  },
  {
   "cell_type": "code",
   "execution_count": 2,
   "metadata": {},
   "outputs": [],
   "source": [
    "austria_Data = getMVWs('austria.csv', name='austria', save_results=True,verify_mwcs=True)\n",
    "    \n",
    "prelims = austria_Data.preliminaries()\n",
    "country_MIW = austria_Data.minimal_voting_weights_pipeline()\n"
   ]
  },
  {
   "cell_type": "markdown",
   "metadata": {},
   "source": [
    "but seem to work for smaller parliaments"
   ]
  },
  {
   "cell_type": "markdown",
   "metadata": {},
   "source": [
    "lets check belgium again, with adding unique tying constraints, first: baseline "
   ]
  },
  {
   "cell_type": "code",
   "execution_count": null,
   "metadata": {},
   "outputs": [],
   "source": [
    "relevant_coals=combine_dicts(spain.minimal_winning_coalitions,spain.maximal_losing_coalitions)\n",
    "df_for_belgium = create_all_year_dfs(relevant_coals,parties_in_year)\n",
    "belgian_mwc_constraints = generate_constraints_df(df_for_belgium['2014'])\n",
    "belgian_lin_cons= get_lin_cons(belgian_mwc_constraints)\n",
    "beligan_mvw=get_min_vote_weights('2014',n_in_year,belgian_lin_cons)\n",
    "print(beligan_mvw.x)\n",
    "print(sum(beligan_mvw.x))"
   ]
  },
  {
   "cell_type": "markdown",
   "metadata": {},
   "source": [
    "trying to add more structure to belgian data"
   ]
  },
  {
   "cell_type": "code",
   "execution_count": null,
   "metadata": {},
   "outputs": [],
   "source": [
    "def append_tying_coals_to_cons(year,constraints_df, unique_tying,parties_in_year):\n",
    "    ##takes in constraints_df and adds unique-tying constraints to it \n",
    "    constraints_copy=constraints_df.copy()\n",
    "    constraint_index = len(constraints_copy)  # make sure to add to the bottom \n",
    "    \n",
    "    for (yr, (coalition, complementary_coal)) in unique_tying.keys():\n",
    "        if yr==year: #make sure to only add contraints of the correct year\n",
    "            constraint_row = {f'w_{party}': 0 for party in parties_in_year[year]}  # Initialize all party weights to 0 #create a dict for every row - first set keys to column names and attribute all of them value 0 \n",
    "            for party in coalition.split('+'): #update value dapending on unique-tying dict \n",
    "                constraint_row[f'w_{party}'] = 1\n",
    "            for party in complementary_coal.split('+'):\n",
    "                constraint_row[f'w_{party}'] = -1\n",
    "            # Add to df\n",
    "            constraints_copy.loc[constraint_index] = constraint_row\n",
    "            constraint_index += 1\n",
    "\n",
    "    return constraints_copy"
   ]
  },
  {
   "cell_type": "code",
   "execution_count": null,
   "metadata": {},
   "outputs": [],
   "source": [
    "new_constraints = append_tying_coals_to_cons('2014',belgian_mwc_constraints,unique_tying_coalitions,parties_in_year)"
   ]
  },
  {
   "cell_type": "markdown",
   "metadata": {},
   "source": [
    "need to account for differnet constraint form of unique tying coals \"(tying_coal)-(complement)\"=0"
   ]
  },
  {
   "cell_type": "code",
   "execution_count": null,
   "metadata": {},
   "outputs": [],
   "source": [
    "def get_new_lin_cons(year,constraints_df,unique_tying_coalitions):\n",
    "    # now also incorporates the fact the the unique tying coals have to be exactly 0    \n",
    "    A = constraints_df.to_numpy()\n",
    "    lbnd = np.zeros(len(constraints_df)) # non-negativity constraints \n",
    "    lbnd[constraints_df.shape[1]:] = 1 #set all remaining lower bounds to 1\n",
    "    upbnd = np.full(len(constraints_df), np.inf) #no upper bound for most constraints \n",
    "    #get # of unique tying coals \n",
    "    nr_of_ties = sum(1 for key in unique_tying_coalitions.keys() if key[0] == year) #count how many keys there are for the year \n",
    "    upbnd[-nr_of_ties:]=0 \n",
    "    lbnd[-nr_of_ties:]=0\n",
    "\n",
    "    lin_cons = LinearConstraint(A, lbnd, upbnd)\n",
    "\n",
    "    return lin_cons"
   ]
  },
  {
   "cell_type": "code",
   "execution_count": null,
   "metadata": {},
   "outputs": [],
   "source": [
    "new_lin_cons = get_new_lin_cons('2014',new_constraints,unique_tying_coalitions)"
   ]
  },
  {
   "cell_type": "code",
   "execution_count": null,
   "metadata": {},
   "outputs": [],
   "source": [
    "get_min_vote_weights('2014',n_in_year,new_lin_cons)"
   ]
  },
  {
   "cell_type": "code",
   "execution_count": null,
   "metadata": {},
   "outputs": [],
   "source": [
    "print(beligan_mvw.x)"
   ]
  },
  {
   "cell_type": "markdown",
   "metadata": {},
   "source": [
    "adding more constraints does not change the result "
   ]
  },
  {
   "cell_type": "markdown",
   "metadata": {},
   "source": [
    "# double belgian parliament and test for result "
   ]
  },
  {
   "cell_type": "code",
   "execution_count": null,
   "metadata": {},
   "outputs": [],
   "source": [
    "belgium = read_csv_to_dataframe('belgium.csv')\n",
    "df = transform_and_sort_dataframe(belgium)\n",
    "df['# of Seats']=df['# of Seats']*5\n",
    "parties_in_year, totalseats_in_year, n_in_year= variables_by_year(df)\n",
    "coalition_dict = coalition_combinatorics_generator(df,parties_in_year)"
   ]
  },
  {
   "cell_type": "markdown",
   "metadata": {},
   "source": [
    "pipeline manual"
   ]
  },
  {
   "cell_type": "code",
   "execution_count": null,
   "metadata": {},
   "outputs": [],
   "source": [
    "begin = time.time()\n",
    "winning_coal_dict=win_coals(coalition_dict, totalseats_in_year)\n",
    "min_win_coal_dict=min_winning_coals(winning_coal_dict)\n",
    "maximal_losing_dict=max_loosing_coals(winning_coal_dict, parties_in_year)\n",
    "combined_dict=combine_dicts(min_win_coal_dict, maximal_losing_dict)\n",
    "all_year_dfs=create_all_year_dfs(combined_dict, parties_in_year)\n",
    "constraints_df=generate_constraints_df(all_year_dfs['2014'])\n",
    "lin_con=get_lin_cons(constraints_df)\n",
    "min_weights=get_min_vote_weights('2014',n_in_year,lin_con)\n",
    "end = time.time()\n",
    "duration = end-begin \n"
   ]
  },
  {
   "cell_type": "code",
   "execution_count": null,
   "metadata": {},
   "outputs": [],
   "source": [
    "results=mvw_to_parties('2014',min_weights,parties_in_year)\n",
    "(results)"
   ]
  },
  {
   "cell_type": "markdown",
   "metadata": {},
   "source": [
    "also, same result, will believe it to be correct for now "
   ]
  },
  {
   "cell_type": "markdown",
   "metadata": {},
   "source": [
    "## Now test for really big pariliaments "
   ]
  },
  {
   "cell_type": "markdown",
   "metadata": {},
   "source": [
    "# spain 2019 - n = 18 "
   ]
  },
  {
   "cell_type": "code",
   "execution_count": null,
   "metadata": {},
   "outputs": [],
   "source": [
    "start_time=time.time()\n",
    "spain = getMVWs('spain.csv',name='Spain',save_results=True,verify_mwcs=False)\n",
    "spain_prelims = spain.preliminaries()\n",
    "\n",
    "middle_time = time.time()\n",
    "first_timer = middle_time-start_time\n",
    "print(first_timer)\n",
    "\n",
    "spain_miw = spain.minimal_voting_weights_pipeline()\n",
    "\n",
    "end_time=time.time()\n",
    "runtime_noverify=end_time-start_time\n",
    "print(runtime_noverify)"
   ]
  },
  {
   "cell_type": "markdown",
   "metadata": {},
   "source": [
    "kinda cracked, ngl :D"
   ]
  },
  {
   "cell_type": "markdown",
   "metadata": {},
   "source": [
    "next hickup: israel"
   ]
  },
  {
   "cell_type": "code",
   "execution_count": null,
   "metadata": {},
   "outputs": [],
   "source": [
    "start_time = time.time()\n",
    "\n",
    "israel_data = getMVWs('israel.csv', name='Israel', save_results=False,find_errors=True)\n",
    "prelims = israel_data.preliminaries()\n",
    "prelim_time = israel_data.time - start_time\n",
    "print(prelim_time)\n",
    "country_MIW = israel_data.minimal_voting_weights_pipeline()\n",
    "pipeline_time = israel_data.time - prelim_time\n",
    "print(pipeline_time)\n",
    "end_time = time.time()\n",
    "total_time = end_time - start_time\n",
    "print(f\"Total time: {total_time:.2f} seconds\") "
   ]
  },
  {
   "cell_type": "markdown",
   "metadata": {},
   "source": [
    "investigate israel 1999:"
   ]
  },
  {
   "cell_type": "code",
   "execution_count": null,
   "metadata": {},
   "outputs": [],
   "source": [
    "israel_data = getMVWs('israel.csv',name='israel',save_results=False,verify_mwcs=False,find_errors=True)"
   ]
  },
  {
   "cell_type": "code",
   "execution_count": null,
   "metadata": {},
   "outputs": [],
   "source": [
    "israel_prelims = israel_data.preliminaries()"
   ]
  },
  {
   "cell_type": "code",
   "execution_count": null,
   "metadata": {},
   "outputs": [],
   "source": [
    "transformed_dataframe = israel_prelims.get(\"transformed_dataframe\")\n",
    "parties_in_year = israel_prelims.get(\"parties_in_year\")\n",
    "n_in_year = israel_prelims.get(\"n_in_year\")\n",
    "totalseats_in_year = israel_prelims.get(\"totalseats_in_year\")\n",
    "coalition_dict = israel_prelims.get(\"coalition_dict\")\n",
    "winning_coal_dict = israel_prelims.get(\"winning_coal_dict\")\n",
    "minimal_winning_coalitions = israel_prelims.get(\"minimal_winning_coalitions\")\n",
    "maximal_losing_coalitions = israel_prelims.get(\"maximal_losing_coalitions\")\n",
    "unique_tying_coalitions = israel_prelims.get(\"unique_tying_coalitions\")"
   ]
  },
  {
   "cell_type": "code",
   "execution_count": null,
   "metadata": {},
   "outputs": [],
   "source": [
    "begin = time.time()\n",
    "combined_dict=combine_dicts(minimal_winning_coalitions, maximal_losing_coalitions)\n",
    "all_year_dfs= create_all_year_dfs(combined_dict,parties_in_year)\n",
    "end = time.time()\n",
    "duration = end-begin \n",
    "print(duration)\n"
   ]
  },
  {
   "cell_type": "code",
   "execution_count": null,
   "metadata": {},
   "outputs": [],
   "source": [
    "\n",
    "def constraint_generation_with_timer(df):\n",
    "\n",
    "\n",
    "    parties = df.columns[:-1] \n",
    "    constraints_df = pd.DataFrame(columns=parties) #create new empty df with weights as columns  \n",
    "    constraint_index = 0 # to allow .loc[] instead of .append, basically counts constraints  \n",
    "\n",
    "    winning_coalitions = df[df['Winning'] == 1] # Split original DataFrame into winning and losing coalitions\n",
    "    losing_coalitions = df[df['Winning'] == 0]\n",
    "\n",
    "    # non-negativity constraints\n",
    "    for party in parties:\n",
    "        non_negative_constraint = {p: 1 if p == party else 0 for p in parties} # puts a 1 where respective p is equal to the party and 0 else \n",
    "        constraints_df.loc[constraint_index] = non_negative_constraint #adds rows for every constraint\n",
    "        constraint_index += 1 #update index counter\n",
    "\n",
    "    start_time = time.time()\n",
    "    last_stamp = constraint_index \n",
    "    # w(S)>w(R) constraints\n",
    "    for _, winning_row in winning_coalitions.iterrows(): #outerloop with the winning coals\n",
    "        for _, losing_row in losing_coalitions.iterrows(): #inner loop with the losing coals\n",
    "            \n",
    "            # Create a dict for the constraint (party,value) where value \\in {-1,0,1}\n",
    "            constraint_row = {}\n",
    "            for party in parties: #calculate difference between the winning and the losing coal\n",
    "                constraint_row[party] = winning_row[party] - losing_row[party] #checks the value of the party in the winning coal (either 1 if present or 0 if not) and the losing coal. Example S={CDU,SPD,B90}, R={SPD,B90,FDP} then CDU=1-0, SPD=1-1, B90=1-1, FDP=0-1. Resulting constraint is w_cdu-w_fdp>0 \n",
    "\n",
    "            # Add the constraint to the DataFrame\n",
    "            constraints_df.loc[constraint_index] = constraint_row\n",
    "            constraint_index += 1\n",
    "            if constraint_index % 1000 == 0:\n",
    "                    current_time = time.time()\n",
    "                    print(f\"Took {current_time - start_time:.2f} seconds to write constraints {last_stamp} to {constraint_index}\")\n",
    "                    start_time = current_time \n",
    "                    last_stamp = constraint_index\n",
    "    # Renaming \n",
    "    constraints_df.columns = [f'w_{party}' for party in parties]\n",
    "\n",
    "    return constraints_df\n",
    "\n"
   ]
  },
  {
   "cell_type": "code",
   "execution_count": null,
   "metadata": {},
   "outputs": [],
   "source": [
    "df_1999=all_year_dfs['1999']"
   ]
  },
  {
   "cell_type": "code",
   "execution_count": null,
   "metadata": {},
   "outputs": [],
   "source": [
    "begin = time.time()\n",
    "constraint_generation_with_timer(df_1999)\n",
    "end = time.time()\n",
    "\n",
    "duration = end-begin \n",
    "print(duration)"
   ]
  },
  {
   "cell_type": "markdown",
   "metadata": {},
   "source": [
    "need a more efficient constraints generator: "
   ]
  },
  {
   "cell_type": "code",
   "execution_count": 18,
   "metadata": {},
   "outputs": [],
   "source": [
    "def generate_eff_cons(df):\n",
    "    \n",
    "    parties = df.columns[:-1].tolist()\n",
    "    n = len(parties) \n",
    "\n",
    "    \n",
    "    winning_coalitions = df[df['Winning'] == 1] \n",
    "    losing_coalitions = df[df['Winning'] == 0]\n",
    "    \n",
    "    winning_array = winning_coalitions.drop(columns=['Winning']).to_numpy()\n",
    "    losing_array = losing_coalitions.drop(columns=['Winning']).to_numpy()\n",
    "    \n",
    "    n_constraints = len(winning_array) * len(losing_array) + n\n",
    "    constraints_array = np.zeros((n_constraints, n),dtype='int') #store constraints in an array, as its much faster than a df, initialize 0´s everywhere\n",
    "    \n",
    "    # Non-negativity constraints\n",
    "    for i, party in enumerate(parties): #enum creates (1,party_1),(2,party_2),... elements thus needs to call i,party even if party is never accessed \n",
    "        constraints_array[i, i] = 1 # write a 1 where party=party \n",
    "    \n",
    "    # w(S) > w(R) constraints\n",
    "    constraint_index = n  # Start after non-negativity cons\n",
    "    for win_row in winning_array:\n",
    "        for lose_row in losing_array:\n",
    "            # #calculate difference between the winning and the losing coal\n",
    "            constraints_array[constraint_index] = win_row - lose_row #checks the value of the party in the winning coal (either 1 if present or 0 if not) and the losing coal. Example S={CDU,SPD,B90}, R={SPD,B90,FDP} then CDU=1-0, SPD=1-1, B90=1-1, FDP=0-1. Resulting constraint is w_cdu-w_fdp>0 \n",
    "            constraint_index += 1\n",
    "            \n",
    "            \n",
    "    # array to original df \n",
    "    constraints_df = pd.DataFrame(constraints_array, columns=[f'w_{party}' for party in parties])\n",
    "    \n",
    "    return constraints_df\n"
   ]
  },
  {
   "cell_type": "code",
   "execution_count": null,
   "metadata": {},
   "outputs": [],
   "source": [
    "begin = time.time()\n",
    "cons_1999= generate_eff_cons(df_1999)\n",
    "end = time.time()"
   ]
  },
  {
   "cell_type": "markdown",
   "metadata": {},
   "source": [
    "check whether new dfs are correct: "
   ]
  },
  {
   "cell_type": "code",
   "execution_count": 12,
   "metadata": {},
   "outputs": [],
   "source": [
    "old_data_frames={}\n",
    "for year, df in austria_Data.all_constraints.items():\n",
    "    old_data_frames[year] = df  "
   ]
  },
  {
   "cell_type": "code",
   "execution_count": 19,
   "metadata": {},
   "outputs": [],
   "source": [
    "new_data_frames = {}\n",
    "for year,df in austria_Data.all_dfs.items(): \n",
    "    new_data_frames[year]=generate_eff_cons(austria_Data.all_dfs[year]) "
   ]
  },
  {
   "cell_type": "code",
   "execution_count": 20,
   "metadata": {},
   "outputs": [
    {
     "name": "stdout",
     "output_type": "stream",
     "text": [
      "{'1994': False, '1995': False, '1999': False, '2002': False, '2006': False, '2008': False, '2013': False, '2017': False, '2019': False}\n"
     ]
    }
   ],
   "source": [
    "test_dict ={}\n",
    "for year,df in old_data_frames.items():\n",
    "    is_identical = new_data_frames[year].equals(old_data_frames[year])\n",
    "    test_dict[year]=is_identical\n",
    "print(test_dict)"
   ]
  },
  {
   "cell_type": "code",
   "execution_count": 23,
   "metadata": {},
   "outputs": [
    {
     "data": {
      "text/plain": [
       "14"
      ]
     },
     "execution_count": 23,
     "metadata": {},
     "output_type": "execute_result"
    }
   ],
   "source": [
    "len(old_data_frames['1994'])"
   ]
  },
  {
   "cell_type": "code",
   "execution_count": 24,
   "metadata": {},
   "outputs": [
    {
     "data": {
      "text/plain": [
       "14"
      ]
     },
     "execution_count": 24,
     "metadata": {},
     "output_type": "execute_result"
    }
   ],
   "source": [
    "len(new_data_frames['1994'])"
   ]
  },
  {
   "cell_type": "code",
   "execution_count": 25,
   "metadata": {},
   "outputs": [
    {
     "data": {
      "text/html": [
       "<div>\n",
       "<style scoped>\n",
       "    .dataframe tbody tr th:only-of-type {\n",
       "        vertical-align: middle;\n",
       "    }\n",
       "\n",
       "    .dataframe tbody tr th {\n",
       "        vertical-align: top;\n",
       "    }\n",
       "\n",
       "    .dataframe thead th {\n",
       "        text-align: right;\n",
       "    }\n",
       "</style>\n",
       "<table border=\"1\" class=\"dataframe\">\n",
       "  <thead>\n",
       "    <tr style=\"text-align: right;\">\n",
       "      <th></th>\n",
       "      <th>w_FPÖ</th>\n",
       "      <th>w_GA</th>\n",
       "      <th>w_LIF</th>\n",
       "      <th>w_SPÖ</th>\n",
       "      <th>w_ÖVP</th>\n",
       "    </tr>\n",
       "  </thead>\n",
       "  <tbody>\n",
       "    <tr>\n",
       "      <th>0</th>\n",
       "      <td>True</td>\n",
       "      <td>True</td>\n",
       "      <td>True</td>\n",
       "      <td>True</td>\n",
       "      <td>True</td>\n",
       "    </tr>\n",
       "    <tr>\n",
       "      <th>1</th>\n",
       "      <td>True</td>\n",
       "      <td>True</td>\n",
       "      <td>True</td>\n",
       "      <td>True</td>\n",
       "      <td>True</td>\n",
       "    </tr>\n",
       "    <tr>\n",
       "      <th>2</th>\n",
       "      <td>True</td>\n",
       "      <td>True</td>\n",
       "      <td>True</td>\n",
       "      <td>True</td>\n",
       "      <td>True</td>\n",
       "    </tr>\n",
       "    <tr>\n",
       "      <th>3</th>\n",
       "      <td>True</td>\n",
       "      <td>True</td>\n",
       "      <td>True</td>\n",
       "      <td>True</td>\n",
       "      <td>True</td>\n",
       "    </tr>\n",
       "    <tr>\n",
       "      <th>4</th>\n",
       "      <td>True</td>\n",
       "      <td>True</td>\n",
       "      <td>True</td>\n",
       "      <td>True</td>\n",
       "      <td>True</td>\n",
       "    </tr>\n",
       "    <tr>\n",
       "      <th>5</th>\n",
       "      <td>True</td>\n",
       "      <td>True</td>\n",
       "      <td>True</td>\n",
       "      <td>True</td>\n",
       "      <td>True</td>\n",
       "    </tr>\n",
       "    <tr>\n",
       "      <th>6</th>\n",
       "      <td>True</td>\n",
       "      <td>True</td>\n",
       "      <td>True</td>\n",
       "      <td>True</td>\n",
       "      <td>True</td>\n",
       "    </tr>\n",
       "    <tr>\n",
       "      <th>7</th>\n",
       "      <td>True</td>\n",
       "      <td>True</td>\n",
       "      <td>True</td>\n",
       "      <td>True</td>\n",
       "      <td>True</td>\n",
       "    </tr>\n",
       "    <tr>\n",
       "      <th>8</th>\n",
       "      <td>True</td>\n",
       "      <td>True</td>\n",
       "      <td>True</td>\n",
       "      <td>True</td>\n",
       "      <td>True</td>\n",
       "    </tr>\n",
       "    <tr>\n",
       "      <th>9</th>\n",
       "      <td>True</td>\n",
       "      <td>True</td>\n",
       "      <td>True</td>\n",
       "      <td>True</td>\n",
       "      <td>True</td>\n",
       "    </tr>\n",
       "    <tr>\n",
       "      <th>10</th>\n",
       "      <td>True</td>\n",
       "      <td>True</td>\n",
       "      <td>True</td>\n",
       "      <td>True</td>\n",
       "      <td>True</td>\n",
       "    </tr>\n",
       "    <tr>\n",
       "      <th>11</th>\n",
       "      <td>True</td>\n",
       "      <td>True</td>\n",
       "      <td>True</td>\n",
       "      <td>True</td>\n",
       "      <td>True</td>\n",
       "    </tr>\n",
       "    <tr>\n",
       "      <th>12</th>\n",
       "      <td>True</td>\n",
       "      <td>True</td>\n",
       "      <td>True</td>\n",
       "      <td>True</td>\n",
       "      <td>True</td>\n",
       "    </tr>\n",
       "    <tr>\n",
       "      <th>13</th>\n",
       "      <td>True</td>\n",
       "      <td>True</td>\n",
       "      <td>True</td>\n",
       "      <td>True</td>\n",
       "      <td>True</td>\n",
       "    </tr>\n",
       "  </tbody>\n",
       "</table>\n",
       "</div>"
      ],
      "text/plain": [
       "    w_FPÖ  w_GA   w_LIF  w_SPÖ  w_ÖVP\n",
       "0    True   True   True   True   True\n",
       "1    True   True   True   True   True\n",
       "2    True   True   True   True   True\n",
       "3    True   True   True   True   True\n",
       "4    True   True   True   True   True\n",
       "5    True   True   True   True   True\n",
       "6    True   True   True   True   True\n",
       "7    True   True   True   True   True\n",
       "8    True   True   True   True   True\n",
       "9    True   True   True   True   True\n",
       "10   True   True   True   True   True\n",
       "11   True   True   True   True   True\n",
       "12   True   True   True   True   True\n",
       "13   True   True   True   True   True"
      ]
     },
     "execution_count": 25,
     "metadata": {},
     "output_type": "execute_result"
    }
   ],
   "source": [
    "old_data_frames['1994']==new_data_frames['1994']"
   ]
  }
 ],
 "metadata": {
  "kernelspec": {
   "display_name": "base",
   "language": "python",
   "name": "python3"
  },
  "language_info": {
   "codemirror_mode": {
    "name": "ipython",
    "version": 3
   },
   "file_extension": ".py",
   "mimetype": "text/x-python",
   "name": "python",
   "nbconvert_exporter": "python",
   "pygments_lexer": "ipython3",
   "version": "3.11.5"
  }
 },
 "nbformat": 4,
 "nbformat_minor": 2
}
