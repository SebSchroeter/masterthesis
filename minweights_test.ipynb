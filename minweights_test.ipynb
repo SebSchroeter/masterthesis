{
 "cells": [
  {
   "cell_type": "code",
   "execution_count": 1,
   "metadata": {},
   "outputs": [],
   "source": [
    "%load_ext autoreload\n",
    "%autoreload 2\n",
    "import pandas as pd\n",
    "import os\n",
    "import numpy as np\n",
    "from scipy import optimize\n",
    "import numba as nb\n",
    "from mwc_class import getMVCs\n",
    "from mwc_functions import *\n",
    "from optimization_functions import *"
   ]
  },
  {
   "cell_type": "code",
   "execution_count": 2,
   "metadata": {},
   "outputs": [],
   "source": [
    "gerdata = getMVCs('germany.csv', save_results=False)\n",
    "results = gerdata.run_pipeline()\n"
   ]
  },
  {
   "cell_type": "code",
   "execution_count": 3,
   "metadata": {},
   "outputs": [],
   "source": [
    "transformed_dataframe = results.get(\"transformed_dataframe\")\n",
    "parties_in_year = results.get(\"parties_in_year\")\n",
    "n_in_year = results.get(\"n_in_year\")\n",
    "totalseats_in_year = results.get(\"totalseats_in_year\")\n",
    "coalition_dict = results.get(\"coalition_dict\")\n",
    "winning_coal_dict = results.get(\"winning_coal_dict\")\n",
    "minimal_winning_coalitions = results.get(\"minimal_winning_coalitions\")\n",
    "maximal_losing_coalitions = results.get(\"maximal_losing_coalitions\")\n",
    "unique_tying_coalitions = results.get(\"unique_tying_coalitions\")"
   ]
  },
  {
   "cell_type": "code",
   "execution_count": 4,
   "metadata": {},
   "outputs": [],
   "source": [
    "\n",
    "all_year_dfs = create_all_year_dfs(winning_coal_dict, parties_in_year)"
   ]
  },
  {
   "cell_type": "markdown",
   "metadata": {},
   "source": [
    "Example"
   ]
  },
  {
   "cell_type": "code",
   "execution_count": 5,
   "metadata": {},
   "outputs": [
    {
     "name": "stdout",
     "output_type": "stream",
     "text": [
      "                         CDU  CSU  FDP  G -  PDS  SPD  Winning\n",
      "                           0    0    0    0    0    0        0\n",
      "CDU                        1    0    0    0    0    0        0\n",
      "CSU                        0    1    0    0    0    0        0\n",
      "FDP                        0    0    1    0    0    0        0\n",
      "G -                        0    0    0    1    0    0        0\n",
      "...                      ...  ...  ...  ...  ...  ...      ...\n",
      "CDU+CSU+FDP+PDS+SPD        1    1    1    0    1    1        1\n",
      "CDU+CSU+G -+PDS+SPD        1    1    0    1    1    1        1\n",
      "CDU+FDP+G -+PDS+SPD        1    0    1    1    1    1        1\n",
      "CSU+FDP+G -+PDS+SPD        0    1    1    1    1    1        1\n",
      "CDU+CSU+FDP+G -+PDS+SPD    1    1    1    1    1    1        1\n",
      "\n",
      "[64 rows x 7 columns]\n"
     ]
    }
   ],
   "source": [
    "year = '2002' \n",
    "df_for_year = all_year_dfs.get(year)\n",
    "print(df_for_year)\n"
   ]
  },
  {
   "cell_type": "markdown",
   "metadata": {},
   "source": [
    "apparently the next cell is not good practice since python does not like global variables. \n",
    "Later everything will be written in terms of dicts, for now, this will do."
   ]
  },
  {
   "cell_type": "code",
   "execution_count": 6,
   "metadata": {},
   "outputs": [],
   "source": [
    "for year, df in all_year_dfs.items():\n",
    "    globals()[f'df_of_{year}'] = df"
   ]
  },
  {
   "cell_type": "markdown",
   "metadata": {},
   "source": [
    "now it gets interesting"
   ]
  },
  {
   "cell_type": "code",
   "execution_count": 7,
   "metadata": {},
   "outputs": [],
   "source": [
    "# Example usage:\n",
    "constraints_df = generate_constraints_df(df_for_year)"
   ]
  },
  {
   "cell_type": "code",
   "execution_count": 8,
   "metadata": {},
   "outputs": [
    {
     "name": "stdout",
     "output_type": "stream",
     "text": [
      "1030\n",
      "   w_CDU  w_CSU  w_FDP  w_G -  w_PDS  w_SPD\n",
      "0      1      0      0      0      0      0\n",
      "1      0      1      0      0      0      0\n",
      "2      0      0      1      0      0      0\n",
      "3      0      0      0      1      0      0\n",
      "4      0      0      0      0      1      0\n"
     ]
    }
   ],
   "source": [
    "print(len(constraints_df))\n",
    "print(constraints_df.head())"
   ]
  },
  {
   "cell_type": "markdown",
   "metadata": {},
   "source": [
    "testing whether all constraints are found: \n",
    "\n",
    "there will be $2^n$ coalitions with $|W|*(2^n-|W|)+n$ constraints\n",
    "where W are all winning coalitions \n",
    "\n",
    "see \"The Minimum Sum Representation as an Index of Voting Power\" Josep Freixas and Serguei Kaniovski (October 17, 2013)"
   ]
  },
  {
   "cell_type": "code",
   "execution_count": 13,
   "metadata": {},
   "outputs": [
    {
     "name": "stdout",
     "output_type": "stream",
     "text": [
      "Correct\n"
     ]
    }
   ],
   "source": [
    "constraints_df = generate_constraints_df(df_for_year)  \n",
    "result = verify_conditions('2002', winning_coal_dict, constraints_df, n_in_year)\n",
    "print(result)"
   ]
  },
  {
   "cell_type": "code",
   "execution_count": 25,
   "metadata": {},
   "outputs": [
    {
     "data": {
      "text/plain": [
       "6"
      ]
     },
     "execution_count": 25,
     "metadata": {},
     "output_type": "execute_result"
    }
   ],
   "source": [
    "constraints_df.shape[1]"
   ]
  },
  {
   "cell_type": "code",
   "execution_count": 26,
   "metadata": {},
   "outputs": [],
   "source": [
    "import numpy as np\n",
    "from scipy.optimize import LinearConstraint\n",
    "\n",
    "def get_lin_cons(constraints_df):\n",
    "    # creates constraints usable for milp\n",
    "    # gets matrix A from constraints_df\n",
    "    # first n constraints are lhs>=0, \n",
    "    # remaining constraints are lhs>0, since lhs will always be integer-valued this is equivalent to lhs>=1 \n",
    "    # returns lin_constraint element   \n",
    "    A = constraints_df.to_numpy()\n",
    "    lbnd = np.zeros(len(constraints_df)) # non-negativity constraints \n",
    "    lbnd[constraints_df.shape[1]:] = 1 #set all remaining lower bounds to 1\n",
    "    upbnd = np.full(len(constraints_df), np.inf) #no upper bound \n",
    "\n",
    "    lin_cons = LinearConstraint(A, lbnd, upbnd)\n",
    "\n",
    "    return lin_cons\n"
   ]
  },
  {
   "cell_type": "code",
   "execution_count": 27,
   "metadata": {},
   "outputs": [],
   "source": [
    "lin_cons = get_lin_cons(constraints_df)\n"
   ]
  },
  {
   "cell_type": "code",
   "execution_count": 29,
   "metadata": {},
   "outputs": [],
   "source": [
    "from scipy.optimize import milp\n",
    "mvw = optimize.milp(np.full(n_in_year['2002'],1), integrality=np.full(n_in_year['2002'],1), constraints=lin_cons)"
   ]
  },
  {
   "cell_type": "code",
   "execution_count": 30,
   "metadata": {},
   "outputs": [],
   "source": [
    "def mvw_to_parties(optimizer_results, parties_in_year, year):\n",
    "    ## takes as input milp.x object and party dict as well as year. \n",
    "    ## zips optimal weights to repsective parties \n",
    "    optimized_seats = {party: result for party, result in zip(parties_in_year[year], optimizer_results)}\n",
    "\n",
    "    return optimized_seats"
   ]
  },
  {
   "cell_type": "code",
   "execution_count": 34,
   "metadata": {},
   "outputs": [],
   "source": [
    "ger2002_mvw=mvw_to_parties(mvw.x,parties_in_year,'2002')"
   ]
  },
  {
   "cell_type": "code",
   "execution_count": 36,
   "metadata": {},
   "outputs": [],
   "source": [
    "import itertools\n",
    "\n",
    "def test_mvw_1(optimized_seats):\n",
    "    ## creates dict of winning_coal_dict form, used later to ensure equivalency of games \n",
    "    ## takes in dict from mvw_to_parties and uses same logic as coalition_combinatorics_generator and win_coals but for dicts\n",
    "    \n",
    "    mw_winning_coal_dict = {}\n",
    "    total_seats = sum(optimized_seats.values()) #new Q\n",
    "    parties = list(optimized_seats.keys())\n",
    "\n",
    "    # Generate all unique coalitions\n",
    "    mw_winning_coal_dict[''] = 0\n",
    "    for r in range(1, len(parties) + 1):\n",
    "        for combo in itertools.combinations(parties, r):\n",
    "            coalition = '+'.join(combo) #name of coalition \n",
    "            coalition_seats = sum(optimized_seats[party] for party in combo) #seats is sum of their weights \n",
    "            mw_winning_coal_dict[coalition] = 1 if coalition_seats > (total_seats / 2) else 0 #indicate winning or losing (again, with strict inequality)\n",
    "\n",
    "    return mw_winning_coal_dict\n"
   ]
  },
  {
   "cell_type": "code",
   "execution_count": 37,
   "metadata": {},
   "outputs": [],
   "source": [
    "ger2002mv_dict = test_mvw_1(ger2002_mvw)"
   ]
  },
  {
   "cell_type": "code",
   "execution_count": 38,
   "metadata": {},
   "outputs": [],
   "source": [
    "def test_mvw_2(year, winning_coal_dict, mw_winning_coal_dict):\n",
    "    yearly_wins = {coalition: value for (yr, coalition), value in winning_coal_dict.items() if yr == year} # bit convoluted since I need 'year' twice, basically just separates the relevant year from the winning_coal_dict\n",
    "\n",
    "    # Compare \n",
    "    for coalition, value in yearly_wins.items():\n",
    "        if coalition not in mw_winning_coal_dict or mw_winning_coal_dict[coalition] != value:\n",
    "            return False\n",
    "\n",
    "    return True"
   ]
  },
  {
   "cell_type": "code",
   "execution_count": 40,
   "metadata": {},
   "outputs": [
    {
     "data": {
      "text/plain": [
       "True"
      ]
     },
     "execution_count": 40,
     "metadata": {},
     "output_type": "execute_result"
    }
   ],
   "source": [
    "pleasework = test_mvw_2('2002', winning_coal_dict, ger2002mv_dict)\n",
    "pleasework"
   ]
  }
 ],
 "metadata": {
  "kernelspec": {
   "display_name": "base",
   "language": "python",
   "name": "python3"
  },
  "language_info": {
   "codemirror_mode": {
    "name": "ipython",
    "version": 3
   },
   "file_extension": ".py",
   "mimetype": "text/x-python",
   "name": "python",
   "nbconvert_exporter": "python",
   "pygments_lexer": "ipython3",
   "version": "3.11.5"
  }
 },
 "nbformat": 4,
 "nbformat_minor": 2
}
