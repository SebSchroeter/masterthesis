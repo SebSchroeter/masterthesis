{
 "cells": [
  {
   "cell_type": "code",
   "execution_count": null,
   "metadata": {},
   "outputs": [],
   "source": [
    "%load_ext autoreload\n",
    "%autoreload 2\n",
    "import pandas as pd\n",
    "import os\n",
    "import glob\n",
    "import time \n",
    "import numpy as np\n",
    "from scipy import optimize\n",
    "import numba as nb\n",
    "from mwc_class import getMVWs\n",
    "from mwc_functions import *\n",
    "from optimization_functions import *"
   ]
  },
  {
   "cell_type": "code",
   "execution_count": null,
   "metadata": {},
   "outputs": [],
   "source": [
    "def country_name_from_file(file_path):\n",
    "    #gets the name of the country from the currently 'inspected' file\n",
    "    #helper function for next cell\n",
    "    file = os.path.basename(file_path)\n",
    "    country_name, _ = os.path.splitext(file)\n",
    "    return country_name.capitalize()\n",
    "\n"
   ]
  },
  {
   "cell_type": "markdown",
   "metadata": {},
   "source": [
    "# Preliminary Data for all countries:"
   ]
  },
  {
   "cell_type": "code",
   "execution_count": null,
   "metadata": {},
   "outputs": [],
   "source": [
    "\"\"\" folder = 'data/'\n",
    "\n",
    "start_time = time.time()\n",
    "\n",
    "for csv_file in glob.glob(os.path.join(folder, '*.csv')):\n",
    "    country_name = country_name_from_file(csv_file)\n",
    "    country_data = getMVWs(f'{country_name}.csv', name=country_name, save_results=True)\n",
    "    \n",
    "    prelims = country_data.preliminaries()\n",
    "    #country_MIW = country_data.minimal_voting_weights_pipeline()\n",
    "\n",
    "end_time = time.time()\n",
    "total_time = end_time - start_time\n",
    "print(f\"Total time: {total_time:.2f} seconds\") \"\"\""
   ]
  },
  {
   "cell_type": "markdown",
   "metadata": {},
   "source": [
    "# Test for Belgium "
   ]
  },
  {
   "cell_type": "code",
   "execution_count": null,
   "metadata": {},
   "outputs": [],
   "source": [
    "belgian_data = getMVWs('belgium.csv',name='Belgium',save_results=False,verify_mwcs=False)"
   ]
  },
  {
   "cell_type": "code",
   "execution_count": null,
   "metadata": {},
   "outputs": [],
   "source": [
    "belgian_prelims = belgian_data.preliminaries()"
   ]
  },
  {
   "cell_type": "code",
   "execution_count": null,
   "metadata": {},
   "outputs": [],
   "source": [
    "transformed_dataframe = belgian_prelims.get(\"transformed_dataframe\")\n",
    "parties_in_year = belgian_prelims.get(\"parties_in_year\")\n",
    "n_in_year = belgian_prelims.get(\"n_in_year\")\n",
    "totalseats_in_year = belgian_prelims.get(\"totalseats_in_year\")\n",
    "coalition_dict = belgian_prelims.get(\"coalition_dict\")\n",
    "winning_coal_dict = belgian_prelims.get(\"winning_coal_dict\")\n",
    "minimal_winning_coalitions = belgian_prelims.get(\"minimal_winning_coalitions\")\n",
    "maximal_losing_coalitions = belgian_prelims.get(\"maximal_losing_coalitions\")\n",
    "unique_tying_coalitions = belgian_prelims.get(\"unique_tying_coalitions\")"
   ]
  },
  {
   "cell_type": "code",
   "execution_count": null,
   "metadata": {},
   "outputs": [],
   "source": [
    "start_time=time.time()\n",
    "belgian_miw = belgian_data.minimal_voting_weights_pipeline()\n",
    "end_time=time.time()\n",
    "runtime_noverify=end_time-start_time\n",
    "print(runtime_noverify)"
   ]
  },
  {
   "cell_type": "code",
   "execution_count": null,
   "metadata": {},
   "outputs": [],
   "source": [
    "belgian_data.saveresults=True\n",
    "belgian_data.save_pipeline()"
   ]
  },
  {
   "cell_type": "markdown",
   "metadata": {},
   "source": [
    "results look fishy"
   ]
  },
  {
   "cell_type": "code",
   "execution_count": null,
   "metadata": {},
   "outputs": [],
   "source": [
    "austria_Data = getMVWs('austria.csv', name='austria', save_results=True,verify_mwcs=True)\n",
    "    \n",
    "prelims = austria_Data.preliminaries()\n",
    "country_MIW = austria_Data.minimal_voting_weights_pipeline()\n"
   ]
  }
 ],
 "metadata": {
  "kernelspec": {
   "display_name": "base",
   "language": "python",
   "name": "python3"
  },
  "language_info": {
   "codemirror_mode": {
    "name": "ipython",
    "version": 3
   },
   "file_extension": ".py",
   "mimetype": "text/x-python",
   "name": "python",
   "nbconvert_exporter": "python",
   "pygments_lexer": "ipython3",
   "version": "3.11.5"
  }
 },
 "nbformat": 4,
 "nbformat_minor": 2
}
