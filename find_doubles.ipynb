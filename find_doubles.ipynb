{
 "cells": [
  {
   "cell_type": "markdown",
   "metadata": {},
   "source": [
    "# Code to find non-unique Minimal Sum representations"
   ]
  },
  {
   "cell_type": "markdown",
   "metadata": {},
   "source": [
    "Observe: \n",
    "\n",
    "-Only non-unique for >7 players\n",
    "\n",
    "-sum must always be the same\n",
    "\n",
    "-differences at most +1/-1 \n",
    "\n"
   ]
  },
  {
   "cell_type": "markdown",
   "metadata": {},
   "source": [
    "## use italy as example"
   ]
  },
  {
   "cell_type": "code",
   "execution_count": 2,
   "metadata": {},
   "outputs": [],
   "source": [
    "%load_ext autoreload\n",
    "%autoreload 2\n",
    "import pandas as pd\n",
    "import os\n",
    "import glob\n",
    "import time \n",
    "import numpy as np\n",
    "from scipy import optimize\n",
    "from itertools import combinations\n",
    "from mwc_class import getMVWs\n",
    "from mwc_functions import *\n",
    "from optimization_functions import *\n"
   ]
  },
  {
   "cell_type": "code",
   "execution_count": null,
   "metadata": {},
   "outputs": [],
   "source": [
    "start_time=time.time()\n",
    "italy_data = getMVWs('italy.csv', name='italy', save_results=True,verify_mwcs=True)\n",
    "prelims = italy_data.preliminaries()\n",
    "country_MIW = italy_data.minimal_voting_weights_pipeline()\n",
    "end_time=time.time()\n",
    "duration_Verify=end_time-start_time\n",
    "\n",
    "print(duration_Verify)\n"
   ]
  },
  {
   "cell_type": "markdown",
   "metadata": {},
   "source": [
    "idea: \n",
    "Function takes in weights and creates all possible combinations of potential equivalent representations\n",
    "passes each one to the linear constraints df: \n",
    "    - adds weights as upper and lower bounds \n",
    "tests whether the optimization works with any of these additional constraints\n",
    "- potentially very time consuming\n",
    "\n",
    "But: LinearConstraint Elements not manipulatable... "
   ]
  },
  {
   "cell_type": "code",
   "execution_count": null,
   "metadata": {},
   "outputs": [],
   "source": [
    "type(mvw)"
   ]
  },
  {
   "cell_type": "code",
   "execution_count": null,
   "metadata": {},
   "outputs": [],
   "source": [
    "def collect_all_representations(mvw, year, n_in_year, constraints_df):\n",
    "    weights = mvw\n",
    "    alternative_weights = possible_other_weights(weights)\n",
    "    optimal_weights = []\n",
    "    total_weights = len(alternative_weights)\n",
    "    one_percent = round(total_weights / 100)\n",
    "    start_time= time.time()\n",
    "    for i, alt_weights in enumerate(alternative_weights):\n",
    "        lin_cons = alt_lin_cons(alt_weights, constraints_df)\n",
    "        mvw_alt = get_min_vote_weights(year, n_in_year, lin_cons)\n",
    "        if mvw_alt.status == 0:\n",
    "            optimal_weights.append(alt_weights)\n",
    "        if (i + 1) % one_percent == 0:\n",
    "            current_time = time.time()\n",
    "            elapsed_time = current_time - start_time\n",
    "            print(f\"Tested {((i + 1) / total_weights) * 100:.2f}% of {total_weights} elements in {elapsed_time:.2f} seconds\")\n",
    "    return optimal_weights    \n",
    "    "
   ]
  },
  {
   "cell_type": "code",
   "execution_count": null,
   "metadata": {},
   "outputs": [],
   "source": [
    "italy_data.all_lin_cons.get('1987')"
   ]
  },
  {
   "cell_type": "code",
   "execution_count": null,
   "metadata": {},
   "outputs": [],
   "source": [
    "def alt_lin_cons(weights, constraints_df):\n",
    "    A = constraints_df.to_numpy()\n",
    "    if isinstance(weights, list): # necessary from output of possible_other_weights function \n",
    "        weights = weights[0]\n",
    "    lbnd = np.zeros(len(constraints_df))  \n",
    "    lbnd[:len(weights)] = weights  \n",
    "    lbnd[len(weights):] = 1  \n",
    "    upbnd = np.full(len(constraints_df), np.inf) \n",
    "    upbnd[:len(weights)] = weights  \n",
    "    lin_cons = LinearConstraint(A, lbnd, upbnd)\n",
    "\n",
    "    return lin_cons"
   ]
  },
  {
   "cell_type": "code",
   "execution_count": null,
   "metadata": {},
   "outputs": [],
   "source": [
    "weights=np.array([1,2,3,4,0])"
   ]
  },
  {
   "cell_type": "code",
   "execution_count": null,
   "metadata": {},
   "outputs": [],
   "source": [
    "pairs = list(combinations(range(len(weights)), 2))\n",
    "print(pairs)"
   ]
  },
  {
   "cell_type": "code",
   "execution_count": null,
   "metadata": {},
   "outputs": [],
   "source": [
    "def possible_other_weights(weights):\n",
    "    weight = np.round(weights).astype(int)\n",
    "    \n",
    "    # Get unique pairs to be changed +1/-1\n",
    "    pairs = list(combinations(range(len(weight)), 2)) # get all possbible pairs of weights \n",
    "    \n",
    "    alt_weights = []\n",
    "    \n",
    "    for i, j in pairs:\n",
    "        for change in [(1, -1), (-1, 1)]:\n",
    "            new_weights = weight.copy()\n",
    "            if new_weights[i] + change[0] >= 0 and new_weights[j] + change[1] >= 0:\n",
    "                new_weights[i] += change[0]\n",
    "                new_weights[j] += change[1]\n",
    "                if not any(np.array_equal(new_weights, arr) for arr in alt_weights):\n",
    "                    alt_weights.append(new_weights)\n",
    "    alt_weights.append(weight)\n",
    "    return alt_weights"
   ]
  },
  {
   "cell_type": "code",
   "execution_count": null,
   "metadata": {},
   "outputs": [],
   "source": [
    "alt_weights=possible_other_weights(weights)"
   ]
  },
  {
   "cell_type": "code",
   "execution_count": null,
   "metadata": {},
   "outputs": [],
   "source": [
    "print(alt_weights)"
   ]
  },
  {
   "cell_type": "code",
   "execution_count": null,
   "metadata": {},
   "outputs": [],
   "source": [
    "cons = italy_data.all_constraints.get('2006')\n",
    "lin_cons=get_lin_cons(cons)\n",
    "min_weights=get_min_vote_weights('2006',italy_data.n_in_year,lin_cons)"
   ]
  },
  {
   "cell_type": "code",
   "execution_count": null,
   "metadata": {},
   "outputs": [],
   "source": [
    "italy_data.n_in_year"
   ]
  },
  {
   "cell_type": "code",
   "execution_count": null,
   "metadata": {},
   "outputs": [],
   "source": [
    "print(min_weights.x)"
   ]
  },
  {
   "cell_type": "code",
   "execution_count": null,
   "metadata": {},
   "outputs": [],
   "source": [
    "alt_weights=collect_all_representations(min_weights, year='2006', n_in_year = italy_data.n_in_year, constraints_df = cons)"
   ]
  },
  {
   "cell_type": "code",
   "execution_count": null,
   "metadata": {},
   "outputs": [],
   "source": [
    "alt_weights"
   ]
  },
  {
   "cell_type": "markdown",
   "metadata": {},
   "source": [
    " function finds at least the correct value --> one way it works :) \n",
    " test now with a number of seats surely having multiple representations "
   ]
  },
  {
   "cell_type": "code",
   "execution_count": 3,
   "metadata": {},
   "outputs": [],
   "source": [
    "#test the following vectors: \n",
    "# 15,13,10,8,6,4,4,2,1 (is minimal but not unique)\n",
    "# 17,15,11,9,7,5,4,2,1 (is minimal but not unique)\n",
    "# 13,7,6,6,4,4,4,3,2 ( 3 and 2 can be exchanged )\n",
    "#this is an example from Directed and weighted majority games, 1995\n",
    "\n",
    "min_Seats_known = {\n",
    "    2001: {'A': 15, 'B': 13, 'C': 10, 'D': 8, 'E': 6, 'F': 4, 'G': 4, 'H': 2, 'I': 1},\n",
    "    2002: {'A': 17, 'B': 15, 'C': 11, 'D': 9, 'E': 7, 'F': 5, 'G': 4, 'H': 2, 'I': 1},\n",
    "    2003: {'A': 13, 'B': 7, 'C': 6, 'D': 6, 'E': 4, 'F': 4, 'G': 4, 'H': 3, 'I': 2},\n",
    "}\n",
    "\n",
    "# create some variety\n",
    "min_Seats_known[2004] = {party: seats * 5 for party, seats in min_Seats_known[2001].items()}\n",
    "min_Seats_known[2005] = {party: seats * 3 for party, seats in min_Seats_known[2002].items()}\n",
    "min_Seats_known[2006] = {party: seats * 4 for party, seats in min_Seats_known[2003].items()}\n",
    "\n",
    "# Prepare df \n",
    "data = []\n",
    "for year in range(2001, 2007):\n",
    "    for party, seats in min_Seats_known[year].items():\n",
    "        data.append({'Party': party, 'Date': year, '# of Seats': seats})\n",
    "\n",
    "krohn_test_data = pd.DataFrame(data)\n",
    "krohn_test_data['Date']=krohn_test_data['Date'].apply(str)\n",
    "krohn_test_data.to_csv('data/krohn.csv',index=False)\n",
    "\n"
   ]
  },
  {
   "cell_type": "code",
   "execution_count": null,
   "metadata": {},
   "outputs": [],
   "source": [
    "kurz_test=read_csv_to_dataframe('kurz_2012_example.csv',encoding='UTF-8',delimiter=',')"
   ]
  },
  {
   "cell_type": "code",
   "execution_count": null,
   "metadata": {},
   "outputs": [],
   "source": [
    "kurz_test_1=transform_and_sort_dataframe(kurz_test_df)"
   ]
  },
  {
   "cell_type": "code",
   "execution_count": null,
   "metadata": {},
   "outputs": [],
   "source": [
    "kurz_test_1.head()"
   ]
  },
  {
   "cell_type": "code",
   "execution_count": null,
   "metadata": {},
   "outputs": [],
   "source": [
    "start_time=time.time()\n",
    "kurz_data = getMVWs('kurz_2012_example.csv', name='kurz_2012_example', save_results=True,verify_mwcs=True,encoding='UTF-8',delimiter=',')\n",
    "prelims = kurz_data.preliminaries()\n",
    "country_MIW = kurz_data.minimal_voting_weights_pipeline()\n",
    "end_time=time.time()\n",
    "duration_Verify=end_time-start_time\n",
    "\n",
    "print(duration_Verify)"
   ]
  },
  {
   "cell_type": "markdown",
   "metadata": {},
   "source": [
    "results indicate optimizer always finds \"indicated result\" however I dont really know how that can be, probably due to this case having changes across equivalence classes?"
   ]
  },
  {
   "cell_type": "code",
   "execution_count": null,
   "metadata": {},
   "outputs": [],
   "source": [
    "kurz_data.all_min_weights"
   ]
  },
  {
   "cell_type": "code",
   "execution_count": null,
   "metadata": {},
   "outputs": [],
   "source": [
    "alt_weights=collect_all_representations(kurz_data.all_min_weights.get('2001'), year='2001', n_in_year = kurz_data.n_in_year, constraints_df = kurz_data.all_constraints.get('2001'))"
   ]
  },
  {
   "cell_type": "code",
   "execution_count": null,
   "metadata": {},
   "outputs": [],
   "source": [
    "(alt_weights)"
   ]
  },
  {
   "cell_type": "code",
   "execution_count": null,
   "metadata": {},
   "outputs": [],
   "source": [
    "test=possible_other_weights(kurz_data.all_min_weights.get('2001'))"
   ]
  },
  {
   "cell_type": "code",
   "execution_count": null,
   "metadata": {},
   "outputs": [],
   "source": [
    "(test)"
   ]
  },
  {
   "cell_type": "code",
   "execution_count": null,
   "metadata": {},
   "outputs": [],
   "source": [
    "lin_cons=alt_lin_cons(test[-5:-4],kurz_data.all_constraints.get('2001'))"
   ]
  },
  {
   "cell_type": "code",
   "execution_count": null,
   "metadata": {},
   "outputs": [],
   "source": [
    "mvw_alt = get_min_vote_weights('2001',kurz_data.n_in_year, lin_cons)"
   ]
  },
  {
   "cell_type": "code",
   "execution_count": null,
   "metadata": {},
   "outputs": [],
   "source": [
    "(mvw_alt)"
   ]
  },
  {
   "cell_type": "code",
   "execution_count": null,
   "metadata": {},
   "outputs": [],
   "source": [
    "A = kurz_data.all_constraints.get('2001').to_numpy()\n",
    "if isinstance(test[-5:-4], list): # necessary from output of possible_other_weights function \n",
    "    weights = test[-5:-4][0]\n",
    "lbnd = np.zeros(len(kurz_data.all_constraints.get('2001')))  \n",
    "#lbnd[:len(weights)] = weights  \n",
    "lbnd[len(weights):] = 1  \n",
    "upbnd = np.full(len(kurz_data.all_constraints.get('2001')), np.inf) \n",
    "upbnd[:len(weights)] = weights  "
   ]
  },
  {
   "cell_type": "code",
   "execution_count": null,
   "metadata": {},
   "outputs": [],
   "source": [
    "lin_cons = LinearConstraint(A, lbnd, upbnd)"
   ]
  },
  {
   "cell_type": "code",
   "execution_count": null,
   "metadata": {},
   "outputs": [],
   "source": [
    "mvw_alt = get_min_vote_weights('2001',kurz_data.n_in_year, lin_cons)"
   ]
  },
  {
   "cell_type": "code",
   "execution_count": null,
   "metadata": {},
   "outputs": [],
   "source": [
    "(mvw_alt)"
   ]
  },
  {
   "cell_type": "code",
   "execution_count": null,
   "metadata": {},
   "outputs": [],
   "source": [
    "upbnd"
   ]
  },
  {
   "cell_type": "code",
   "execution_count": null,
   "metadata": {},
   "outputs": [],
   "source": [
    "A[0:9]"
   ]
  },
  {
   "cell_type": "markdown",
   "metadata": {},
   "source": [
    "this apporach seems not to be working, milp does not find alternative solutions ? "
   ]
  },
  {
   "cell_type": "code",
   "execution_count": null,
   "metadata": {},
   "outputs": [],
   "source": [
    "def verify_coals(all_optimized_Seats,winning_coal_dict): \n",
    "    test_dict={}\n",
    "    errors= {}\n",
    "    \n",
    "    for year, yearly_matching in all_optimized_Seats.items(): \n",
    "            yearly_optimized_Seats= yearly_matching\n",
    "            yearly_mw_winning_dict = help_test_mvws(yearly_optimized_Seats)\n",
    "            test_boolean,wrong_coals = test_mvws(year,winning_coal_dict,yearly_mw_winning_dict)\n",
    "            test_dict[year]=test_boolean\n",
    "            errors[year]=wrong_coals\n",
    "    return test_dict,errors\n",
    "def help_test_mvws(optimized_seats):\n",
    "    '''helper function for test_mvws'''\n",
    "    ## creates dict just like winning_coal_dict but from mvw´s, used later to ensure equivalency of games \n",
    "    ## takes in dict from mvw_to_parties and uses same logic as coalition_combinatorics_generator and win_coals but for dicts\n",
    "    \n",
    "    mw_winning_coal_dict = {}\n",
    "    total_seats = sum(optimized_seats.values()) #new Q\n",
    "    parties = list(optimized_seats.keys())\n",
    "\n",
    "    # Generate all unique coalitions\n",
    "    mw_winning_coal_dict[''] = 0 #add empty coal manually \n",
    "    for r in range(1, len(parties) + 1):\n",
    "        for combo in itertools.combinations(parties, r):\n",
    "            coalition = '+'.join(combo) #name of coalition \n",
    "            coalition_seats = sum(optimized_seats[party] for party in combo) #seats is sum of their weights \n",
    "            mw_winning_coal_dict[coalition] = 1 if coalition_seats > (total_seats / 2) else 0 #indicate winning or losing (again, with strict inequality)\n",
    "\n",
    "    return mw_winning_coal_dict\n",
    "\n",
    "\n",
    "def test_mvws(year, winning_coal_dict, mw_winning_coal_dict):\n",
    "    ## takes in mw_winning_coal_dict and compares it to winning_coal_dict[year] \n",
    "    ## if the set of coalitions is the same and if all coalitions have the same value, the game is identical and thus the mvs represent the same game as the original parliament \n",
    "    ## returns boolean as well as dict with errors:\n",
    "    winning_coals_by_year = {coalition: value for (yr, coalition), value in winning_coal_dict.items() if yr == year} # bit convoluted since I need 'year' twice, basically just separates the relevant year from the winning_coal_dict\n",
    "    errors = {}\n",
    "    # Compare \n",
    "    for coalition, value in winning_coals_by_year.items():\n",
    "        if coalition not in mw_winning_coal_dict or mw_winning_coal_dict[coalition] != value:\n",
    "            errors[(year,coalition)]=(value,mw_winning_coal_dict.get(coalition,'not in here')) #writes to a coalition the value from the winning coal and the min_winning_coal (or indicates that the coal is not actually mi-w)\n",
    "    check = len(errors)==0\n",
    "    return check, errors"
   ]
  },
  {
   "cell_type": "code",
   "execution_count": null,
   "metadata": {},
   "outputs": [],
   "source": [
    "test_dict={}\n",
    "test_dict['A']=23\n",
    "test_dict['B']=15\n",
    "test_dict['C']=13\n",
    "test_dict['D']=11\n",
    "test_dict['E']=9\n",
    "test_dict['F']=8\n",
    "test_dict['G']=4\n",
    "test_dict['H']=2\n",
    "test_dict['I']=1"
   ]
  },
  {
   "cell_type": "code",
   "execution_count": null,
   "metadata": {},
   "outputs": [],
   "source": [
    "alt_dict=help_test_mvws(test_dict)\n",
    "check,errors =test_mvws('2001',kurz_data.winning_coal_dict,alt_dict)\n",
    "(errors)"
   ]
  },
  {
   "cell_type": "code",
   "execution_count": null,
   "metadata": {},
   "outputs": [],
   "source": [
    "kurz_data.totalseats_in_year"
   ]
  },
  {
   "cell_type": "markdown",
   "metadata": {},
   "source": [
    "test the kron data set: "
   ]
  }
 ],
 "metadata": {
  "kernelspec": {
   "display_name": "base",
   "language": "python",
   "name": "python3"
  },
  "language_info": {
   "codemirror_mode": {
    "name": "ipython",
    "version": 3
   },
   "file_extension": ".py",
   "mimetype": "text/x-python",
   "name": "python",
   "nbconvert_exporter": "python",
   "pygments_lexer": "ipython3",
   "version": "3.11.5"
  }
 },
 "nbformat": 4,
 "nbformat_minor": 2
}
