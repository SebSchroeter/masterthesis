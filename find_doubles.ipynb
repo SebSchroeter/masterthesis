{
 "cells": [
  {
   "cell_type": "markdown",
   "metadata": {},
   "source": [
    "# Code to find non-unique Minimal Sum representations"
   ]
  },
  {
   "cell_type": "markdown",
   "metadata": {},
   "source": [
    "Observe: \n",
    "\n",
    "-Only non-unique for >7 players\n",
    "\n",
    "-sum must always be the same\n",
    "\n",
    "-differences at most +1/-1 \n",
    "\n"
   ]
  },
  {
   "cell_type": "markdown",
   "metadata": {},
   "source": [
    "## use italy as example"
   ]
  },
  {
   "cell_type": "code",
   "execution_count": 30,
   "metadata": {},
   "outputs": [
    {
     "name": "stdout",
     "output_type": "stream",
     "text": [
      "The autoreload extension is already loaded. To reload it, use:\n",
      "  %reload_ext autoreload\n"
     ]
    }
   ],
   "source": [
    "%load_ext autoreload\n",
    "%autoreload 2\n",
    "import pandas as pd\n",
    "import os\n",
    "import glob\n",
    "import time \n",
    "import numpy as np\n",
    "from scipy import optimize\n",
    "from itertools import combinations\n",
    "from mwc_class import getMVWs\n",
    "from mwc_functions import *\n",
    "from optimization_functions import *\n"
   ]
  },
  {
   "cell_type": "code",
   "execution_count": 3,
   "metadata": {},
   "outputs": [
    {
     "name": "stdout",
     "output_type": "stream",
     "text": [
      "8.106972932815552\n"
     ]
    }
   ],
   "source": [
    "start_time=time.time()\n",
    "italy_data = getMVWs('italy.csv', name='italy', save_results=False,verify_mwcs=True)\n",
    "prelims = italy_data.preliminaries()\n",
    "country_MIW = italy_data.minimal_voting_weights_pipeline()\n",
    "end_time=time.time()\n",
    "duration_Verify=end_time-start_time\n",
    "\n",
    "print(duration_Verify)\n"
   ]
  },
  {
   "cell_type": "markdown",
   "metadata": {},
   "source": [
    "idea: \n",
    "Function takes in weights and creates all possible combinations of potential equivalent representations\n",
    "passes each one to the linear constraints df: \n",
    "    - adds weights as upper and lower bounds \n",
    "tests whether the optimization works with any of these additional constraints\n",
    "- potentially very time consuming\n",
    "\n",
    "But: LinearConstraint Elements not manipulatable... "
   ]
  },
  {
   "cell_type": "code",
   "execution_count": 52,
   "metadata": {},
   "outputs": [
    {
     "ename": "NameError",
     "evalue": "name 'mvw' is not defined",
     "output_type": "error",
     "traceback": [
      "\u001b[1;31m---------------------------------------------------------------------------\u001b[0m",
      "\u001b[1;31mNameError\u001b[0m                                 Traceback (most recent call last)",
      "Cell \u001b[1;32mIn[52], line 1\u001b[0m\n\u001b[1;32m----> 1\u001b[0m \u001b[38;5;28mtype\u001b[39m(mvw)\n",
      "\u001b[1;31mNameError\u001b[0m: name 'mvw' is not defined"
     ]
    }
   ],
   "source": [
    "type(mvw)"
   ]
  },
  {
   "cell_type": "code",
   "execution_count": 31,
   "metadata": {},
   "outputs": [],
   "source": [
    "def collect_all_representations(mvw, year, n_in_year, constraints_df):\n",
    "    weights = mvw\n",
    "    alternative_weights = possible_other_weights(weights)\n",
    "    optimal_weights = []\n",
    "    total_weights = len(alternative_weights)\n",
    "    one_percent = round(total_weights / 100)\n",
    "    start_time= time.time()\n",
    "    for i, alt_weights in enumerate(alternative_weights):\n",
    "        lin_cons = alt_lin_cons(alt_weights, constraints_df)\n",
    "        mvw_alt = get_min_vote_weights(year, n_in_year, lin_cons)\n",
    "        if mvw_alt.status == 0:\n",
    "            optimal_weights.append(alt_weights)\n",
    "        if (i + 1) % one_percent == 0:\n",
    "            current_time = time.time()\n",
    "            elapsed_time = current_time - start_time\n",
    "            print(f\"Tested {((i + 1) / total_weights) * 100:.2f}% of {total_weights} elements in {elapsed_time:.2f} seconds\")\n",
    "    return optimal_weights    \n",
    "    "
   ]
  },
  {
   "cell_type": "code",
   "execution_count": 13,
   "metadata": {},
   "outputs": [
    {
     "data": {
      "text/plain": [
       "<scipy.optimize._constraints.LinearConstraint at 0x1c405fb00d0>"
      ]
     },
     "execution_count": 13,
     "metadata": {},
     "output_type": "execute_result"
    }
   ],
   "source": [
    "italy_data.all_lin_cons.get('1987')"
   ]
  },
  {
   "cell_type": "code",
   "execution_count": 32,
   "metadata": {},
   "outputs": [],
   "source": [
    "def alt_lin_cons(weights, constraints_df):\n",
    "    A = constraints_df.to_numpy()\n",
    "    if isinstance(weights, list): # necessary from output of possible_other_weights function \n",
    "        weights = weights[0]\n",
    "    lbnd = np.zeros(len(constraints_df))  \n",
    "    lbnd[:len(weights)] = weights  \n",
    "    lbnd[len(weights):] = 1  \n",
    "    upbnd = np.full(len(constraints_df), np.inf) \n",
    "    upbnd[:len(weights)] = weights  \n",
    "    lin_cons = LinearConstraint(A, lbnd, upbnd)\n",
    "\n",
    "    return lin_cons"
   ]
  },
  {
   "cell_type": "code",
   "execution_count": 16,
   "metadata": {},
   "outputs": [],
   "source": [
    "weights=np.array([1,2,3,4,0])"
   ]
  },
  {
   "cell_type": "code",
   "execution_count": 18,
   "metadata": {},
   "outputs": [
    {
     "name": "stdout",
     "output_type": "stream",
     "text": [
      "[(0, 1), (0, 2), (0, 3), (0, 4), (1, 2), (1, 3), (1, 4), (2, 3), (2, 4), (3, 4)]\n"
     ]
    }
   ],
   "source": [
    "pairs = list(combinations(range(len(weights)), 2))\n",
    "print(pairs)"
   ]
  },
  {
   "cell_type": "code",
   "execution_count": 33,
   "metadata": {},
   "outputs": [],
   "source": [
    "def possible_other_weights(weights):\n",
    "    weight = np.round(weights).astype(int)\n",
    "    \n",
    "    # Get unique pairs to be changed +1/-1\n",
    "    pairs = list(combinations(range(len(weight)), 2)) # get all possbible pairs of weights \n",
    "    \n",
    "    alt_weights = []\n",
    "    \n",
    "    for i, j in pairs:\n",
    "        for change in [(1, -1), (-1, 1)]:\n",
    "            new_weights = weight.copy()\n",
    "            if new_weights[i] + change[0] >= 0 and new_weights[j] + change[1] >= 0:\n",
    "                new_weights[i] += change[0]\n",
    "                new_weights[j] += change[1]\n",
    "                if not any(np.array_equal(new_weights, arr) for arr in alt_weights):\n",
    "                    alt_weights.append(new_weights)\n",
    "    alt_weights.append(weight)\n",
    "    return alt_weights"
   ]
  },
  {
   "cell_type": "code",
   "execution_count": 21,
   "metadata": {},
   "outputs": [],
   "source": [
    "alt_weights=possible_other_weights(weights)"
   ]
  },
  {
   "cell_type": "code",
   "execution_count": 23,
   "metadata": {},
   "outputs": [
    {
     "name": "stdout",
     "output_type": "stream",
     "text": [
      "[array([2, 1, 3, 4, 0]), array([0, 3, 3, 4, 0]), array([2, 2, 2, 4, 0]), array([0, 2, 4, 4, 0]), array([2, 2, 3, 3, 0]), array([0, 2, 3, 5, 0]), array([0, 2, 3, 4, 1]), array([1, 3, 2, 4, 0]), array([1, 1, 4, 4, 0]), array([1, 3, 3, 3, 0]), array([1, 1, 3, 5, 0]), array([1, 1, 3, 4, 1]), array([1, 2, 4, 3, 0]), array([1, 2, 2, 5, 0]), array([1, 2, 2, 4, 1]), array([1, 2, 3, 3, 1])]\n"
     ]
    }
   ],
   "source": [
    "print(alt_weights)"
   ]
  },
  {
   "cell_type": "code",
   "execution_count": 34,
   "metadata": {},
   "outputs": [],
   "source": [
    "cons = italy_data.all_constraints.get('2006')\n",
    "lin_cons=get_lin_cons(cons)\n",
    "min_weights=get_min_vote_weights('2006',italy_data.n_in_year,lin_cons)"
   ]
  },
  {
   "cell_type": "code",
   "execution_count": 50,
   "metadata": {},
   "outputs": [
    {
     "data": {
      "text/plain": [
       "{'1987': 14,\n",
       " '1992': 16,\n",
       " '1994': 14,\n",
       " '1996': 16,\n",
       " '2001': 11,\n",
       " '2006': 17,\n",
       " '2008': 8,\n",
       " '2013': 10,\n",
       " '2018': 7}"
      ]
     },
     "execution_count": 50,
     "metadata": {},
     "output_type": "execute_result"
    }
   ],
   "source": [
    "italy_data.n_in_year"
   ]
  },
  {
   "cell_type": "code",
   "execution_count": 38,
   "metadata": {},
   "outputs": [
    {
     "name": "stdout",
     "output_type": "stream",
     "text": [
      "[  1.   1.  71.  16.  96.  17.   1.  26.   4.   6.  41.  18.   4. 176.\n",
      "  39.  10.  15.]\n"
     ]
    }
   ],
   "source": [
    "print(min_weights.x)"
   ]
  },
  {
   "cell_type": "code",
   "execution_count": 63,
   "metadata": {},
   "outputs": [
    {
     "name": "stdout",
     "output_type": "stream",
     "text": [
      "Tested 1.10% of 273 elements in 1.43 seconds\n",
      "Tested 2.20% of 273 elements in 2.80 seconds\n",
      "Tested 3.30% of 273 elements in 4.23 seconds\n",
      "Tested 4.40% of 273 elements in 5.65 seconds\n",
      "Tested 5.49% of 273 elements in 7.04 seconds\n",
      "Tested 6.59% of 273 elements in 8.40 seconds\n",
      "Tested 7.69% of 273 elements in 9.79 seconds\n",
      "Tested 8.79% of 273 elements in 11.17 seconds\n",
      "Tested 9.89% of 273 elements in 12.54 seconds\n",
      "Tested 10.99% of 273 elements in 13.89 seconds\n",
      "Tested 12.09% of 273 elements in 15.24 seconds\n",
      "Tested 13.19% of 273 elements in 16.61 seconds\n",
      "Tested 14.29% of 273 elements in 17.98 seconds\n",
      "Tested 15.38% of 273 elements in 19.32 seconds\n",
      "Tested 16.48% of 273 elements in 20.68 seconds\n",
      "Tested 17.58% of 273 elements in 22.03 seconds\n",
      "Tested 18.68% of 273 elements in 23.39 seconds\n",
      "Tested 19.78% of 273 elements in 24.79 seconds\n",
      "Tested 20.88% of 273 elements in 26.20 seconds\n",
      "Tested 21.98% of 273 elements in 27.57 seconds\n",
      "Tested 23.08% of 273 elements in 28.97 seconds\n",
      "Tested 24.18% of 273 elements in 30.33 seconds\n",
      "Tested 25.27% of 273 elements in 31.67 seconds\n",
      "Tested 26.37% of 273 elements in 33.04 seconds\n",
      "Tested 27.47% of 273 elements in 34.39 seconds\n",
      "Tested 28.57% of 273 elements in 35.78 seconds\n",
      "Tested 29.67% of 273 elements in 37.18 seconds\n",
      "Tested 30.77% of 273 elements in 38.58 seconds\n",
      "Tested 31.87% of 273 elements in 39.95 seconds\n",
      "Tested 32.97% of 273 elements in 41.30 seconds\n",
      "Tested 34.07% of 273 elements in 42.66 seconds\n",
      "Tested 35.16% of 273 elements in 44.03 seconds\n",
      "Tested 36.26% of 273 elements in 45.40 seconds\n",
      "Tested 37.36% of 273 elements in 46.79 seconds\n",
      "Tested 38.46% of 273 elements in 48.15 seconds\n",
      "Tested 39.56% of 273 elements in 49.59 seconds\n",
      "Tested 40.66% of 273 elements in 50.94 seconds\n",
      "Tested 41.76% of 273 elements in 52.29 seconds\n",
      "Tested 42.86% of 273 elements in 53.68 seconds\n",
      "Tested 43.96% of 273 elements in 55.04 seconds\n",
      "Tested 45.05% of 273 elements in 56.43 seconds\n",
      "Tested 46.15% of 273 elements in 57.80 seconds\n",
      "Tested 47.25% of 273 elements in 59.15 seconds\n",
      "Tested 48.35% of 273 elements in 60.53 seconds\n",
      "Tested 49.45% of 273 elements in 61.91 seconds\n",
      "Tested 50.55% of 273 elements in 63.28 seconds\n",
      "Tested 51.65% of 273 elements in 64.63 seconds\n",
      "Tested 52.75% of 273 elements in 66.00 seconds\n",
      "Tested 53.85% of 273 elements in 67.35 seconds\n",
      "Tested 54.95% of 273 elements in 68.72 seconds\n",
      "Tested 56.04% of 273 elements in 70.11 seconds\n",
      "Tested 57.14% of 273 elements in 71.48 seconds\n",
      "Tested 58.24% of 273 elements in 72.86 seconds\n",
      "Tested 59.34% of 273 elements in 74.24 seconds\n",
      "Tested 60.44% of 273 elements in 75.63 seconds\n",
      "Tested 61.54% of 273 elements in 76.99 seconds\n",
      "Tested 62.64% of 273 elements in 78.36 seconds\n",
      "Tested 63.74% of 273 elements in 79.71 seconds\n",
      "Tested 64.84% of 273 elements in 81.08 seconds\n",
      "Tested 65.93% of 273 elements in 82.46 seconds\n",
      "Tested 67.03% of 273 elements in 83.80 seconds\n",
      "Tested 68.13% of 273 elements in 85.17 seconds\n",
      "Tested 69.23% of 273 elements in 86.55 seconds\n",
      "Tested 70.33% of 273 elements in 87.94 seconds\n",
      "Tested 71.43% of 273 elements in 89.29 seconds\n",
      "Tested 72.53% of 273 elements in 90.64 seconds\n",
      "Tested 73.63% of 273 elements in 92.02 seconds\n",
      "Tested 74.73% of 273 elements in 93.42 seconds\n",
      "Tested 75.82% of 273 elements in 94.78 seconds\n",
      "Tested 76.92% of 273 elements in 96.13 seconds\n",
      "Tested 78.02% of 273 elements in 97.49 seconds\n",
      "Tested 79.12% of 273 elements in 98.90 seconds\n",
      "Tested 80.22% of 273 elements in 100.28 seconds\n",
      "Tested 81.32% of 273 elements in 101.66 seconds\n",
      "Tested 82.42% of 273 elements in 103.02 seconds\n",
      "Tested 83.52% of 273 elements in 104.40 seconds\n",
      "Tested 84.62% of 273 elements in 105.77 seconds\n",
      "Tested 85.71% of 273 elements in 107.14 seconds\n",
      "Tested 86.81% of 273 elements in 108.51 seconds\n",
      "Tested 87.91% of 273 elements in 109.91 seconds\n",
      "Tested 89.01% of 273 elements in 111.29 seconds\n",
      "Tested 90.11% of 273 elements in 112.67 seconds\n",
      "Tested 91.21% of 273 elements in 114.01 seconds\n",
      "Tested 92.31% of 273 elements in 115.39 seconds\n",
      "Tested 93.41% of 273 elements in 116.74 seconds\n",
      "Tested 94.51% of 273 elements in 118.10 seconds\n",
      "Tested 95.60% of 273 elements in 119.50 seconds\n",
      "Tested 96.70% of 273 elements in 120.85 seconds\n",
      "Tested 97.80% of 273 elements in 122.20 seconds\n",
      "Tested 98.90% of 273 elements in 123.60 seconds\n",
      "Tested 100.00% of 273 elements in 125.02 seconds\n"
     ]
    }
   ],
   "source": [
    "alt_weights=collect_all_representations(min_weights, year='2006', n_in_year = italy_data.n_in_year, constraints_df = cons)"
   ]
  },
  {
   "cell_type": "code",
   "execution_count": 64,
   "metadata": {},
   "outputs": [
    {
     "data": {
      "text/plain": [
       "[array([  1,   1,  71,  16,  96,  17,   1,  26,   4,   6,  41,  18,   4,\n",
       "        176,  39,  10,  15])]"
      ]
     },
     "execution_count": 64,
     "metadata": {},
     "output_type": "execute_result"
    }
   ],
   "source": [
    "alt_weights"
   ]
  },
  {
   "cell_type": "markdown",
   "metadata": {},
   "source": [
    " function finds at least the correct value --> one way it works :) \n",
    " test now with a number of seats surely having multiple representations "
   ]
  },
  {
   "cell_type": "code",
   "execution_count": 27,
   "metadata": {},
   "outputs": [],
   "source": [
    "#test the following vectors: 15,13,10,8,6,4,4,2,1\n",
    "#this is an example from Directed and weighted majority games, 1995\n",
    "\n",
    "min_Seats_known = {\n",
    "    2001: {'A': 15, 'B': 13, 'C': 10, 'D': 8, 'E': 6, 'F': 4, 'G': 4, 'H': 2, 'I': 1},\n",
    "    2002: {'A': 17, 'B': 15, 'C': 11, 'D': 9, 'E': 7, 'F': 5, 'G': 4, 'H': 2, 'I': 1},\n",
    "    2003: {'A': 13, 'B': 7, 'C': 6, 'D': 6, 'E': 4, 'F': 4, 'G': 4, 'H': 3, 'I': 2},\n",
    "}\n",
    "\n",
    "# create some variety\n",
    "min_Seats_known[2004] = {party: seats * 5 for party, seats in min_Seats_known[2001].items()}\n",
    "min_Seats_known[2005] = {party: seats * 3 for party, seats in min_Seats_known[2002].items()}\n",
    "min_Seats_known[2006] = {party: seats * 4 for party, seats in min_Seats_known[2003].items()}\n",
    "\n",
    "# Prepare df \n",
    "data = []\n",
    "for year in range(2001, 2007):\n",
    "    for party, seats in min_Seats_known[year].items():\n",
    "        data.append({'Party': party, 'Date': year, '# of Seats': seats})\n",
    "\n",
    "krohn_test_data = pd.DataFrame(data)\n",
    "krohn_test_data['Date']=krohn_test_data['Date'].apply(str)\n",
    "krohn_test_data.to_csv('data/krohn.csv',index=False)\n",
    "\n"
   ]
  },
  {
   "cell_type": "code",
   "execution_count": 40,
   "metadata": {},
   "outputs": [],
   "source": [
    "kurz_test=read_csv_to_dataframe('kurz_2012_example.csv',encoding='UTF-8',delimiter=',')"
   ]
  },
  {
   "cell_type": "code",
   "execution_count": 41,
   "metadata": {},
   "outputs": [],
   "source": [
    "kurz_test_1=transform_and_sort_dataframe(kurz_test_df)"
   ]
  },
  {
   "cell_type": "code",
   "execution_count": 42,
   "metadata": {},
   "outputs": [
    {
     "data": {
      "text/html": [
       "<div>\n",
       "<style scoped>\n",
       "    .dataframe tbody tr th:only-of-type {\n",
       "        vertical-align: middle;\n",
       "    }\n",
       "\n",
       "    .dataframe tbody tr th {\n",
       "        vertical-align: top;\n",
       "    }\n",
       "\n",
       "    .dataframe thead th {\n",
       "        text-align: right;\n",
       "    }\n",
       "</style>\n",
       "<table border=\"1\" class=\"dataframe\">\n",
       "  <thead>\n",
       "    <tr style=\"text-align: right;\">\n",
       "      <th></th>\n",
       "      <th>Year</th>\n",
       "      <th>Party</th>\n",
       "      <th># of Seats</th>\n",
       "    </tr>\n",
       "  </thead>\n",
       "  <tbody>\n",
       "    <tr>\n",
       "      <th>0</th>\n",
       "      <td>2001</td>\n",
       "      <td>A</td>\n",
       "      <td>23</td>\n",
       "    </tr>\n",
       "    <tr>\n",
       "      <th>1</th>\n",
       "      <td>2001</td>\n",
       "      <td>B</td>\n",
       "      <td>15</td>\n",
       "    </tr>\n",
       "    <tr>\n",
       "      <th>2</th>\n",
       "      <td>2001</td>\n",
       "      <td>C</td>\n",
       "      <td>13</td>\n",
       "    </tr>\n",
       "    <tr>\n",
       "      <th>3</th>\n",
       "      <td>2001</td>\n",
       "      <td>D</td>\n",
       "      <td>11</td>\n",
       "    </tr>\n",
       "    <tr>\n",
       "      <th>4</th>\n",
       "      <td>2001</td>\n",
       "      <td>E</td>\n",
       "      <td>9</td>\n",
       "    </tr>\n",
       "  </tbody>\n",
       "</table>\n",
       "</div>"
      ],
      "text/plain": [
       "   Year Party  # of Seats\n",
       "0  2001     A          23\n",
       "1  2001     B          15\n",
       "2  2001     C          13\n",
       "3  2001     D          11\n",
       "4  2001     E           9"
      ]
     },
     "execution_count": 42,
     "metadata": {},
     "output_type": "execute_result"
    }
   ],
   "source": [
    "kurz_test_1.head()"
   ]
  },
  {
   "cell_type": "code",
   "execution_count": 9,
   "metadata": {},
   "outputs": [
    {
     "name": "stdout",
     "output_type": "stream",
     "text": [
      "0.5343070030212402\n"
     ]
    }
   ],
   "source": [
    "start_time=time.time()\n",
    "kurz_data = getMVWs('kurz_2012_example.csv', name='kurz_2012_example', save_results=True,verify_mwcs=True,encoding='UTF-8',delimiter=',')\n",
    "prelims = kurz_data.preliminaries()\n",
    "country_MIW = kurz_data.minimal_voting_weights_pipeline()\n",
    "end_time=time.time()\n",
    "duration_Verify=end_time-start_time\n",
    "\n",
    "print(duration_Verify)"
   ]
  },
  {
   "cell_type": "markdown",
   "metadata": {},
   "source": [
    "results indicate optimizer always finds \"indicated result\" however I dont really know how that can be, probably due to this case having changes across equivalence classes?"
   ]
  },
  {
   "cell_type": "code",
   "execution_count": 49,
   "metadata": {},
   "outputs": [
    {
     "data": {
      "text/html": [
       "<div>\n",
       "<style scoped>\n",
       "    .dataframe tbody tr th:only-of-type {\n",
       "        vertical-align: middle;\n",
       "    }\n",
       "\n",
       "    .dataframe tbody tr th {\n",
       "        vertical-align: top;\n",
       "    }\n",
       "\n",
       "    .dataframe thead th {\n",
       "        text-align: right;\n",
       "    }\n",
       "</style>\n",
       "<table border=\"1\" class=\"dataframe\">\n",
       "  <thead>\n",
       "    <tr style=\"text-align: right;\">\n",
       "      <th></th>\n",
       "      <th>w_A</th>\n",
       "      <th>w_B</th>\n",
       "      <th>w_C</th>\n",
       "      <th>w_D</th>\n",
       "      <th>w_E</th>\n",
       "      <th>w_F</th>\n",
       "      <th>w_G</th>\n",
       "      <th>w_H</th>\n",
       "      <th>w_I</th>\n",
       "    </tr>\n",
       "  </thead>\n",
       "  <tbody>\n",
       "    <tr>\n",
       "      <th>0</th>\n",
       "      <td>1</td>\n",
       "      <td>0</td>\n",
       "      <td>0</td>\n",
       "      <td>0</td>\n",
       "      <td>0</td>\n",
       "      <td>0</td>\n",
       "      <td>0</td>\n",
       "      <td>0</td>\n",
       "      <td>0</td>\n",
       "    </tr>\n",
       "    <tr>\n",
       "      <th>1</th>\n",
       "      <td>0</td>\n",
       "      <td>1</td>\n",
       "      <td>0</td>\n",
       "      <td>0</td>\n",
       "      <td>0</td>\n",
       "      <td>0</td>\n",
       "      <td>0</td>\n",
       "      <td>0</td>\n",
       "      <td>0</td>\n",
       "    </tr>\n",
       "    <tr>\n",
       "      <th>2</th>\n",
       "      <td>0</td>\n",
       "      <td>0</td>\n",
       "      <td>1</td>\n",
       "      <td>0</td>\n",
       "      <td>0</td>\n",
       "      <td>0</td>\n",
       "      <td>0</td>\n",
       "      <td>0</td>\n",
       "      <td>0</td>\n",
       "    </tr>\n",
       "    <tr>\n",
       "      <th>3</th>\n",
       "      <td>0</td>\n",
       "      <td>0</td>\n",
       "      <td>0</td>\n",
       "      <td>1</td>\n",
       "      <td>0</td>\n",
       "      <td>0</td>\n",
       "      <td>0</td>\n",
       "      <td>0</td>\n",
       "      <td>0</td>\n",
       "    </tr>\n",
       "    <tr>\n",
       "      <th>4</th>\n",
       "      <td>0</td>\n",
       "      <td>0</td>\n",
       "      <td>0</td>\n",
       "      <td>0</td>\n",
       "      <td>1</td>\n",
       "      <td>0</td>\n",
       "      <td>0</td>\n",
       "      <td>0</td>\n",
       "      <td>0</td>\n",
       "    </tr>\n",
       "    <tr>\n",
       "      <th>...</th>\n",
       "      <td>...</td>\n",
       "      <td>...</td>\n",
       "      <td>...</td>\n",
       "      <td>...</td>\n",
       "      <td>...</td>\n",
       "      <td>...</td>\n",
       "      <td>...</td>\n",
       "      <td>...</td>\n",
       "      <td>...</td>\n",
       "    </tr>\n",
       "    <tr>\n",
       "      <th>816</th>\n",
       "      <td>0</td>\n",
       "      <td>-1</td>\n",
       "      <td>1</td>\n",
       "      <td>1</td>\n",
       "      <td>0</td>\n",
       "      <td>0</td>\n",
       "      <td>-1</td>\n",
       "      <td>0</td>\n",
       "      <td>0</td>\n",
       "    </tr>\n",
       "    <tr>\n",
       "      <th>817</th>\n",
       "      <td>0</td>\n",
       "      <td>0</td>\n",
       "      <td>0</td>\n",
       "      <td>0</td>\n",
       "      <td>0</td>\n",
       "      <td>1</td>\n",
       "      <td>-1</td>\n",
       "      <td>0</td>\n",
       "      <td>0</td>\n",
       "    </tr>\n",
       "    <tr>\n",
       "      <th>818</th>\n",
       "      <td>0</td>\n",
       "      <td>0</td>\n",
       "      <td>0</td>\n",
       "      <td>0</td>\n",
       "      <td>1</td>\n",
       "      <td>0</td>\n",
       "      <td>-1</td>\n",
       "      <td>0</td>\n",
       "      <td>0</td>\n",
       "    </tr>\n",
       "    <tr>\n",
       "      <th>819</th>\n",
       "      <td>0</td>\n",
       "      <td>0</td>\n",
       "      <td>0</td>\n",
       "      <td>1</td>\n",
       "      <td>0</td>\n",
       "      <td>0</td>\n",
       "      <td>-1</td>\n",
       "      <td>0</td>\n",
       "      <td>0</td>\n",
       "    </tr>\n",
       "    <tr>\n",
       "      <th>820</th>\n",
       "      <td>0</td>\n",
       "      <td>0</td>\n",
       "      <td>1</td>\n",
       "      <td>0</td>\n",
       "      <td>0</td>\n",
       "      <td>0</td>\n",
       "      <td>-1</td>\n",
       "      <td>0</td>\n",
       "      <td>0</td>\n",
       "    </tr>\n",
       "  </tbody>\n",
       "</table>\n",
       "<p>821 rows × 9 columns</p>\n",
       "</div>"
      ],
      "text/plain": [
       "     w_A  w_B  w_C  w_D  w_E  w_F  w_G  w_H  w_I\n",
       "0      1    0    0    0    0    0    0    0    0\n",
       "1      0    1    0    0    0    0    0    0    0\n",
       "2      0    0    1    0    0    0    0    0    0\n",
       "3      0    0    0    1    0    0    0    0    0\n",
       "4      0    0    0    0    1    0    0    0    0\n",
       "..   ...  ...  ...  ...  ...  ...  ...  ...  ...\n",
       "816    0   -1    1    1    0    0   -1    0    0\n",
       "817    0    0    0    0    0    1   -1    0    0\n",
       "818    0    0    0    0    1    0   -1    0    0\n",
       "819    0    0    0    1    0    0   -1    0    0\n",
       "820    0    0    1    0    0    0   -1    0    0\n",
       "\n",
       "[821 rows x 9 columns]"
      ]
     },
     "execution_count": 49,
     "metadata": {},
     "output_type": "execute_result"
    }
   ],
   "source": [
    "kurz_data.all_min_weights"
   ]
  },
  {
   "cell_type": "code",
   "execution_count": 54,
   "metadata": {},
   "outputs": [
    {
     "name": "stdout",
     "output_type": "stream",
     "text": [
      "Tested 1.37% of 73 elements in 0.00 seconds\n",
      "Tested 2.74% of 73 elements in 0.00 seconds\n",
      "Tested 4.11% of 73 elements in 0.01 seconds\n",
      "Tested 5.48% of 73 elements in 0.01 seconds\n",
      "Tested 6.85% of 73 elements in 0.01 seconds\n",
      "Tested 8.22% of 73 elements in 0.01 seconds\n",
      "Tested 9.59% of 73 elements in 0.01 seconds\n",
      "Tested 10.96% of 73 elements in 0.01 seconds\n",
      "Tested 12.33% of 73 elements in 0.01 seconds\n",
      "Tested 13.70% of 73 elements in 0.01 seconds\n",
      "Tested 15.07% of 73 elements in 0.01 seconds\n",
      "Tested 16.44% of 73 elements in 0.01 seconds\n",
      "Tested 17.81% of 73 elements in 0.01 seconds\n",
      "Tested 19.18% of 73 elements in 0.01 seconds\n",
      "Tested 20.55% of 73 elements in 0.02 seconds\n",
      "Tested 21.92% of 73 elements in 0.02 seconds\n",
      "Tested 23.29% of 73 elements in 0.02 seconds\n",
      "Tested 24.66% of 73 elements in 0.02 seconds\n",
      "Tested 26.03% of 73 elements in 0.02 seconds\n",
      "Tested 27.40% of 73 elements in 0.02 seconds\n",
      "Tested 28.77% of 73 elements in 0.02 seconds\n",
      "Tested 30.14% of 73 elements in 0.02 seconds\n",
      "Tested 31.51% of 73 elements in 0.02 seconds\n",
      "Tested 32.88% of 73 elements in 0.02 seconds\n",
      "Tested 34.25% of 73 elements in 0.02 seconds\n",
      "Tested 35.62% of 73 elements in 0.02 seconds\n",
      "Tested 36.99% of 73 elements in 0.02 seconds\n",
      "Tested 38.36% of 73 elements in 0.03 seconds\n",
      "Tested 39.73% of 73 elements in 0.03 seconds\n",
      "Tested 41.10% of 73 elements in 0.03 seconds\n",
      "Tested 42.47% of 73 elements in 0.03 seconds\n",
      "Tested 43.84% of 73 elements in 0.03 seconds\n",
      "Tested 45.21% of 73 elements in 0.03 seconds\n",
      "Tested 46.58% of 73 elements in 0.03 seconds\n",
      "Tested 47.95% of 73 elements in 0.03 seconds\n",
      "Tested 49.32% of 73 elements in 0.03 seconds\n",
      "Tested 50.68% of 73 elements in 0.03 seconds\n",
      "Tested 52.05% of 73 elements in 0.03 seconds\n",
      "Tested 53.42% of 73 elements in 0.03 seconds\n",
      "Tested 54.79% of 73 elements in 0.03 seconds\n",
      "Tested 56.16% of 73 elements in 0.03 seconds\n",
      "Tested 57.53% of 73 elements in 0.04 seconds\n",
      "Tested 58.90% of 73 elements in 0.04 seconds\n",
      "Tested 60.27% of 73 elements in 0.04 seconds\n",
      "Tested 61.64% of 73 elements in 0.04 seconds\n",
      "Tested 63.01% of 73 elements in 0.04 seconds\n",
      "Tested 64.38% of 73 elements in 0.04 seconds\n",
      "Tested 65.75% of 73 elements in 0.04 seconds\n",
      "Tested 67.12% of 73 elements in 0.04 seconds\n",
      "Tested 68.49% of 73 elements in 0.04 seconds\n",
      "Tested 69.86% of 73 elements in 0.04 seconds\n",
      "Tested 71.23% of 73 elements in 0.04 seconds\n",
      "Tested 72.60% of 73 elements in 0.04 seconds\n",
      "Tested 73.97% of 73 elements in 0.04 seconds\n",
      "Tested 75.34% of 73 elements in 0.04 seconds\n",
      "Tested 76.71% of 73 elements in 0.04 seconds\n",
      "Tested 78.08% of 73 elements in 0.04 seconds\n",
      "Tested 79.45% of 73 elements in 0.04 seconds\n",
      "Tested 80.82% of 73 elements in 0.04 seconds\n",
      "Tested 82.19% of 73 elements in 0.04 seconds\n",
      "Tested 83.56% of 73 elements in 0.04 seconds\n",
      "Tested 84.93% of 73 elements in 0.04 seconds\n",
      "Tested 86.30% of 73 elements in 0.04 seconds\n",
      "Tested 87.67% of 73 elements in 0.05 seconds\n",
      "Tested 89.04% of 73 elements in 0.05 seconds\n",
      "Tested 90.41% of 73 elements in 0.05 seconds\n",
      "Tested 91.78% of 73 elements in 0.05 seconds\n",
      "Tested 93.15% of 73 elements in 0.05 seconds\n",
      "Tested 94.52% of 73 elements in 0.05 seconds\n",
      "Tested 95.89% of 73 elements in 0.05 seconds\n",
      "Tested 97.26% of 73 elements in 0.05 seconds\n",
      "Tested 98.63% of 73 elements in 0.05 seconds\n",
      "Tested 100.00% of 73 elements in 0.05 seconds\n"
     ]
    }
   ],
   "source": [
    "alt_weights=collect_all_representations(kurz_data.all_min_weights.get('2001'), year='2001', n_in_year = kurz_data.n_in_year, constraints_df = kurz_data.all_constraints.get('2001'))"
   ]
  },
  {
   "cell_type": "code",
   "execution_count": 55,
   "metadata": {},
   "outputs": [
    {
     "data": {
      "text/plain": [
       "[array([23, 15, 13, 11,  9,  8,  3,  2,  2])]"
      ]
     },
     "execution_count": 55,
     "metadata": {},
     "output_type": "execute_result"
    }
   ],
   "source": [
    "(alt_weights)"
   ]
  },
  {
   "cell_type": "code",
   "execution_count": 56,
   "metadata": {},
   "outputs": [],
   "source": [
    "test=possible_other_weights(kurz_data.all_min_weights.get('2001'))"
   ]
  },
  {
   "cell_type": "code",
   "execution_count": 57,
   "metadata": {},
   "outputs": [
    {
     "data": {
      "text/plain": [
       "[array([24, 14, 13, 11,  9,  8,  3,  2,  2]),\n",
       " array([22, 16, 13, 11,  9,  8,  3,  2,  2]),\n",
       " array([24, 15, 12, 11,  9,  8,  3,  2,  2]),\n",
       " array([22, 15, 14, 11,  9,  8,  3,  2,  2]),\n",
       " array([24, 15, 13, 10,  9,  8,  3,  2,  2]),\n",
       " array([22, 15, 13, 12,  9,  8,  3,  2,  2]),\n",
       " array([24, 15, 13, 11,  8,  8,  3,  2,  2]),\n",
       " array([22, 15, 13, 11, 10,  8,  3,  2,  2]),\n",
       " array([24, 15, 13, 11,  9,  7,  3,  2,  2]),\n",
       " array([22, 15, 13, 11,  9,  9,  3,  2,  2]),\n",
       " array([24, 15, 13, 11,  9,  8,  2,  2,  2]),\n",
       " array([22, 15, 13, 11,  9,  8,  4,  2,  2]),\n",
       " array([24, 15, 13, 11,  9,  8,  3,  1,  2]),\n",
       " array([22, 15, 13, 11,  9,  8,  3,  3,  2]),\n",
       " array([24, 15, 13, 11,  9,  8,  3,  2,  1]),\n",
       " array([22, 15, 13, 11,  9,  8,  3,  2,  3]),\n",
       " array([23, 16, 12, 11,  9,  8,  3,  2,  2]),\n",
       " array([23, 14, 14, 11,  9,  8,  3,  2,  2]),\n",
       " array([23, 16, 13, 10,  9,  8,  3,  2,  2]),\n",
       " array([23, 14, 13, 12,  9,  8,  3,  2,  2]),\n",
       " array([23, 16, 13, 11,  8,  8,  3,  2,  2]),\n",
       " array([23, 14, 13, 11, 10,  8,  3,  2,  2]),\n",
       " array([23, 16, 13, 11,  9,  7,  3,  2,  2]),\n",
       " array([23, 14, 13, 11,  9,  9,  3,  2,  2]),\n",
       " array([23, 16, 13, 11,  9,  8,  2,  2,  2]),\n",
       " array([23, 14, 13, 11,  9,  8,  4,  2,  2]),\n",
       " array([23, 16, 13, 11,  9,  8,  3,  1,  2]),\n",
       " array([23, 14, 13, 11,  9,  8,  3,  3,  2]),\n",
       " array([23, 16, 13, 11,  9,  8,  3,  2,  1]),\n",
       " array([23, 14, 13, 11,  9,  8,  3,  2,  3]),\n",
       " array([23, 15, 14, 10,  9,  8,  3,  2,  2]),\n",
       " array([23, 15, 12, 12,  9,  8,  3,  2,  2]),\n",
       " array([23, 15, 14, 11,  8,  8,  3,  2,  2]),\n",
       " array([23, 15, 12, 11, 10,  8,  3,  2,  2]),\n",
       " array([23, 15, 14, 11,  9,  7,  3,  2,  2]),\n",
       " array([23, 15, 12, 11,  9,  9,  3,  2,  2]),\n",
       " array([23, 15, 14, 11,  9,  8,  2,  2,  2]),\n",
       " array([23, 15, 12, 11,  9,  8,  4,  2,  2]),\n",
       " array([23, 15, 14, 11,  9,  8,  3,  1,  2]),\n",
       " array([23, 15, 12, 11,  9,  8,  3,  3,  2]),\n",
       " array([23, 15, 14, 11,  9,  8,  3,  2,  1]),\n",
       " array([23, 15, 12, 11,  9,  8,  3,  2,  3]),\n",
       " array([23, 15, 13, 12,  8,  8,  3,  2,  2]),\n",
       " array([23, 15, 13, 10, 10,  8,  3,  2,  2]),\n",
       " array([23, 15, 13, 12,  9,  7,  3,  2,  2]),\n",
       " array([23, 15, 13, 10,  9,  9,  3,  2,  2]),\n",
       " array([23, 15, 13, 12,  9,  8,  2,  2,  2]),\n",
       " array([23, 15, 13, 10,  9,  8,  4,  2,  2]),\n",
       " array([23, 15, 13, 12,  9,  8,  3,  1,  2]),\n",
       " array([23, 15, 13, 10,  9,  8,  3,  3,  2]),\n",
       " array([23, 15, 13, 12,  9,  8,  3,  2,  1]),\n",
       " array([23, 15, 13, 10,  9,  8,  3,  2,  3]),\n",
       " array([23, 15, 13, 11, 10,  7,  3,  2,  2]),\n",
       " array([23, 15, 13, 11,  8,  9,  3,  2,  2]),\n",
       " array([23, 15, 13, 11, 10,  8,  2,  2,  2]),\n",
       " array([23, 15, 13, 11,  8,  8,  4,  2,  2]),\n",
       " array([23, 15, 13, 11, 10,  8,  3,  1,  2]),\n",
       " array([23, 15, 13, 11,  8,  8,  3,  3,  2]),\n",
       " array([23, 15, 13, 11, 10,  8,  3,  2,  1]),\n",
       " array([23, 15, 13, 11,  8,  8,  3,  2,  3]),\n",
       " array([23, 15, 13, 11,  9,  9,  2,  2,  2]),\n",
       " array([23, 15, 13, 11,  9,  7,  4,  2,  2]),\n",
       " array([23, 15, 13, 11,  9,  9,  3,  1,  2]),\n",
       " array([23, 15, 13, 11,  9,  7,  3,  3,  2]),\n",
       " array([23, 15, 13, 11,  9,  9,  3,  2,  1]),\n",
       " array([23, 15, 13, 11,  9,  7,  3,  2,  3]),\n",
       " array([23, 15, 13, 11,  9,  8,  4,  1,  2]),\n",
       " array([23, 15, 13, 11,  9,  8,  2,  3,  2]),\n",
       " array([23, 15, 13, 11,  9,  8,  4,  2,  1]),\n",
       " array([23, 15, 13, 11,  9,  8,  2,  2,  3]),\n",
       " array([23, 15, 13, 11,  9,  8,  3,  3,  1]),\n",
       " array([23, 15, 13, 11,  9,  8,  3,  1,  3]),\n",
       " array([23, 15, 13, 11,  9,  8,  3,  2,  2])]"
      ]
     },
     "execution_count": 57,
     "metadata": {},
     "output_type": "execute_result"
    }
   ],
   "source": [
    "(test)"
   ]
  },
  {
   "cell_type": "code",
   "execution_count": 64,
   "metadata": {},
   "outputs": [],
   "source": [
    "lin_cons=alt_lin_cons(test[-5:-4],kurz_data.all_constraints.get('2001'))"
   ]
  },
  {
   "cell_type": "code",
   "execution_count": 74,
   "metadata": {},
   "outputs": [],
   "source": [
    "mvw_alt = get_min_vote_weights('2001',kurz_data.n_in_year, lin_cons)"
   ]
  },
  {
   "cell_type": "code",
   "execution_count": 75,
   "metadata": {},
   "outputs": [
    {
     "data": {
      "text/plain": [
       "        message: The problem is infeasible. (HiGHS Status 8: model_status is Infeasible; primal_status is At lower/fixed bound)\n",
       "        success: False\n",
       "         status: 2\n",
       "            fun: None\n",
       "              x: None\n",
       " mip_node_count: None\n",
       " mip_dual_bound: None\n",
       "        mip_gap: None"
      ]
     },
     "execution_count": 75,
     "metadata": {},
     "output_type": "execute_result"
    }
   ],
   "source": [
    "(mvw_alt)"
   ]
  },
  {
   "cell_type": "code",
   "execution_count": 76,
   "metadata": {},
   "outputs": [],
   "source": [
    "A = kurz_data.all_constraints.get('2001').to_numpy()\n",
    "if isinstance(test[-5:-4], list): # necessary from output of possible_other_weights function \n",
    "    weights = test[-5:-4][0]\n",
    "lbnd = np.zeros(len(kurz_data.all_constraints.get('2001')))  \n",
    "#lbnd[:len(weights)] = weights  \n",
    "lbnd[len(weights):] = 1  \n",
    "upbnd = np.full(len(kurz_data.all_constraints.get('2001')), np.inf) \n",
    "upbnd[:len(weights)] = weights  "
   ]
  },
  {
   "cell_type": "code",
   "execution_count": 77,
   "metadata": {},
   "outputs": [],
   "source": [
    "lin_cons = LinearConstraint(A, lbnd, upbnd)"
   ]
  },
  {
   "cell_type": "code",
   "execution_count": 78,
   "metadata": {},
   "outputs": [],
   "source": [
    "mvw_alt = get_min_vote_weights('2001',kurz_data.n_in_year, lin_cons)"
   ]
  },
  {
   "cell_type": "code",
   "execution_count": 79,
   "metadata": {},
   "outputs": [
    {
     "data": {
      "text/plain": [
       "        message: The problem is infeasible. (HiGHS Status 8: model_status is Infeasible; primal_status is At lower/fixed bound)\n",
       "        success: False\n",
       "         status: 2\n",
       "            fun: None\n",
       "              x: None\n",
       " mip_node_count: None\n",
       " mip_dual_bound: None\n",
       "        mip_gap: None"
      ]
     },
     "execution_count": 79,
     "metadata": {},
     "output_type": "execute_result"
    }
   ],
   "source": [
    "(mvw_alt)"
   ]
  },
  {
   "cell_type": "code",
   "execution_count": 80,
   "metadata": {},
   "outputs": [
    {
     "data": {
      "text/plain": [
       "array([23., 15., 13., 11.,  9.,  8.,  4.,  2.,  1., inf, inf, inf, inf,\n",
       "       inf, inf, inf, inf, inf, inf, inf, inf, inf, inf, inf, inf, inf,\n",
       "       inf, inf, inf, inf, inf, inf, inf, inf, inf, inf, inf, inf, inf,\n",
       "       inf, inf, inf, inf, inf, inf, inf, inf, inf, inf, inf, inf, inf,\n",
       "       inf, inf, inf, inf, inf, inf, inf, inf, inf, inf, inf, inf, inf,\n",
       "       inf, inf, inf, inf, inf, inf, inf, inf, inf, inf, inf, inf, inf,\n",
       "       inf, inf, inf, inf, inf, inf, inf, inf, inf, inf, inf, inf, inf,\n",
       "       inf, inf, inf, inf, inf, inf, inf, inf, inf, inf, inf, inf, inf,\n",
       "       inf, inf, inf, inf, inf, inf, inf, inf, inf, inf, inf, inf, inf,\n",
       "       inf, inf, inf, inf, inf, inf, inf, inf, inf, inf, inf, inf, inf,\n",
       "       inf, inf, inf, inf, inf, inf, inf, inf, inf, inf, inf, inf, inf,\n",
       "       inf, inf, inf, inf, inf, inf, inf, inf, inf, inf, inf, inf, inf,\n",
       "       inf, inf, inf, inf, inf, inf, inf, inf, inf, inf, inf, inf, inf,\n",
       "       inf, inf, inf, inf, inf, inf, inf, inf, inf, inf, inf, inf, inf,\n",
       "       inf, inf, inf, inf, inf, inf, inf, inf, inf, inf, inf, inf, inf,\n",
       "       inf, inf, inf, inf, inf, inf, inf, inf, inf, inf, inf, inf, inf,\n",
       "       inf, inf, inf, inf, inf, inf, inf, inf, inf, inf, inf, inf, inf,\n",
       "       inf, inf, inf, inf, inf, inf, inf, inf, inf, inf, inf, inf, inf,\n",
       "       inf, inf, inf, inf, inf, inf, inf, inf, inf, inf, inf, inf, inf,\n",
       "       inf, inf, inf, inf, inf, inf, inf, inf, inf, inf, inf, inf, inf,\n",
       "       inf, inf, inf, inf, inf, inf, inf, inf, inf, inf, inf, inf, inf,\n",
       "       inf, inf, inf, inf, inf, inf, inf, inf, inf, inf, inf, inf, inf,\n",
       "       inf, inf, inf, inf, inf, inf, inf, inf, inf, inf, inf, inf, inf,\n",
       "       inf, inf, inf, inf, inf, inf, inf, inf, inf, inf, inf, inf, inf,\n",
       "       inf, inf, inf, inf, inf, inf, inf, inf, inf, inf, inf, inf, inf,\n",
       "       inf, inf, inf, inf, inf, inf, inf, inf, inf, inf, inf, inf, inf,\n",
       "       inf, inf, inf, inf, inf, inf, inf, inf, inf, inf, inf, inf, inf,\n",
       "       inf, inf, inf, inf, inf, inf, inf, inf, inf, inf, inf, inf, inf,\n",
       "       inf, inf, inf, inf, inf, inf, inf, inf, inf, inf, inf, inf, inf,\n",
       "       inf, inf, inf, inf, inf, inf, inf, inf, inf, inf, inf, inf, inf,\n",
       "       inf, inf, inf, inf, inf, inf, inf, inf, inf, inf, inf, inf, inf,\n",
       "       inf, inf, inf, inf, inf, inf, inf, inf, inf, inf, inf, inf, inf,\n",
       "       inf, inf, inf, inf, inf, inf, inf, inf, inf, inf, inf, inf, inf,\n",
       "       inf, inf, inf, inf, inf, inf, inf, inf, inf, inf, inf, inf, inf,\n",
       "       inf, inf, inf, inf, inf, inf, inf, inf, inf, inf, inf, inf, inf,\n",
       "       inf, inf, inf, inf, inf, inf, inf, inf, inf, inf, inf, inf, inf,\n",
       "       inf, inf, inf, inf, inf, inf, inf, inf, inf, inf, inf, inf, inf,\n",
       "       inf, inf, inf, inf, inf, inf, inf, inf, inf, inf, inf, inf, inf,\n",
       "       inf, inf, inf, inf, inf, inf, inf, inf, inf, inf, inf, inf, inf,\n",
       "       inf, inf, inf, inf, inf, inf, inf, inf, inf, inf, inf, inf, inf,\n",
       "       inf, inf, inf, inf, inf, inf, inf, inf, inf, inf, inf, inf, inf,\n",
       "       inf, inf, inf, inf, inf, inf, inf, inf, inf, inf, inf, inf, inf,\n",
       "       inf, inf, inf, inf, inf, inf, inf, inf, inf, inf, inf, inf, inf,\n",
       "       inf, inf, inf, inf, inf, inf, inf, inf, inf, inf, inf, inf, inf,\n",
       "       inf, inf, inf, inf, inf, inf, inf, inf, inf, inf, inf, inf, inf,\n",
       "       inf, inf, inf, inf, inf, inf, inf, inf, inf, inf, inf, inf, inf,\n",
       "       inf, inf, inf, inf, inf, inf, inf, inf, inf, inf, inf, inf, inf,\n",
       "       inf, inf, inf, inf, inf, inf, inf, inf, inf, inf, inf, inf, inf,\n",
       "       inf, inf, inf, inf, inf, inf, inf, inf, inf, inf, inf, inf, inf,\n",
       "       inf, inf, inf, inf, inf, inf, inf, inf, inf, inf, inf, inf, inf,\n",
       "       inf, inf, inf, inf, inf, inf, inf, inf, inf, inf, inf, inf, inf,\n",
       "       inf, inf, inf, inf, inf, inf, inf, inf, inf, inf, inf, inf, inf,\n",
       "       inf, inf, inf, inf, inf, inf, inf, inf, inf, inf, inf, inf, inf,\n",
       "       inf, inf, inf, inf, inf, inf, inf, inf, inf, inf, inf, inf, inf,\n",
       "       inf, inf, inf, inf, inf, inf, inf, inf, inf, inf, inf, inf, inf,\n",
       "       inf, inf, inf, inf, inf, inf, inf, inf, inf, inf, inf, inf, inf,\n",
       "       inf, inf, inf, inf, inf, inf, inf, inf, inf, inf, inf, inf, inf,\n",
       "       inf, inf, inf, inf, inf, inf, inf, inf, inf, inf, inf, inf, inf,\n",
       "       inf, inf, inf, inf, inf, inf, inf, inf, inf, inf, inf, inf, inf,\n",
       "       inf, inf, inf, inf, inf, inf, inf, inf, inf, inf, inf, inf, inf,\n",
       "       inf, inf, inf, inf, inf, inf, inf, inf, inf, inf, inf, inf, inf,\n",
       "       inf, inf, inf, inf, inf, inf, inf, inf, inf, inf, inf, inf, inf,\n",
       "       inf, inf, inf, inf, inf, inf, inf, inf, inf, inf, inf, inf, inf,\n",
       "       inf, inf])"
      ]
     },
     "execution_count": 80,
     "metadata": {},
     "output_type": "execute_result"
    }
   ],
   "source": [
    "upbnd"
   ]
  },
  {
   "cell_type": "code",
   "execution_count": 73,
   "metadata": {},
   "outputs": [
    {
     "data": {
      "text/plain": [
       "array([[1, 0, 0, 0, 0, 0, 0, 0, 0],\n",
       "       [0, 1, 0, 0, 0, 0, 0, 0, 0],\n",
       "       [0, 0, 1, 0, 0, 0, 0, 0, 0],\n",
       "       [0, 0, 0, 1, 0, 0, 0, 0, 0],\n",
       "       [0, 0, 0, 0, 1, 0, 0, 0, 0],\n",
       "       [0, 0, 0, 0, 0, 1, 0, 0, 0],\n",
       "       [0, 0, 0, 0, 0, 0, 1, 0, 0],\n",
       "       [0, 0, 0, 0, 0, 0, 0, 1, 0],\n",
       "       [0, 0, 0, 0, 0, 0, 0, 0, 1]])"
      ]
     },
     "execution_count": 73,
     "metadata": {},
     "output_type": "execute_result"
    }
   ],
   "source": [
    "A[0:9]"
   ]
  },
  {
   "cell_type": "markdown",
   "metadata": {},
   "source": [
    "this apporach seems not to be working, milp does not find alternative solutions ? "
   ]
  },
  {
   "cell_type": "code",
   "execution_count": null,
   "metadata": {},
   "outputs": [],
   "source": [
    "def verify_coals(all_optimized_Seats,winning_coal_dict): \n",
    "    test_dict={}\n",
    "    errors= {}\n",
    "    \n",
    "    for year, yearly_matching in all_optimized_Seats.items(): \n",
    "            yearly_optimized_Seats= yearly_matching\n",
    "            yearly_mw_winning_dict = help_test_mvws(yearly_optimized_Seats)\n",
    "            test_boolean,wrong_coals = test_mvws(year,winning_coal_dict,yearly_mw_winning_dict)\n",
    "            test_dict[year]=test_boolean\n",
    "            errors[year]=wrong_coals\n",
    "    return test_dict,errors\n",
    "def help_test_mvws(optimized_seats):\n",
    "    '''helper function for test_mvws'''\n",
    "    ## creates dict just like winning_coal_dict but from mvw´s, used later to ensure equivalency of games \n",
    "    ## takes in dict from mvw_to_parties and uses same logic as coalition_combinatorics_generator and win_coals but for dicts\n",
    "    \n",
    "    mw_winning_coal_dict = {}\n",
    "    total_seats = sum(optimized_seats.values()) #new Q\n",
    "    parties = list(optimized_seats.keys())\n",
    "\n",
    "    # Generate all unique coalitions\n",
    "    mw_winning_coal_dict[''] = 0 #add empty coal manually \n",
    "    for r in range(1, len(parties) + 1):\n",
    "        for combo in itertools.combinations(parties, r):\n",
    "            coalition = '+'.join(combo) #name of coalition \n",
    "            coalition_seats = sum(optimized_seats[party] for party in combo) #seats is sum of their weights \n",
    "            mw_winning_coal_dict[coalition] = 1 if coalition_seats > (total_seats / 2) else 0 #indicate winning or losing (again, with strict inequality)\n",
    "\n",
    "    return mw_winning_coal_dict\n",
    "\n",
    "\n",
    "def test_mvws(year, winning_coal_dict, mw_winning_coal_dict):\n",
    "    ## takes in mw_winning_coal_dict and compares it to winning_coal_dict[year] \n",
    "    ## if the set of coalitions is the same and if all coalitions have the same value, the game is identical and thus the mvs represent the same game as the original parliament \n",
    "    ## returns boolean as well as dict with errors:\n",
    "    winning_coals_by_year = {coalition: value for (yr, coalition), value in winning_coal_dict.items() if yr == year} # bit convoluted since I need 'year' twice, basically just separates the relevant year from the winning_coal_dict\n",
    "    errors = {}\n",
    "    # Compare \n",
    "    for coalition, value in winning_coals_by_year.items():\n",
    "        if coalition not in mw_winning_coal_dict or mw_winning_coal_dict[coalition] != value:\n",
    "            errors[(year,coalition)]=(value,mw_winning_coal_dict.get(coalition,'not in here')) #writes to a coalition the value from the winning coal and the min_winning_coal (or indicates that the coal is not actually mi-w)\n",
    "    check = len(errors)==0\n",
    "    return check, errors"
   ]
  },
  {
   "cell_type": "code",
   "execution_count": 6,
   "metadata": {},
   "outputs": [],
   "source": [
    "test_dict={}\n",
    "test_dict['A']=23\n",
    "test_dict['B']=15\n",
    "test_dict['C']=13\n",
    "test_dict['D']=11\n",
    "test_dict['E']=9\n",
    "test_dict['F']=8\n",
    "test_dict['G']=4\n",
    "test_dict['H']=2\n",
    "test_dict['I']=1"
   ]
  },
  {
   "cell_type": "code",
   "execution_count": 25,
   "metadata": {},
   "outputs": [
    {
     "data": {
      "text/plain": [
       "{('2001', 'A+B+G+H'): (0, 1),\n",
       " ('2001', 'A+D+F+I'): (1, 0),\n",
       " ('2001', 'A+E+F+G'): (0, 1),\n",
       " ('2001', 'A+E+F+H+I'): (1, 0)}"
      ]
     },
     "execution_count": 25,
     "metadata": {},
     "output_type": "execute_result"
    }
   ],
   "source": [
    "alt_dict=help_test_mvws(test_dict)\n",
    "check,errors =test_mvws('2001',kurz_data.winning_coal_dict,alt_dict)\n",
    "(errors)"
   ]
  },
  {
   "cell_type": "code",
   "execution_count": 26,
   "metadata": {},
   "outputs": [
    {
     "data": {
      "text/plain": [
       "{'2001': 86, '2002': 86, '2003': 86, '2004': 430, '2005': 258, '2006': 344}"
      ]
     },
     "execution_count": 26,
     "metadata": {},
     "output_type": "execute_result"
    }
   ],
   "source": [
    "kurz_data.totalseats_in_year"
   ]
  },
  {
   "cell_type": "markdown",
   "metadata": {},
   "source": [
    "test the kron data set: "
   ]
  },
  {
   "cell_type": "code",
   "execution_count": 28,
   "metadata": {},
   "outputs": [
    {
     "name": "stdout",
     "output_type": "stream",
     "text": [
      "0.6056113243103027\n"
     ]
    }
   ],
   "source": [
    "start_time=time.time()\n",
    "krohn_data = getMVWs('krohn.csv', name='krohn_example', save_results=True,verify_mwcs=True,encoding='UTF-8',delimiter=',')\n",
    "prelims = krohn_data.preliminaries()\n",
    "country_MIW = krohn_data.minimal_voting_weights_pipeline()\n",
    "end_time=time.time()\n",
    "duration_Verify=end_time-start_time\n",
    "\n",
    "print(duration_Verify)"
   ]
  },
  {
   "cell_type": "code",
   "execution_count": 38,
   "metadata": {},
   "outputs": [
    {
     "name": "stdout",
     "output_type": "stream",
     "text": [
      "Tested 1.37% of 73 elements in 0.00 seconds\n",
      "Tested 2.74% of 73 elements in 0.01 seconds\n",
      "Tested 4.11% of 73 elements in 0.01 seconds\n",
      "Tested 5.48% of 73 elements in 0.01 seconds\n",
      "Tested 6.85% of 73 elements in 0.01 seconds\n",
      "Tested 8.22% of 73 elements in 0.01 seconds\n",
      "Tested 9.59% of 73 elements in 0.02 seconds\n",
      "Tested 10.96% of 73 elements in 0.02 seconds\n",
      "Tested 12.33% of 73 elements in 0.02 seconds\n",
      "Tested 13.70% of 73 elements in 0.02 seconds\n",
      "Tested 15.07% of 73 elements in 0.02 seconds\n",
      "Tested 16.44% of 73 elements in 0.02 seconds\n",
      "Tested 17.81% of 73 elements in 0.03 seconds\n",
      "Tested 19.18% of 73 elements in 0.03 seconds\n",
      "Tested 20.55% of 73 elements in 0.03 seconds\n",
      "Tested 21.92% of 73 elements in 0.03 seconds\n",
      "Tested 23.29% of 73 elements in 0.03 seconds\n",
      "Tested 24.66% of 73 elements in 0.03 seconds\n",
      "Tested 26.03% of 73 elements in 0.04 seconds\n",
      "Tested 27.40% of 73 elements in 0.04 seconds\n",
      "Tested 28.77% of 73 elements in 0.04 seconds\n",
      "Tested 30.14% of 73 elements in 0.04 seconds\n",
      "Tested 31.51% of 73 elements in 0.04 seconds\n",
      "Tested 32.88% of 73 elements in 0.04 seconds\n",
      "Tested 34.25% of 73 elements in 0.04 seconds\n",
      "Tested 35.62% of 73 elements in 0.04 seconds\n",
      "Tested 36.99% of 73 elements in 0.04 seconds\n",
      "Tested 38.36% of 73 elements in 0.04 seconds\n",
      "Tested 39.73% of 73 elements in 0.04 seconds\n",
      "Tested 41.10% of 73 elements in 0.06 seconds\n",
      "Tested 42.47% of 73 elements in 0.06 seconds\n",
      "Tested 43.84% of 73 elements in 0.06 seconds\n",
      "Tested 45.21% of 73 elements in 0.06 seconds\n",
      "Tested 46.58% of 73 elements in 0.06 seconds\n",
      "Tested 47.95% of 73 elements in 0.06 seconds\n",
      "Tested 49.32% of 73 elements in 0.07 seconds\n",
      "Tested 50.68% of 73 elements in 0.07 seconds\n",
      "Tested 52.05% of 73 elements in 0.07 seconds\n",
      "Tested 53.42% of 73 elements in 0.07 seconds\n",
      "Tested 54.79% of 73 elements in 0.07 seconds\n",
      "Tested 56.16% of 73 elements in 0.07 seconds\n",
      "Tested 57.53% of 73 elements in 0.07 seconds\n",
      "Tested 58.90% of 73 elements in 0.07 seconds\n",
      "Tested 60.27% of 73 elements in 0.07 seconds\n",
      "Tested 61.64% of 73 elements in 0.07 seconds\n",
      "Tested 63.01% of 73 elements in 0.07 seconds\n",
      "Tested 64.38% of 73 elements in 0.07 seconds\n",
      "Tested 65.75% of 73 elements in 0.09 seconds\n",
      "Tested 67.12% of 73 elements in 0.09 seconds\n",
      "Tested 68.49% of 73 elements in 0.09 seconds\n",
      "Tested 69.86% of 73 elements in 0.09 seconds\n",
      "Tested 71.23% of 73 elements in 0.09 seconds\n",
      "Tested 72.60% of 73 elements in 0.09 seconds\n",
      "Tested 73.97% of 73 elements in 0.09 seconds\n",
      "Tested 75.34% of 73 elements in 0.09 seconds\n",
      "Tested 76.71% of 73 elements in 0.09 seconds\n",
      "Tested 78.08% of 73 elements in 0.11 seconds\n",
      "Tested 79.45% of 73 elements in 0.11 seconds\n",
      "Tested 80.82% of 73 elements in 0.11 seconds\n",
      "Tested 82.19% of 73 elements in 0.11 seconds\n",
      "Tested 83.56% of 73 elements in 0.11 seconds\n",
      "Tested 84.93% of 73 elements in 0.11 seconds\n",
      "Tested 86.30% of 73 elements in 0.11 seconds\n",
      "Tested 87.67% of 73 elements in 0.11 seconds\n",
      "Tested 89.04% of 73 elements in 0.11 seconds\n",
      "Tested 90.41% of 73 elements in 0.12 seconds\n",
      "Tested 91.78% of 73 elements in 0.12 seconds\n",
      "Tested 93.15% of 73 elements in 0.13 seconds\n",
      "Tested 94.52% of 73 elements in 0.13 seconds\n",
      "Tested 95.89% of 73 elements in 0.13 seconds\n",
      "Tested 97.26% of 73 elements in 0.13 seconds\n",
      "Tested 98.63% of 73 elements in 0.13 seconds\n",
      "Tested 100.00% of 73 elements in 0.14 seconds\n"
     ]
    }
   ],
   "source": [
    "alt_weights=collect_all_representations(krohn_data.all_min_weights.get('2003'), year='2003', n_in_year = krohn_data.n_in_year, constraints_df = krohn_data.all_constraints.get('2003'))"
   ]
  },
  {
   "cell_type": "code",
   "execution_count": 39,
   "metadata": {},
   "outputs": [
    {
     "data": {
      "text/plain": [
       "[array([13,  7,  6,  6,  4,  4,  4,  3,  2]),\n",
       " array([13,  7,  6,  6,  4,  4,  4,  2,  3])]"
      ]
     },
     "execution_count": 39,
     "metadata": {},
     "output_type": "execute_result"
    }
   ],
   "source": [
    "(alt_weights)"
   ]
  }
 ],
 "metadata": {
  "kernelspec": {
   "display_name": "base",
   "language": "python",
   "name": "python3"
  },
  "language_info": {
   "codemirror_mode": {
    "name": "ipython",
    "version": 3
   },
   "file_extension": ".py",
   "mimetype": "text/x-python",
   "name": "python",
   "nbconvert_exporter": "python",
   "pygments_lexer": "ipython3",
   "version": "3.11.5"
  }
 },
 "nbformat": 4,
 "nbformat_minor": 2
}
